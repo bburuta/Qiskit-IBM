{
 "cells": [
  {
   "attachments": {},
   "cell_type": "markdown",
   "id": "35533bd4",
   "metadata": {
    "formulas": {
     "d-disc": {
      "meaning": "The discriminator is a parameterized function that attempts to distinguish real from fake data.",
      "say": "D (or discriminator)"
     },
     "discriminator-unitary": {
      "meaning": "The discriminator function.",
      "say": "discriminator"
     },
     "generator-unitary": {
      "meaning": "The generator function.",
      "say": "generator"
     },
     "pr": {
      "meaning": "Probability of this statement occurring.",
      "say": "Probability"
     },
     "sigma-p": {
      "meaning": "An arbitrary Pauli gate.",
      "say": "Sigma p"
     },
     "theta-d": {
      "meaning": "The discriminator's parameters.",
      "say": "Theta sub d"
     },
     "theta-g": {
      "meaning": "The generator's parameters.",
      "say": "Theta sub g"
     },
     "trace": {
      "meaning": "Trace of matrix (sum of the diagonal elements).",
      "say": "Trace"
     },
     "u-sub-d": {
      "meaning": "The discriminator unitary.",
      "say": "U sub D"
     },
     "u-sub-r": {
      "meaning": "A unitary operator that converts the ground state into the encoded state.",
      "say": "U sub R"
     },
     "z_expectation": {
      "meaning": "The expected value of the Z measurement outputs.",
      "say": "Z expectation"
     }
    },
    "gloss": {
     "adversarial": {
      "text": "An adversarial network competes against itself.",
      "title": "Adversarial"
     },
     "auxiliary": {
      "text": "Auxiliary qubits are helper qubits that do not contain useful information before or after the computation.",
      "title": "Auxiliary"
     },
     "capacity": {
      "text": "Having sufficient representational power.",
      "title": "Circuit capacity"
     },
     "endian": {
      "text": "Qiskit orders qubits with the most-significant bit first (just like we do with digits). <a href='https://en.wikipedia.org/wiki/Bit_numbering'>Read more</a>.",
      "title": "Bit numbering"
     },
     "epoch": {
      "text": "Updates done over the entire dataset.",
      "title": "Epoch"
     },
     "expectation-value": {
      "text": "The expectation value is what we’d expect to measure if we averaged out a large number of results.",
      "title": "Expectation value"
     },
     "expressible": {
      "text": "The expressibility of a circuit is the extent to which the states it generates deviate from the uniform distribution.",
      "title": "Circuit expressiblity"
     },
     "fermionic": {
      "text": "Fermions are particles with half integer spins (e.g. electrons). <a href='https://en.wikipedia.org/wiki/Fermion'>Read more</a>.",
      "title": "Fermionic"
     },
     "gaussian-distribution": {
      "text": "Also known as a ‘normal distribution’. <a href='https://en.wikipedia.org/wiki/Normal_distribution'>Read more</a>.",
      "title": "Gaussian distribution"
     },
     "heuristics": {
      "text": "An approach to solving a problem that uses our best guesses rather than strict analytic derivations.",
      "title": "Heuristics"
     },
     "hyperparameter": {
      "text": "A hyperparameter is a parameter that we use to control our algorithm. The ‘hyper’ distinguishes it from the parameters (theta) that our algorithm is trying to find.",
      "title": "Hyperparameter"
     },
     "latent-space": {
      "text": "An embedding of information in a lower dimensional space. <a href='https://towardsdatascience.com/understanding-latent-space-in-machine-learning-de5a7c687d8d'>Read more</a>.",
      "title": "Latent space"
     },
     "minimax": {
      "text": "An optimization problem in which one attempts to solve competing objectives, to minimize one function and maximize one function. <a href='https://en.wikipedia.org/wiki/Minimax'>Read more</a>.",
      "title": "Minimax"
     },
     "opflowqnn": {
      "text": "A function provided in the <code>quantum_machine_learning</code> package. <a href='https://qiskit.org/documentation/machine-learning/stubs/qiskit_machine_learning.neural_networks.OpflowQNN.html'>Read more</a>.",
      "title": "OpFlowQNN"
     },
     "tensorflow-keras": {
      "text": "Tensorflow is a machine-learning library, and Keras is a deep-learning library built on Tensorflow. <a href='https://www.tensorflow.org/'>Read more</a>.",
      "title": "TensorFlow Keras"
     },
     "wave-function": {
      "text": "The wave function describes the state of our quantum system.",
      "title": "Wave function"
     }
    }
   },
   "source": [
    "# Quantum Generative Adversarial Networks"
   ]
  },
  {
   "attachments": {},
   "cell_type": "markdown",
   "id": "dc364349",
   "metadata": {},
   "source": [
    "## Introduction\n",
    "\n",
    "Generative [adversarial](gloss:adversarial) networks (GANs) [[1]](https://arxiv.org/abs/1406.2661) have swiftly risen to prominence as one of the most widely-adopted methods for unsupervised learning, with showcased abilities in photo-realistic image generation. Given the success of classical GANs, a natural question is whether this success will translate into a quantum computing GAN. In this page, we explore the theory behind quantum generative adversarial networks (QGANs), as well as the practice of implementing one in Qiskit to learn a [Gaussian distribution](gloss:gaussian-distribution). Lastly, we end off with a discussion around the potential use cases of quantum generative adversarial networks and links to relevant research for those who want to read further.\n",
    "\n",
    "## Classical generative models (theory)\n",
    "\n",
    "### Generative models\n",
    "\n",
    "Until recently, the success of supervised learning models has completely overshadowed their generative counterparts. So much so that the popularity of these supervised models might make it difficult to even conceptualize another approach to machine learning.\n",
    "\n",
    "The supervised approach, which feels intuitive to us by now, tries to make accurate predictions on new data, demonstrating that it has learned some underlying relations of the dataset. Generative models are different. Instead of focusing on key relationships between input data and labels, they learn to model the underlying distribution holistically, allowing it to generate new data samples. It's the difference between telling apart cats and dogs, and generating completely new images of cats and dogs. The latter is a richer but more difficult task.\n",
    "\n",
    "Why is it more difficult? Adequately discriminating between given data can often be achieved through picking up on a few tell-tale features (like whiskers don't belong on eyes) to help form strong decision boundaries in the high dimensional space. Consequently, machine learning researchers take great interest in generative models as these learning tasks seem to stab at a deeper notion of learning—trying to reproduce the underlying *creator* function.\n",
    "\n",
    "So given a pool of training data, the goal of a generative model is to learn/reproduce the probability distribution that generated them. A particularly eye-catching application of GANs is generating [high-resolution visuals](https://thispersondoesnotexist.com/) or [composing music](https://magenta.tensorflow.org/gansynth). Below is a generated image of a fake cat.\n",
    "\n",
    "![computer-generated image of a cat](https://thiscatdoesnotexist.com)\n",
    "\n",
    "<!-- ::: q-block.exercise -->\n",
    "\n",
    "### Quick quiz\n",
    "\n",
    "<!-- ::: q-quiz(goal=\"qml-qgan-0\") -->\n",
    "\n",
    "<!-- ::: .question -->\n",
    "\n",
    "What would be the most appropriate learning task for a generative model?\n",
    "\n",
    "<!-- ::: -->\n",
    "\n",
    "<!-- ::: .option(correct) -->\n",
    "\n",
    "1. Producing images of handwritten digits\n",
    "\n",
    "<!-- ::: -->\n",
    "\n",
    "<!-- ::: .option -->\n",
    "\n",
    "2. Classifying incoming emails as 'spam' or 'not spam'\n",
    "\n",
    "<!-- ::: -->\n",
    "\n",
    "<!-- ::: .option -->\n",
    "\n",
    "3. Predicting stock prices\n",
    "\n",
    "<!-- ::: -->\n",
    "\n",
    "<!-- ::: .option -->\n",
    "\n",
    "4. Recommending optimal movies\n",
    "\n",
    "<!-- ::: -->\n",
    "\n",
    "<!-- ::: -->\n",
    "\n",
    "<!-- ::: -->"
   ]
  },
  {
   "attachments": {},
   "cell_type": "markdown",
   "id": "cdb1f887",
   "metadata": {
    "jp-MarkdownHeadingCollapsed": true,
    "tags": []
   },
   "source": [
    "### Generative adversarial networks\n",
    "A particular class of generative models—generative adversarial networks (GANs)—have witnessed a boom in popularity since they were first proposed in 2014 by Goodfellow I., *et al.* [[1]](https://arxiv.org/abs/1406.2661). To understand the quantum analogue, we first briefly discuss the concept behind classical generative adversarial networks.\n",
    "\n",
    "Briefly put, GANs use a pair of neural networks pitted against each other—the generator and the discriminator.\n",
    "\n",
    "### The generator\n",
    "\n",
    "The generator's primary aim is to create fake data samples that are convincing enough for the discriminator to label them as real. With each training step, the generator improves at this, until it has near complete overlap  to the fixed distribution of real data.\n",
    "\n",
    "To allow the generator to explore a rich space of output non-deterministically, a random noise vector drawn from a [latent space](gloss:latent-space) is fed into the generator as input (usually sampled from a Gaussian distribution). The generator succeeds once it learns to map most points in the latent space (Gaussian noise) onto convincing fake data samples fitting the real distribution.\n",
    "\n",
    "*At the start of training, the latent space is a meaningless n-dimensional Gaussian distribution. But, as the generator evolves, the generator learns to map the noise vectors in the latent space to valid data in the objective dataset.*\n",
    "\n",
    "### The discriminator\n",
    "\n",
    "The discriminator receives data samples from both the generator and the real distribution (not knowing which is which), and its task is to correctly classify the input data samples as fake or real.\n",
    "\n",
    "Note how the discriminator's objective is directly opposed to its' counterpart. While the discriminator tries to minimize the probability of misclassifying the fake data as real, the generator tries to maximize it.\n",
    "![Flowchart of a generative adversarial network](images/qgan/gan_general_flow.svg)\n",
    "\n",
    "### Convergence\n",
    "\n",
    "The GAN finishes training once the generator consistently generates convincing data samples indistinguishable to the real data distribution, leaving the discriminator unable to reasonably decipher between the two. Formally, this point is referred to as the Nash equilibrium (from game theory), at which the generator produces data that corresponds to the real probability distribution, and the *trained* discriminator resorts to guessing between fake or real (50% accuracy).\n",
    "\n",
    "A common analogy between GANs and art theft brings the concept into frame. The generator is often seen as a fake artist trying to produce paintings identical to those found in the museum. The art expert's objective (discriminator) is to tell apart the generator's fake art from the real art.\n",
    "Applied to this analogy, the discriminator assesses the paintings' authenticity while the generator creates the best fakes to fool it. The zero-sum game pushes the two networks to constantly one-up each other. Each improvement of the generator in creating convincing data, is bested by the discriminator's update in improved classification, and vice versa.\n",
    "\n",
    "![gan_analogy](images/qgan/gan_analogy.png)\n",
    "\n",
    "<!-- ::: q-block.exercise -->\n",
    "\n",
    "### Quick quiz\n",
    "\n",
    "<!-- ::: q-quiz(goal=\"qml-qgan-1\") -->\n",
    "\n",
    "<!-- ::: .question -->\n",
    "\n",
    "Once the GAN reaches Nash Equilibrium...\n",
    "\n",
    "<!-- ::: -->\n",
    "\n",
    "<!-- ::: .option(correct) -->\n",
    "\n",
    "1. The discriminator randomly guesses fake/real with equal probability\n",
    "\n",
    "<!-- ::: -->\n",
    "\n",
    "<!-- ::: .option -->\n",
    "\n",
    "2. The generator returns to producing noise\n",
    "\n",
    "<!-- ::: -->\n",
    "\n",
    "<!-- ::: .option -->\n",
    "\n",
    "3. The GAN reaches a common failure mode, and the training process must be restarted\n",
    "\n",
    "<!-- ::: -->\n",
    "\n",
    "<!-- ::: .option -->\n",
    "\n",
    "4. The discriminator guesses that all samples are real\n",
    "\n",
    "<!-- ::: -->\n",
    "\n",
    "<!-- ::: -->\n",
    "\n",
    "<!-- ::: -->"
   ]
  },
  {
   "attachments": {},
   "cell_type": "markdown",
   "id": "b13a292e",
   "metadata": {
    "tags": []
   },
   "source": [
    "## Quantum Generative Adversarial Networks (theory)\n",
    "\n",
    "In 2018, two companion papers (Ref. [[2]](https://journals.aps.org/pra/abstract/10.1103/PhysRevA.98.012324), [[3]](https://journals.aps.org/prl/abstract/10.1103/PhysRevLett.121.040502)) brought the idea of GANs to the quantum domain. On a high level, quantum generative adversarial networks (QGANs) equip either the discriminator, the generator, or both with [parameterized quantum circuits](./paramterized-quantum-circuits) with the goal of learning some quantum or classical data. In this chapter, we discuss the fully quantum version of QGANs (quantum generator, quantum discriminator), keeping in mind that the broader principles apply across other types of QGANs.\n",
    "\n",
    "![QGAN past work landscape](images/qgan/past_work_landscape.svg)\n",
    "Image from Ref. [5](https://arxiv.org/abs/1901.00848)\n",
    "\n",
    "There are many analogous concepts, specifically with the adversarial training, between GANs and QGANs. Most importantly, the training structure of GANs largely persists to QGANs. We alternately train the generator & discriminator circuit parameters, while freezing the other's parameters. Through this, the quantum generator learns the target quantum state by proxy of the discriminator's signals, similar to GANs. It's proven that the [stable equilibrium](https://en.wikipedia.org/wiki/Nash_equilibrium) of the quantum adversarial game also occurs when the generator produces data identical to a target distribution [[3]](https://journals.aps.org/prl/abstract/10.1103/PhysRevLett.121.040502).\n",
    "\n",
    "The objective of a fully quantum QGAN is for the quantum generator to reproduce a desired state $|\\psi\\rangle$, of course using an adversarial training strategy. Similar to other variational quantum algorithms, the quantum generator moves towards this through an iterative update to its parameters directed by a classical optimizer. However, in the case of a QGAN, the generator's cost function landscape evolves and becomes better as the discriminator improves at recognizing real samples. Let's look at the general circuit schematics of what we will be building.\n",
    "\n",
    "![real_rig](images/qgan/real_rig.svg)\n",
    "\n",
    "![fake_rig](images/qgan/fake_rig.svg)\n",
    "\n",
    "It is worth noting that although we only consider one register each for both the generator and discriminator, we could also add an [auxiliary](gloss:auxiliary) \"workspace\" register to both the generator and discriminator. "
   ]
  },
  {
   "attachments": {},
   "cell_type": "markdown",
   "id": "c293984e",
   "metadata": {},
   "source": [
    "The two circuits illustrated above show the generator concatenated with the discriminator and the unitary loading the target data concatenated with the discriminator.\n",
    "\n",
    "The discriminator acts on the output from the generator, respectively, the target data unitary, as well as an additional qubit $|0\\rangle$. Finally, the discriminator classification takes place by measuring the last qubit. If the outcome corresponds to $|0\\rangle$ or $|1\\rangle$, the input data is being classified as real or fake respectively.\n",
    "\n",
    "Looking at the first circuit diagram shows us how real data samples are fed into the discriminator. Since we are dealing with a fully quantum QGAN, we need to somehow encode this data of ours into a quantum state to feed into the discriminator. To that end, we prepare the real data through a unitary $\\class{u-sub-r}{U_R}$ such that we define:\n",
    "\n",
    "$$|\\text{Data}_R\\rangle= U_R|0\\rangle^{\\otimes n}$$\n",
    "\n",
    "which is then fed to the parameterized discriminator $\\class{u-sub-d}{U}_{D(\\class{theta-d}{\\vec{\\theta_D}})}$ (possibly containing an auxiliary register), and then measured to arrive at the discriminator's score on real data.\n",
    "It is worth noting that $U_{D(\\class{theta-d}{\\vec{\\theta_D}})}$ contains several 2-qubit entangling gates to \"transmit\" relevant features of the real data to the discriminator's register (workspace). Formalized, the unitary evolution is:\n",
    "\n",
    "$$\\class{u-sub-d}{U}_{D(\\class{theta-d}{\\vec{\\theta_D}})}(|\\text{Data}_R\\rangle \\otimes |0\\rangle)$$\n",
    "\n",
    "where $\\class{theta-d}{\\vec{\\theta_D}}$ is the parameter vector that is updated through a classical optimizer to minimize the [expectation value](gloss:expectation-value) of the last qubit (equivalent to maximizing the probability of the discriminator classifying real data as $|\\text{real}\\rangle$).\n",
    "\n",
    "In the second circuit, a generated [wave function](gloss:wave-function) aimed to mimic the real one is fed into the discriminator. In other words, the fake quantum state prepared by $U_{G(\\class{theta-g}{\\vec{\\theta_G}})}$, parameterized by $\\class{theta-g}{\\vec{\\theta_G}}$, is applied on the initial state $|0^{\\otimes n}\\rangle$, giving us:\n",
    "\n",
    "$$|\\text{Data}_G\\rangle = U_{G(\\class{theta-g}{\\vec{\\theta_G}})}|0^{\\otimes n}\\rangle$$\n",
    "\n",
    "`{latex}|\\text{Data}_G\\rangle` is then fed to the discriminator parameterized by `{latex}\\class{theta-d}{\\vec{\\theta_D}}`. So taking the expectation value of the observable `{latex}I^{\\otimes n}Z` on `{latex}U_{D(\\class{theta-d}{\\vec{\\theta_D}})}(|\\text{Data}_G\\rangle  \\otimes |0\\rangle)` gives us the discriminator's score on fake data. \n",
    "\n",
    "It is worth reiterating that $\\langle \\text{fake} | Z  | \\text{fake} \\rangle = 1$, meaning the discriminator \"believes\" a given sample to be wholly fake, the expectation value $Z$ with respect to the last qubit will be equal to 1. It then follows naturally that the discriminator would want to correctly \"assign\" $|0\\rangle$ to fake samples and $|1\\rangle$ to real samples. The inverse is true for the generator. For it, the optimal scenario would be if the discriminator was completely convinced that its generated quantum state was real, thereby assigning it a $|1\\rangle$. We can formalize these adversarial incentives into the following [minimax](gloss:minimax) decision rule (adapted from [reference 2](https://journals.aps.org/pra/abstract/10.1103/PhysRevA.98.012324)):\n",
    "\n",
    "$$\\underset{\\class{theta-g}{\\vec{\\theta_G}}}{\\min}\\underset{\\class{theta-d}{\\vec{\\theta_D}}}{\\max}\n",
    "\\hspace{3pt} \\Bigg(\\class{pr}{\\text{Pr}}\\bigg(\\class{d-disc}{D}(\\class{theta-d}{\\vec{\\theta_D}}, R) = |\\text{real}\\rangle\\bigg) +  \\hspace{2pt} \\class{pr}{\\text{Pr}}\\bigg(\\class{d-disc}{D}(\\class{theta-d}{\\vec{\\theta_D}}, G(\\class{theta-g}{\\vec{\\theta_G}})) = |\\text{fake}\\rangle\\bigg)\\Bigg)$$\n",
    "\n",
    "<!-- ::: q-block.exercise -->\n",
    "\n",
    "### Quick quiz\n",
    "\n",
    "<!-- ::: q-quiz(goal=\"qml-qgan-2\") -->\n",
    "\n",
    "<!-- ::: .question -->\n",
    "\n",
    "Quiz question: How do we obtain the probability of a given data sample being real, as assigned by the discriminator? Let $\\langle Z \\rangle$ be the expectation value of $Z$ with respect to the last qubit.\n",
    "\n",
    "<!-- ::: -->\n",
    "\n",
    "<!-- ::: .option -->\n",
    "\n",
    "1. $\\langle Z\\rangle + 1$\n",
    "\n",
    "<!-- ::: -->\n",
    "\n",
    "<!-- ::: .option -->\n",
    "\n",
    "2. $\\langle Z\\rangle + 1/2$\n",
    "\n",
    "<!-- ::: -->\n",
    "\n",
    "<!-- ::: .option(correct) -->\n",
    "\n",
    "3. $\\frac{\\langle Z \\rangle + 1}{2}$\n",
    "\n",
    "<!-- ::: -->\n",
    "\n",
    "<!-- ::: .option -->\n",
    "\n",
    "4. $2^{\\langle Z \\rangle}$\n",
    "\n",
    "<!-- ::: -->\n",
    "\n",
    "<!-- ::: -->\n",
    "\n",
    "Hint: the Z-expectation value is bounded between $[-1, 1]$\n",
    "\n",
    "<!-- ::: -->"
   ]
  },
  {
   "attachments": {},
   "cell_type": "markdown",
   "id": "951faa09",
   "metadata": {
    "tags": []
   },
   "source": [
    "## Full implementation I\n",
    "\n",
    "### Learning a 2 qubit Bell state\n",
    "\n",
    "Equipped with the adequate theoretical foundation, we can now build an actual QGAN to learn the 2 qubit Bell state through Qiskit! First, we import the standard libraries."
   ]
  },
  {
   "cell_type": "code",
   "execution_count": 110,
   "id": "40df879a",
   "metadata": {
    "tags": []
   },
   "outputs": [],
   "source": [
    "import numpy as np\n",
    "from qiskit import QuantumCircuit\n",
    "from qiskit_aer import Aer\n",
    "from qiskit.visualization import plot_histogram"
   ]
  },
  {
   "cell_type": "code",
   "execution_count": 111,
   "id": "921a9982",
   "metadata": {},
   "outputs": [],
   "source": [
    "from qiskit_ibm_runtime import QiskitRuntimeService\n",
    "from qiskit_ibm_runtime.fake_provider import FakeSherbrooke\n",
    "from qiskit.transpiler.preset_passmanagers import generate_preset_pass_manager\n",
    "\n",
    "from qiskit_aer import Aer\n",
    "\n",
    "service = QiskitRuntimeService(channel='ibm_quantum')\n",
    "#backend = service.least_busy(min_num_qubits=127)\n",
    "backend = service.backend(\"ibm_sherbrooke\")\n",
    "\n",
    "pm = generate_preset_pass_manager(optimization_level=3, backend=backend)\n",
    "\n",
    "# Simulator\n",
    "##backend = Aer.get_backend('aer_simulator')\n",
    "###backend = FakeSherbrooke()\n",
    "\n",
    "###pm = generate_preset_pass_manager(optimization_level=3, backend=backend)\n"
   ]
  },
  {
   "attachments": {},
   "cell_type": "markdown",
   "id": "e2b5d880",
   "metadata": {},
   "source": [
    "### Defining the real distribution\n",
    "\n",
    "The 2 qubit Bell state is a maximally entangled quantum state, the specific state vector we're interested to reproduce is\n",
    "$|\\psi\\rangle = \\frac{1}{\\sqrt{2}}(|00\\rangle + |11\\rangle) $\n",
    "Which can be constructed by applying a CNOT gate followed by a Hadamard."
   ]
  },
  {
   "cell_type": "code",
   "execution_count": 112,
   "id": "baf1fd1c",
   "metadata": {},
   "outputs": [],
   "source": [
    "# Number of qubits needed to model real distribution\n",
    "REAL_DIST_NQUBITS = 2\n",
    "real_circuit = QuantumCircuit(REAL_DIST_NQUBITS)\n",
    "real_circuit.h(0)\n",
    "real_circuit.cx(0, 1)\n",
    "\n",
    "real_circuit_meas = QuantumCircuit(REAL_DIST_NQUBITS)\n",
    "real_circuit_meas.h(0)\n",
    "real_circuit_meas.cx(0, 1)\n",
    "real_circuit_meas.measure_all()\n",
    "isa_real_circuit_meas = pm.run(real_circuit_meas)"
   ]
  },
  {
   "attachments": {},
   "cell_type": "markdown",
   "id": "8efc46f6",
   "metadata": {},
   "source": [
    "<!--- TODO: Widget: mini composer Have them compose Bell state of interest defined above. Stops when constructs properly --->\n",
    "\n",
    "### Defining the variational quantum generator and discriminator\n",
    "\n",
    "We now define the generator ansatz.\n",
    "\n",
    "Given the primal nature of existing research into QGANs, the community has not yet settled into any optimal generator or discriminator ansatzes. On that note, most of the [hyperparameters](gloss:hyperparameter) chosen in quantum machine learning are still driven by loose [heuristics](gloss:heuristics), and there's a lot still to be explored.\n",
    "\n",
    "It's worth mentioning that whichever ansatz we choose for the generator, it must have enough [capacity](gloss:capacity) and be [expressible](gloss:expressible) enough to fully reproduce the real quantum state $|\\psi\\rangle$ defined earlier. So, although the ansatz used here is a little arbitrary, we are confident that it is plenty expressive for the Bell state we are trying to model."
   ]
  },
  {
   "cell_type": "code",
   "execution_count": 113,
   "id": "f972ba5a",
   "metadata": {},
   "outputs": [],
   "source": [
    "# Import qiskit machine learning parameters\n",
    "from qiskit.circuit import ParameterVector"
   ]
  },
  {
   "attachments": {},
   "cell_type": "markdown",
   "id": "c7804cea",
   "metadata": {},
   "source": [
    "Here, we use the `TwoLocal` class to create an ansatz for the variational quantum generator with single qubit gates $RY$ and $RZ$, paired with the entangling gate $CZ$."
   ]
  },
  {
   "cell_type": "code",
   "execution_count": 114,
   "id": "3d4b6867",
   "metadata": {},
   "outputs": [
    {
     "data": {
      "text/html": [
       "<pre style=\"word-wrap: normal;white-space: pre;background: #fff0;line-height: 1.1;font-family: &quot;Courier New&quot;,Courier,monospace\">     ┌────────────┐┌────────────┐   ┌────────────┐┌────────────┐   »\n",
       "q_0: ┤ Ry(θ_g[0]) ├┤ Rz(θ_g[2]) ├─■─┤ Ry(θ_g[4]) ├┤ Rz(θ_g[6]) ├─■─»\n",
       "     ├────────────┤├────────────┤ │ ├────────────┤├────────────┤ │ »\n",
       "q_1: ┤ Ry(θ_g[1]) ├┤ Rz(θ_g[3]) ├─■─┤ Ry(θ_g[5]) ├┤ Rz(θ_g[7]) ├─■─»\n",
       "     └────────────┘└────────────┘   └────────────┘└────────────┘   »\n",
       "«     ┌────────────┐┌─────────────┐\n",
       "«q_0: ┤ Ry(θ_g[8]) ├┤ Rz(θ_g[10]) ├\n",
       "«     ├────────────┤├─────────────┤\n",
       "«q_1: ┤ Ry(θ_g[9]) ├┤ Rz(θ_g[11]) ├\n",
       "«     └────────────┘└─────────────┘</pre>"
      ],
      "text/plain": [
       "     ┌────────────┐┌────────────┐   ┌────────────┐┌────────────┐   »\n",
       "q_0: ┤ Ry(θ_g[0]) ├┤ Rz(θ_g[2]) ├─■─┤ Ry(θ_g[4]) ├┤ Rz(θ_g[6]) ├─■─»\n",
       "     ├────────────┤├────────────┤ │ ├────────────┤├────────────┤ │ »\n",
       "q_1: ┤ Ry(θ_g[1]) ├┤ Rz(θ_g[3]) ├─■─┤ Ry(θ_g[5]) ├┤ Rz(θ_g[7]) ├─■─»\n",
       "     └────────────┘└────────────┘   └────────────┘└────────────┘   »\n",
       "«     ┌────────────┐┌─────────────┐\n",
       "«q_0: ┤ Ry(θ_g[8]) ├┤ Rz(θ_g[10]) ├\n",
       "«     ├────────────┤├─────────────┤\n",
       "«q_1: ┤ Ry(θ_g[9]) ├┤ Rz(θ_g[11]) ├\n",
       "«     └────────────┘└─────────────┘"
      ]
     },
     "execution_count": 114,
     "metadata": {},
     "output_type": "execute_result"
    }
   ],
   "source": [
    "from qiskit.circuit.library import TwoLocal\n",
    "generator = TwoLocal(REAL_DIST_NQUBITS,\n",
    "                     # Parameterized single qubit rotations\n",
    "                     ['ry', 'rz'],\n",
    "                     'cz',  # Entangling gate\n",
    "                     'full', # Entanglement structure: all to all\n",
    "                     reps=2, # Number of layers\n",
    "                     parameter_prefix='θ_g',\n",
    "                     name='Generator')\n",
    "generator = generator.decompose() # decompose into standard gates\n",
    "\n",
    "generator_meas = TwoLocal(REAL_DIST_NQUBITS,\n",
    "                     # Parameterized single qubit rotations\n",
    "                     ['ry', 'rz'],\n",
    "                     'cz',  # Entangling gate\n",
    "                     'full', # Entanglement structure: all to all\n",
    "                     reps=2, # Number of layers\n",
    "                     parameter_prefix='θ_g',\n",
    "                     name='Generator')\n",
    "generator_meas = generator_meas.decompose()\n",
    "generator_meas.measure_all()\n",
    "isa_generator_meas = pm.run(generator_meas)\n",
    "\n",
    "\n",
    "generator.draw()\n"
   ]
  },
  {
   "attachments": {},
   "cell_type": "markdown",
   "id": "9af80d19",
   "metadata": {},
   "source": [
    "### Variational quantum discriminator\n",
    "\n",
    "We now define the ansatz for the discriminator. In this case, instead of using [`TwoLocal`](https://qiskit.org/documentation/stubs/qiskit.circuit.library.TwoLocal.html#qiskit.circuit.library.TwoLocal), we create a custom ansatz with a [`ParameterVector`](https://qiskit.org/documentation/stubs/qiskit.circuit.ParameterVector.html)."
   ]
  },
  {
   "cell_type": "code",
   "execution_count": 115,
   "id": "1477e6dd",
   "metadata": {},
   "outputs": [
    {
     "data": {
      "text/html": [
       "<pre style=\"word-wrap: normal;white-space: pre;background: #fff0;line-height: 1.1;font-family: &quot;Courier New&quot;,Courier,monospace\">      ░     ┌───┐     ┌────────────┐┌────────────┐┌────────────┐          »\n",
       "q_0: ─░─────┤ H ├─────┤ Rx(θ_d[0]) ├┤ Ry(θ_d[1]) ├┤ Rz(θ_d[2]) ├──■───────»\n",
       "      ░ ┌───┴───┴────┐├────────────┤├────────────┤└────────────┘  │       »\n",
       "q_1: ─░─┤ Rx(θ_d[3]) ├┤ Ry(θ_d[4]) ├┤ Rz(θ_d[5]) ├────────────────┼────■──»\n",
       "      ░ ├────────────┤├────────────┤├────────────┤              ┌─┴─┐┌─┴─┐»\n",
       "q_2: ─░─┤ Rx(θ_d[6]) ├┤ Ry(θ_d[7]) ├┤ Rz(θ_d[8]) ├──────────────┤ X ├┤ X ├»\n",
       "      ░ └────────────┘└────────────┘└────────────┘              └───┘└───┘»\n",
       "«                                                 \n",
       "«q_0: ────────────────────────────────────────────\n",
       "«                                                 \n",
       "«q_1: ────────────────────────────────────────────\n",
       "«     ┌────────────┐┌─────────────┐┌─────────────┐\n",
       "«q_2: ┤ Rx(θ_d[9]) ├┤ Ry(θ_d[10]) ├┤ Rz(θ_d[11]) ├\n",
       "«     └────────────┘└─────────────┘└─────────────┘</pre>"
      ],
      "text/plain": [
       "      ░     ┌───┐     ┌────────────┐┌────────────┐┌────────────┐          »\n",
       "q_0: ─░─────┤ H ├─────┤ Rx(θ_d[0]) ├┤ Ry(θ_d[1]) ├┤ Rz(θ_d[2]) ├──■───────»\n",
       "      ░ ┌───┴───┴────┐├────────────┤├────────────┤└────────────┘  │       »\n",
       "q_1: ─░─┤ Rx(θ_d[3]) ├┤ Ry(θ_d[4]) ├┤ Rz(θ_d[5]) ├────────────────┼────■──»\n",
       "      ░ ├────────────┤├────────────┤├────────────┤              ┌─┴─┐┌─┴─┐»\n",
       "q_2: ─░─┤ Rx(θ_d[6]) ├┤ Ry(θ_d[7]) ├┤ Rz(θ_d[8]) ├──────────────┤ X ├┤ X ├»\n",
       "      ░ └────────────┘└────────────┘└────────────┘              └───┘└───┘»\n",
       "«                                                 \n",
       "«q_0: ────────────────────────────────────────────\n",
       "«                                                 \n",
       "«q_1: ────────────────────────────────────────────\n",
       "«     ┌────────────┐┌─────────────┐┌─────────────┐\n",
       "«q_2: ┤ Rx(θ_d[9]) ├┤ Ry(θ_d[10]) ├┤ Rz(θ_d[11]) ├\n",
       "«     └────────────┘└─────────────┘└─────────────┘"
      ]
     },
     "execution_count": 115,
     "metadata": {},
     "output_type": "execute_result"
    }
   ],
   "source": [
    "disc_weights = ParameterVector('θ_d', 12)\n",
    "discriminator = QuantumCircuit(3, name=\"Discriminator\")\n",
    "discriminator.barrier()\n",
    "discriminator.h(0)\n",
    "discriminator.rx(disc_weights[0], 0)\n",
    "discriminator.ry(disc_weights[1], 0)\n",
    "discriminator.rz(disc_weights[2], 0)\n",
    "discriminator.rx(disc_weights[3], 1)\n",
    "discriminator.ry(disc_weights[4], 1)\n",
    "discriminator.rz(disc_weights[5], 1)\n",
    "discriminator.rx(disc_weights[6], 2)\n",
    "discriminator.ry(disc_weights[7], 2)\n",
    "discriminator.rz(disc_weights[8], 2)\n",
    "discriminator.cx(0, 2)\n",
    "discriminator.cx(1, 2)\n",
    "discriminator.rx(disc_weights[9], 2)\n",
    "discriminator.ry(disc_weights[10], 2)\n",
    "discriminator.rz(disc_weights[11], 2)\n",
    "discriminator.draw()"
   ]
  },
  {
   "attachments": {},
   "cell_type": "markdown",
   "id": "3315ed20",
   "metadata": {},
   "source": [
    "### Compiling the QGAN\n",
    "\n",
    "With all our components in place, we now construct the two circuits forming the QGAN. The first feeds generated quantum state into the discriminator and the second is comprised of the discriminator applied on the real state. *It is easy to see how this circuit fulfills the general schematic we outlined earlier.*"
   ]
  },
  {
   "cell_type": "code",
   "execution_count": 116,
   "id": "4a8b9a8a",
   "metadata": {},
   "outputs": [
    {
     "data": {
      "image/png": "[encoded data removed]",
      "text/plain": [
       "<Figure size 2001.78x367.889 with 1 Axes>"
      ]
     },
     "execution_count": 116,
     "metadata": {},
     "output_type": "execute_result"
    }
   ],
   "source": [
    "N_GPARAMS = generator.num_parameters\n",
    "N_DPARAMS = discriminator.num_parameters\n",
    "# Need extra qubit for the discriminator\n",
    "gen_disc_circuit = QuantumCircuit(REAL_DIST_NQUBITS+1)\n",
    "gen_disc_circuit.compose(generator, inplace=True)\n",
    "gen_disc_circuit.compose(discriminator, inplace=True)\n",
    "\n",
    "gen_disc_circuit.measure_all()\n",
    "\n",
    "isa_gen_disc_circuit = pm.run(gen_disc_circuit)\n",
    "\n",
    "gen_disc_circuit.draw('mpl')"
   ]
  },
  {
   "attachments": {},
   "cell_type": "markdown",
   "id": "4c492e03",
   "metadata": {},
   "source": [
    "A natural question to ask at this point is: why isn't there any noise fed into the generator? As you may recall, in the classical GAN, the latent space was an essential ingredient. If there was no noise for the classical GAN, then it would be impossible for the generator to represent a complete distribution since with each update to its parameters, it would be restricted to output one sample given its deterministic nature. But consider, that in the quantum case, since we are feeding the whole 'fake' wave function directly to the discriminator, the role that noise would play is much less obvious. With or without noise, the variational quantum generator is capable of directly modelling the wave function of interest, so long as the ansatz is of adequate capacity.\n",
    "\n",
    "With that said, there may still be benefits to equipping the variational quantum generator with a latent space of its own. In fact, [reference 5](https://arxiv.org/abs/1901.00848) presents a method to allow the quantum generator to model continuous distributions using a latent space as input. But to keep it simple, we will still omit feeding noise into the variational quantum generator.\n",
    "\n",
    "Below, we define the parameterized circuit linking the target distribution with the variational discriminator."
   ]
  },
  {
   "cell_type": "code",
   "execution_count": 117,
   "id": "eb1ffed6",
   "metadata": {},
   "outputs": [
    {
     "data": {
      "text/html": [
       "<pre style=\"word-wrap: normal;white-space: pre;background: #fff0;line-height: 1.1;font-family: &quot;Courier New&quot;,Courier,monospace\">        ┌───┐      ░     ┌───┐     ┌────────────┐┌────────────┐┌────────────┐»\n",
       "   q_0: ┤ H ├──■───░─────┤ H ├─────┤ Rx(θ_d[0]) ├┤ Ry(θ_d[1]) ├┤ Rz(θ_d[2]) ├»\n",
       "        └───┘┌─┴─┐ ░ ┌───┴───┴────┐├────────────┤├────────────┤└────────────┘»\n",
       "   q_1: ─────┤ X ├─░─┤ Rx(θ_d[3]) ├┤ Ry(θ_d[4]) ├┤ Rz(θ_d[5]) ├──────────────»\n",
       "             └───┘ ░ ├────────────┤├────────────┤├────────────┤              »\n",
       "   q_2: ───────────░─┤ Rx(θ_d[6]) ├┤ Ry(θ_d[7]) ├┤ Rz(θ_d[8]) ├──────────────»\n",
       "                   ░ └────────────┘└────────────┘└────────────┘              »\n",
       "meas: 3/═════════════════════════════════════════════════════════════════════»\n",
       "                                                                             »\n",
       "«                                                               ░ ┌─┐      \n",
       "«   q_0: ──■────────────────────────────────────────────────────░─┤M├──────\n",
       "«          │                                                    ░ └╥┘┌─┐   \n",
       "«   q_1: ──┼────■───────────────────────────────────────────────░──╫─┤M├───\n",
       "«        ┌─┴─┐┌─┴─┐┌────────────┐┌─────────────┐┌─────────────┐ ░  ║ └╥┘┌─┐\n",
       "«   q_2: ┤ X ├┤ X ├┤ Rx(θ_d[9]) ├┤ Ry(θ_d[10]) ├┤ Rz(θ_d[11]) ├─░──╫──╫─┤M├\n",
       "«        └───┘└───┘└────────────┘└─────────────┘└─────────────┘ ░  ║  ║ └╥┘\n",
       "«meas: 3/══════════════════════════════════════════════════════════╩══╩══╩═\n",
       "«                                                                  0  1  2 </pre>"
      ],
      "text/plain": [
       "        ┌───┐      ░     ┌───┐     ┌────────────┐┌────────────┐┌────────────┐»\n",
       "   q_0: ┤ H ├──■───░─────┤ H ├─────┤ Rx(θ_d[0]) ├┤ Ry(θ_d[1]) ├┤ Rz(θ_d[2]) ├»\n",
       "        └───┘┌─┴─┐ ░ ┌───┴───┴────┐├────────────┤├────────────┤└────────────┘»\n",
       "   q_1: ─────┤ X ├─░─┤ Rx(θ_d[3]) ├┤ Ry(θ_d[4]) ├┤ Rz(θ_d[5]) ├──────────────»\n",
       "             └───┘ ░ ├────────────┤├────────────┤├────────────┤              »\n",
       "   q_2: ───────────░─┤ Rx(θ_d[6]) ├┤ Ry(θ_d[7]) ├┤ Rz(θ_d[8]) ├──────────────»\n",
       "                   ░ └────────────┘└────────────┘└────────────┘              »\n",
       "meas: 3/═════════════════════════════════════════════════════════════════════»\n",
       "                                                                             »\n",
       "«                                                               ░ ┌─┐      \n",
       "«   q_0: ──■────────────────────────────────────────────────────░─┤M├──────\n",
       "«          │                                                    ░ └╥┘┌─┐   \n",
       "«   q_1: ──┼────■───────────────────────────────────────────────░──╫─┤M├───\n",
       "«        ┌─┴─┐┌─┴─┐┌────────────┐┌─────────────┐┌─────────────┐ ░  ║ └╥┘┌─┐\n",
       "«   q_2: ┤ X ├┤ X ├┤ Rx(θ_d[9]) ├┤ Ry(θ_d[10]) ├┤ Rz(θ_d[11]) ├─░──╫──╫─┤M├\n",
       "«        └───┘└───┘└────────────┘└─────────────┘└─────────────┘ ░  ║  ║ └╥┘\n",
       "«meas: 3/══════════════════════════════════════════════════════════╩══╩══╩═\n",
       "«                                                                  0  1  2 "
      ]
     },
     "execution_count": 117,
     "metadata": {},
     "output_type": "execute_result"
    }
   ],
   "source": [
    "real_disc_circuit = QuantumCircuit(REAL_DIST_NQUBITS+1)\n",
    "real_disc_circuit.compose(real_circuit, inplace=True)\n",
    "real_disc_circuit.compose(discriminator, inplace=True)\n",
    "\n",
    "real_disc_circuit.measure_all()\n",
    "\n",
    "isa_real_disc_circuit = pm.run(real_disc_circuit)\n",
    "\n",
    "real_disc_circuit.draw()"
   ]
  },
  {
   "attachments": {},
   "cell_type": "markdown",
   "id": "30613b6d",
   "metadata": {},
   "source": [
    "### Constructing the cost function\n",
    "\n",
    "Remember the minimax decision rule we formulated earlier,\n",
    "\n",
    "$$\\underset{\\class{theta-g}{\\vec{\\theta_G}}}{\\min}\\underset{\\class{theta-d}{\\vec{\\theta_D}}}{\\max}\n",
    "\\hspace{3pt} \\Bigg(\\class{pr}{\\text{Pr}}\\bigg(\\class{d-theta}{D(\\class{theta-d}{\\vec{\\theta_D}}, R)} = |\\text{real}\\rangle\\bigg) +  \\hspace{2pt} \\class{pr}{\\text{Pr}}\\bigg(D(\\class{theta-d}{\\vec{\\theta_D}}, G(\\class{theta-g}{\\vec{\\theta_G}})) = |\\text{fake}\\rangle\\bigg)\\Bigg)$$\n",
    "\n",
    "Constructing a loss function for both the discriminator and generator is now trivial. Starting with the discriminator, we have\n",
    "\n",
    "$$\\text{Cost}_D = \\class{pr}{\\text{Pr}}\\bigg(D(\\class{theta-d}{\\vec{\\theta_D}}, G(\\class{theta-g}{\\vec{\\theta_G}})) = |\\text{real}\\rangle\\bigg) - \\class{pr}{\\text{Pr}}\\bigg(D(\\class{theta-d}{\\vec{\\theta_D}}, R) = |\\text{real}\\rangle\\bigg)$$.\n",
    "\n",
    "Minimizing this entails maximizing the probability of correctly classifying real data while minimizing the probability of mistakenly classifying fake data.\n",
    "As a hallmark of vanilla GANs, the generator’s cost function will simply be the negation of the discriminator’s cost, where the optimal strategy is to maximize the probability of the discriminator misclassifying fake data. We omit the term concerning the real quantum state since the generator's weights leave no effect on it.\n",
    "\n",
    "$$\\text{Cost}_G =  - \\class{pr}{\\text{Pr}}\\bigg(D(\\class{theta-d}{\\vec{\\theta_D}}, G(\\class{theta-g}{\\vec{\\theta_G}})) = |\\text{real}\\rangle\\bigg)$$\n",
    "\n",
    "We now implement the above cost functions. Note that after accessing the respective probabilities of each basis state, we arrive at the total probability of a given sample being classified as $|\\text{real}\\rangle = |1\\rangle$ by summing over each basis state that satisfies $|XX1\\rangle$ (any state with last qubit measured as $|1\\rangle$). However, do note the reverse ordering given Qiskit's [endian](gloss:endian) resulting in $|1XX\\rangle$."
   ]
  },
  {
   "cell_type": "code",
   "execution_count": 118,
   "id": "eb4e2173",
   "metadata": {},
   "outputs": [],
   "source": [
    "# We'll use Statevector to retrieve statevector of given circuit\n",
    "from qiskit.quantum_info import Statevector\n",
    "import tensorflow as tf\n",
    "\n",
    "def generator_cost(gen_params):\n",
    "    \"\"\"Generator cost function for the optimizer to minimize.\"\"\"\n",
    "    # .numpy() method extracts numpy array from TF tensor\n",
    "    curr_params = np.append(disc_params.numpy(),\n",
    "                            gen_params.numpy())\n",
    "    gendisc_bound = isa_gen_disc_circuit.assign_parameters(curr_params)\n",
    "    # Run circuit using the sampler\n",
    "    job = sampler.run([gendisc_bound])\n",
    "    result = job.result()\n",
    "    # Get counts\n",
    "    gendisc_counts = result[0].data.meas.get_bitstrings()\n",
    "    # Get counts that measured |1> on q2\n",
    "    gendisc_q2_counts = [b for b in gendisc_counts if b[0] == '1']\n",
    "    # Get total prob of measuring |1> on q2\n",
    "    prob_fake_true = len(gendisc_q2_counts) / len(gendisc_counts)\n",
    "    cost = -prob_fake_true\n",
    "    return cost\n",
    "\n",
    "def discriminator_cost(disc_params):\n",
    "    \"\"\"Discriminator cost function for the optimizer to minimize.\"\"\"\n",
    "    # .numpy() method extracts numpy array from TF tensor\n",
    "    curr_params = np.append(disc_params.numpy(),\n",
    "                            gen_params.numpy())\n",
    "    # Assign parameters to both circuits\n",
    "    gendisc_bound = isa_gen_disc_circuit.assign_parameters(curr_params)\n",
    "    realdisc_bound = isa_real_disc_circuit.assign_parameters(disc_params.numpy())\n",
    "    # Run both circuits using the sampler\n",
    "    job = sampler.run([gendisc_bound, realdisc_bound])\n",
    "    result = job.result()\n",
    "    # Get counts for both circuits\n",
    "    gendisc_counts = result[0].data.meas.get_bitstrings()\n",
    "    realdisc_counts = result[1].data.meas.get_bitstrings()\n",
    "    # Get counts that measured |1> on q2\n",
    "    gendisc_q2_counts = [b for b in gendisc_counts if b[0] == '1']\n",
    "    realdisc_q2_counts = [b for b in realdisc_counts if b[0] == '1']\n",
    "    # Get total prob of measuring |1> on q2\n",
    "    prob_fake_true = len(gendisc_q2_counts) / len(gendisc_counts)\n",
    "    prob_real_true = len(realdisc_q2_counts) / len(realdisc_counts)\n",
    "    cost = prob_fake_true - prob_real_true\n",
    "    return cost"
   ]
  },
  {
   "attachments": {},
   "cell_type": "markdown",
   "id": "179962d2",
   "metadata": {},
   "source": [
    "We now define a helper function to calculate the [Kullback-Leibler divergence](https://en.wikipedia.org/wiki/Kullback%E2%80%93Leibler_divergence) between the model and target distribution. This is a common metric used to track the generator's progress while training since it effectively measures the distance between two distributions. A lower KL divergence indicates that the two distributions are similar, with a KL of 0 implying equivalence."
   ]
  },
  {
   "cell_type": "code",
   "execution_count": 119,
   "id": "7d3a46dc",
   "metadata": {
    "tags": []
   },
   "outputs": [],
   "source": [
    "def calculate_kl_div(model_counts: dict, target_counts: dict):\n",
    "    \"\"\"Gauge model performance using Kullback Leibler Divergence\"\"\"\n",
    "    kl_div = 0\n",
    "    for bitstring, data in target_counts.items():\n",
    "        p_data = data / sum(target_counts.values())\n",
    "        if np.isclose(p_data, 0, atol=1e-8):\n",
    "            continue\n",
    "        if bitstring in model_counts.keys():\n",
    "            p_model = model_counts[bitstring] / sum(model_counts.values())\n",
    "            kl_div += (p_data * np.log(p_data)\n",
    "                 - p_data * np.log(p_model))\n",
    "        else:\n",
    "            kl_div += p_data * np.log(p_data) - p_data * np.log(1e-6)\n",
    "    return kl_div"
   ]
  },
  {
   "attachments": {},
   "cell_type": "markdown",
   "id": "6fe9bf55",
   "metadata": {
    "tags": []
   },
   "source": [
    "### CircuitQNN\n",
    "\n",
    "For simplicity, we use the [`CircuitQNN`](https://qiskit.org/documentation/machine-learning/stubs/qiskit_machine_learning.neural_networks.CircuitQNN.html) that compiles the parameterized circuit and handles calculation of the gradient recipes. Calling the `forward()` method also directly outputs the probability state vectors of the circuit."
   ]
  },
  {
   "cell_type": "code",
   "execution_count": 120,
   "id": "ca60c04f",
   "metadata": {},
   "outputs": [],
   "source": [
    "# from qiskit_machine_learning.neural_networks import SamplerQNN\n",
    "# from qiskit_ibm_runtime import SamplerV2 as Sampler\n",
    "# #downgrade to qiskit 1.x so is compatible with qiskit-machien-learning 0.8.2\n",
    "\n",
    "\n",
    "# sampler = Sampler(mode=backend)\n",
    "\n",
    "# # specify QNN to update generator weights\n",
    "# gen_qnn = SamplerQNN(circuit=gen_disc_circuit,  # parameterized circuit\n",
    "#                      # frozen input arguements (discriminator weights)\n",
    "#                      input_params=gen_disc_circuit.parameters[:N_DPARAMS],\n",
    "#                      # differentiable weights (generator weights)\n",
    "#                      weight_params=gen_disc_circuit.parameters[N_DPARAMS:],\n",
    "#                      sparse=True, # returns sparse probability vector\n",
    "#                      sampler=sampler,\n",
    "#                      pass_manager=pm)\n",
    "\n",
    "# # specify QNNs to update discriminator weights\n",
    "# disc_fake_qnn = SamplerQNN(circuit=gen_disc_circuit, # parameterized circuit\n",
    "#                            # frozen input arguments (generator weights)\n",
    "#                            input_params=gen_disc_circuit.parameters[N_DPARAMS:],\n",
    "#                            # differentiable weights (discrim. weights)\n",
    "#                            weight_params=gen_disc_circuit.parameters[:N_DPARAMS],\n",
    "#                            sparse=True, # get sparse probability vector\n",
    "#                            sampler=sampler,\n",
    "#                            pass_manager=pm)\n",
    "\n",
    "# disc_real_qnn = SamplerQNN(circuit=real_disc_circuit, # parameterized circuit\n",
    "#                            input_params=[], # no input parameters\n",
    "#                            # differentiable weights (discrim. weights)\n",
    "#                            weight_params=gen_disc_circuit.parameters[:N_DPARAMS],\n",
    "#                            sparse=True, # get sparse probability vector\n",
    "#                            sampler=sampler,\n",
    "#                            pass_manager=pm)"
   ]
  },
  {
   "attachments": {},
   "cell_type": "markdown",
   "id": "6537d4bf",
   "metadata": {},
   "source": [
    "Here, we use [TensorFlow Keras](gloss:tensorflow-keras) to create an ADAM optimizer instance for both the generator and the discriminator. The ADAM optimizer is a widely-used optimizer in classical machine learning that uses momentum-based gradient updates. It is known to far outperform vanilla gradient descent.\n",
    "\n",
    "To use the Keras optimizer, we must store the weights as TF variables, which can be easily done through the `tf.Variable` method. We convert back into a `np.ndarray` using the `.numpy()` instance method on the `tf.Variable`."
   ]
  },
  {
   "cell_type": "code",
   "execution_count": 121,
   "id": "7770fa49",
   "metadata": {},
   "outputs": [],
   "source": [
    "import tensorflow as tf\n",
    "import pickle # to serialize and deserialize variables\n",
    "# Initialize parameters\n",
    "init_gen_params = np.random.uniform(low=-np.pi,\n",
    "                                    high=np.pi,\n",
    "                                    size=(N_GPARAMS,))\n",
    "init_disc_params = np.random.uniform(low=-np.pi,\n",
    "                                     high=np.pi,\n",
    "                                     size=(N_DPARAMS,))\n",
    "gen_params = tf.Variable(init_gen_params)\n",
    "disc_params = tf.Variable(init_disc_params)"
   ]
  },
  {
   "attachments": {},
   "cell_type": "markdown",
   "id": "d5659e5d",
   "metadata": {},
   "source": [
    "Let's look at our starting point for the generator created from  random weights."
   ]
  },
  {
   "cell_type": "code",
   "execution_count": 122,
   "id": "4b9d9358",
   "metadata": {
    "tags": []
   },
   "outputs": [
    {
     "data": {
      "image/png": "[encoded data removed]",
      "text/plain": [
       "<Figure size 640x480 with 1 Axes>"
      ]
     },
     "metadata": {},
     "output_type": "display_data"
    }
   ],
   "source": [
    "init_gen_circuit = generator.assign_parameters(init_gen_params)\n",
    "init_prob_dict = Statevector(init_gen_circuit).probabilities_dict()\n",
    "\n",
    "import matplotlib.pyplot as plt\n",
    "fig, ax1 = plt.subplots(1, 1, sharey=True)\n",
    "ax1.set_title(\"Initial generator distribution\")\n",
    "plot_histogram(init_prob_dict, ax=ax1)"
   ]
  },
  {
   "cell_type": "code",
   "execution_count": 123,
   "id": "2ac964a3",
   "metadata": {},
   "outputs": [],
   "source": [
    "# Initialize Adam optimizer from Keras\n",
    "generator_optimizer = tf.keras.optimizers.Adam(learning_rate=0.05)\n",
    "discriminator_optimizer = tf.keras.optimizers.Adam(learning_rate=0.05)"
   ]
  },
  {
   "attachments": {},
   "cell_type": "markdown",
   "id": "6e18b4bd",
   "metadata": {
    "tags": []
   },
   "source": [
    "### Training"
   ]
  },
  {
   "cell_type": "code",
   "execution_count": 124,
   "id": "002ab3f9",
   "metadata": {},
   "outputs": [],
   "source": [
    "# Initialize variables to track metrics while training\n",
    "best_gen_params = tf.Variable(init_gen_params)\n",
    "gloss = []\n",
    "dloss = []\n",
    "kl_div = []"
   ]
  },
  {
   "attachments": {},
   "cell_type": "markdown",
   "id": "f922c9d1",
   "metadata": {},
   "source": [
    "There are a few important points on the following training logic:\n",
    "\n",
    "1. The discriminator's weights are updated fivefold for each generator update. When dealing with classical GANs, it's also not uncommon to see an unbalanced number of training steps between the two networks. In this case, we arrive at a 5:1 ratio as a best practice through trial and error.\n",
    "\n",
    "2. The `backward()` method of `CircuitQNN` returns the gradients with respect to each weight for each basis state for each batch. In other words, the return shape of `CircuitQNN.backward(...)[1].todense()` is `(num_batches, num_basis_states, num_weights)`. So to arrive at the gradient for $\\text{Cost}_D$, we first sum over all the gradients for each basis state satisfying $|1XX\\rangle$, and then subtract them according to the $\\text{Cost}_D$ function. Recall that the linearity the derivative allows us to distribute it as implemented below.\n",
    "\n",
    "3. Due to the instability of GAN training, we store the best generator parameters."
   ]
  },
  {
   "cell_type": "code",
   "execution_count": 125,
   "id": "7c68f6fb",
   "metadata": {},
   "outputs": [
    {
     "name": "stdout",
     "output_type": "stream",
     "text": [
      "Epoch | Generator cost | Discriminator cost | KL Div. |\n",
      "Ejecuta fake\n"
     ]
    },
    {
     "ename": "QiskitMachineLearningError",
     "evalue": "\"Sampler job failed: 'Sampler job failed.'\"",
     "output_type": "error",
     "traceback": [
      "\u001b[0;31m---------------------------------------------------------------------------\u001b[0m",
      "\u001b[0;31mRuntimeJobFailureError\u001b[0m                    Traceback (most recent call last)",
      "File \u001b[0;32m~/miniconda3/envs/qiskit-ibm/lib/python3.10/site-packages/qiskit_machine_learning/gradients/param_shift/param_shift_sampler_gradient.py:117\u001b[0m, in \u001b[0;36mParamShiftSamplerGradient._run_unique\u001b[0;34m(self, circuits, parameter_values, parameters, **options)\u001b[0m\n\u001b[1;32m    116\u001b[0m \u001b[38;5;28;01mtry\u001b[39;00m:\n\u001b[0;32m--> 117\u001b[0m     results \u001b[38;5;241m=\u001b[39m \u001b[43mjob\u001b[49m\u001b[38;5;241;43m.\u001b[39;49m\u001b[43mresult\u001b[49m\u001b[43m(\u001b[49m\u001b[43m)\u001b[49m\n\u001b[1;32m    118\u001b[0m \u001b[38;5;28;01mexcept\u001b[39;00m \u001b[38;5;167;01mException\u001b[39;00m \u001b[38;5;28;01mas\u001b[39;00m exc:\n",
      "File \u001b[0;32m~/miniconda3/envs/qiskit-ibm/lib/python3.10/site-packages/qiskit_ibm_runtime/runtime_job_v2.py:137\u001b[0m, in \u001b[0;36mRuntimeJobV2.result\u001b[0;34m(self, timeout, decoder)\u001b[0m\n\u001b[1;32m    136\u001b[0m         \u001b[38;5;28;01mraise\u001b[39;00m RuntimeJobMaxTimeoutError(error_message)\n\u001b[0;32m--> 137\u001b[0m     \u001b[38;5;28;01mraise\u001b[39;00m RuntimeJobFailureError(\u001b[38;5;124mf\u001b[39m\u001b[38;5;124m\"\u001b[39m\u001b[38;5;124mUnable to retrieve job result. \u001b[39m\u001b[38;5;132;01m{\u001b[39;00merror_message\u001b[38;5;132;01m}\u001b[39;00m\u001b[38;5;124m\"\u001b[39m)\n\u001b[1;32m    138\u001b[0m \u001b[38;5;28;01mif\u001b[39;00m \u001b[38;5;28mself\u001b[39m\u001b[38;5;241m.\u001b[39m_status \u001b[38;5;241m==\u001b[39m \u001b[38;5;124m\"\u001b[39m\u001b[38;5;124mCANCELLED\u001b[39m\u001b[38;5;124m\"\u001b[39m:\n",
      "\u001b[0;31mRuntimeJobFailureError\u001b[0m: 'Unable to retrieve job result. Error code 1217; Session d0hy9szehmr0008gmvm0 has been closed'",
      "\nThe above exception was the direct cause of the following exception:\n",
      "\u001b[0;31mAlgorithmError\u001b[0m                            Traceback (most recent call last)",
      "File \u001b[0;32m~/miniconda3/envs/qiskit-ibm/lib/python3.10/site-packages/qiskit_machine_learning/neural_networks/sampler_qnn.py:527\u001b[0m, in \u001b[0;36mSamplerQNN._backward\u001b[0;34m(self, input_data, weights)\u001b[0m\n\u001b[1;32m    526\u001b[0m \u001b[38;5;28;01mtry\u001b[39;00m:\n\u001b[0;32m--> 527\u001b[0m     results \u001b[38;5;241m=\u001b[39m \u001b[43mjob\u001b[49m\u001b[38;5;241;43m.\u001b[39;49m\u001b[43mresult\u001b[49m\u001b[43m(\u001b[49m\u001b[43m)\u001b[49m\n\u001b[1;32m    528\u001b[0m \u001b[38;5;28;01mexcept\u001b[39;00m \u001b[38;5;167;01mException\u001b[39;00m \u001b[38;5;28;01mas\u001b[39;00m exc:\n",
      "File \u001b[0;32m~/miniconda3/envs/qiskit-ibm/lib/python3.10/site-packages/qiskit/primitives/primitive_job.py:51\u001b[0m, in \u001b[0;36mPrimitiveJob.result\u001b[0;34m(self)\u001b[0m\n\u001b[1;32m     50\u001b[0m \u001b[38;5;28mself\u001b[39m\u001b[38;5;241m.\u001b[39m_check_submitted()\n\u001b[0;32m---> 51\u001b[0m \u001b[38;5;28;01mreturn\u001b[39;00m \u001b[38;5;28;43mself\u001b[39;49m\u001b[38;5;241;43m.\u001b[39;49m\u001b[43m_future\u001b[49m\u001b[38;5;241;43m.\u001b[39;49m\u001b[43mresult\u001b[49m\u001b[43m(\u001b[49m\u001b[43m)\u001b[49m\n",
      "File \u001b[0;32m~/miniconda3/envs/qiskit-ibm/lib/python3.10/concurrent/futures/_base.py:458\u001b[0m, in \u001b[0;36mFuture.result\u001b[0;34m(self, timeout)\u001b[0m\n\u001b[1;32m    457\u001b[0m \u001b[38;5;28;01melif\u001b[39;00m \u001b[38;5;28mself\u001b[39m\u001b[38;5;241m.\u001b[39m_state \u001b[38;5;241m==\u001b[39m FINISHED:\n\u001b[0;32m--> 458\u001b[0m     \u001b[38;5;28;01mreturn\u001b[39;00m \u001b[38;5;28;43mself\u001b[39;49m\u001b[38;5;241;43m.\u001b[39;49m\u001b[43m__get_result\u001b[49m\u001b[43m(\u001b[49m\u001b[43m)\u001b[49m\n\u001b[1;32m    459\u001b[0m \u001b[38;5;28;01melse\u001b[39;00m:\n",
      "File \u001b[0;32m~/miniconda3/envs/qiskit-ibm/lib/python3.10/concurrent/futures/_base.py:403\u001b[0m, in \u001b[0;36mFuture.__get_result\u001b[0;34m(self)\u001b[0m\n\u001b[1;32m    402\u001b[0m \u001b[38;5;28;01mtry\u001b[39;00m:\n\u001b[0;32m--> 403\u001b[0m     \u001b[38;5;28;01mraise\u001b[39;00m \u001b[38;5;28mself\u001b[39m\u001b[38;5;241m.\u001b[39m_exception\n\u001b[1;32m    404\u001b[0m \u001b[38;5;28;01mfinally\u001b[39;00m:\n\u001b[1;32m    405\u001b[0m     \u001b[38;5;66;03m# Break a reference cycle with the exception in self._exception\u001b[39;00m\n",
      "File \u001b[0;32m~/miniconda3/envs/qiskit-ibm/lib/python3.10/concurrent/futures/thread.py:58\u001b[0m, in \u001b[0;36m_WorkItem.run\u001b[0;34m(self)\u001b[0m\n\u001b[1;32m     57\u001b[0m \u001b[38;5;28;01mtry\u001b[39;00m:\n\u001b[0;32m---> 58\u001b[0m     result \u001b[38;5;241m=\u001b[39m \u001b[38;5;28;43mself\u001b[39;49m\u001b[38;5;241;43m.\u001b[39;49m\u001b[43mfn\u001b[49m\u001b[43m(\u001b[49m\u001b[38;5;241;43m*\u001b[39;49m\u001b[38;5;28;43mself\u001b[39;49m\u001b[38;5;241;43m.\u001b[39;49m\u001b[43margs\u001b[49m\u001b[43m,\u001b[49m\u001b[43m \u001b[49m\u001b[38;5;241;43m*\u001b[39;49m\u001b[38;5;241;43m*\u001b[39;49m\u001b[38;5;28;43mself\u001b[39;49m\u001b[38;5;241;43m.\u001b[39;49m\u001b[43mkwargs\u001b[49m\u001b[43m)\u001b[49m\n\u001b[1;32m     59\u001b[0m \u001b[38;5;28;01mexcept\u001b[39;00m \u001b[38;5;167;01mBaseException\u001b[39;00m \u001b[38;5;28;01mas\u001b[39;00m exc:\n",
      "File \u001b[0;32m~/miniconda3/envs/qiskit-ibm/lib/python3.10/site-packages/qiskit_machine_learning/gradients/param_shift/param_shift_sampler_gradient.py:71\u001b[0m, in \u001b[0;36mParamShiftSamplerGradient._run\u001b[0;34m(self, circuits, parameter_values, parameters, **options)\u001b[0m\n\u001b[1;32m     68\u001b[0m g_circuits, g_parameter_values, g_parameters \u001b[38;5;241m=\u001b[39m \u001b[38;5;28mself\u001b[39m\u001b[38;5;241m.\u001b[39m_preprocess(\n\u001b[1;32m     69\u001b[0m     circuits, parameter_values, parameters, \u001b[38;5;28mself\u001b[39m\u001b[38;5;241m.\u001b[39mSUPPORTED_GATES\n\u001b[1;32m     70\u001b[0m )\n\u001b[0;32m---> 71\u001b[0m results \u001b[38;5;241m=\u001b[39m \u001b[38;5;28;43mself\u001b[39;49m\u001b[38;5;241;43m.\u001b[39;49m\u001b[43m_run_unique\u001b[49m\u001b[43m(\u001b[49m\u001b[43mg_circuits\u001b[49m\u001b[43m,\u001b[49m\u001b[43m \u001b[49m\u001b[43mg_parameter_values\u001b[49m\u001b[43m,\u001b[49m\u001b[43m \u001b[49m\u001b[43mg_parameters\u001b[49m\u001b[43m,\u001b[49m\u001b[43m \u001b[49m\u001b[38;5;241;43m*\u001b[39;49m\u001b[38;5;241;43m*\u001b[39;49m\u001b[43moptions\u001b[49m\u001b[43m)\u001b[49m\n\u001b[1;32m     72\u001b[0m \u001b[38;5;28;01mreturn\u001b[39;00m \u001b[38;5;28mself\u001b[39m\u001b[38;5;241m.\u001b[39m_postprocess(results, circuits, parameter_values, parameters)\n",
      "File \u001b[0;32m~/miniconda3/envs/qiskit-ibm/lib/python3.10/site-packages/qiskit_machine_learning/gradients/param_shift/param_shift_sampler_gradient.py:119\u001b[0m, in \u001b[0;36mParamShiftSamplerGradient._run_unique\u001b[0;34m(self, circuits, parameter_values, parameters, **options)\u001b[0m\n\u001b[1;32m    118\u001b[0m \u001b[38;5;28;01mexcept\u001b[39;00m \u001b[38;5;167;01mException\u001b[39;00m \u001b[38;5;28;01mas\u001b[39;00m exc:\n\u001b[0;32m--> 119\u001b[0m     \u001b[38;5;28;01mraise\u001b[39;00m AlgorithmError(\u001b[38;5;124m\"\u001b[39m\u001b[38;5;124mSampler job failed.\u001b[39m\u001b[38;5;124m\"\u001b[39m) \u001b[38;5;28;01mfrom\u001b[39;00m \u001b[38;5;21;01mexc\u001b[39;00m\n\u001b[1;32m    121\u001b[0m \u001b[38;5;66;03m# Compute the gradients.\u001b[39;00m\n",
      "\u001b[0;31mAlgorithmError\u001b[0m: 'Sampler job failed.'",
      "\nThe above exception was the direct cause of the following exception:\n",
      "\u001b[0;31mQiskitMachineLearningError\u001b[0m                Traceback (most recent call last)",
      "Cell \u001b[0;32mIn[125], line 45\u001b[0m\n\u001b[1;32m     42\u001b[0m \u001b[38;5;28;01mfor\u001b[39;00m disc_train_step \u001b[38;5;129;01min\u001b[39;00m \u001b[38;5;28mrange\u001b[39m(D_STEPS):\n\u001b[1;32m     43\u001b[0m     \u001b[38;5;66;03m# Partial derivatives wrt θ_D\u001b[39;00m\n\u001b[1;32m     44\u001b[0m     \u001b[38;5;28mprint\u001b[39m(\u001b[38;5;124m\"\u001b[39m\u001b[38;5;124mEjecuta fake\u001b[39m\u001b[38;5;124m\"\u001b[39m)\n\u001b[0;32m---> 45\u001b[0m     d_fake \u001b[38;5;241m=\u001b[39m \u001b[43mdisc_fake_qnn\u001b[49m\u001b[38;5;241;43m.\u001b[39;49m\u001b[43mbackward\u001b[49m\u001b[43m(\u001b[49m\u001b[43mgen_params\u001b[49m\u001b[43m,\u001b[49m\u001b[43m \u001b[49m\u001b[43mdisc_params\u001b[49m\n\u001b[1;32m     46\u001b[0m \u001b[43m                                \u001b[49m\u001b[43m)\u001b[49m[\u001b[38;5;241m1\u001b[39m]\u001b[38;5;241m.\u001b[39mtodense()[\u001b[38;5;241m0\u001b[39m, \u001b[38;5;241m0b100\u001b[39m:]\n\u001b[1;32m     47\u001b[0m     d_fake \u001b[38;5;241m=\u001b[39m np\u001b[38;5;241m.\u001b[39msum(d_fake, axis\u001b[38;5;241m=\u001b[39m\u001b[38;5;241m0\u001b[39m)\n\u001b[1;32m     49\u001b[0m     \u001b[38;5;28mprint\u001b[39m(\u001b[38;5;124m\"\u001b[39m\u001b[38;5;124mEjecuta real\u001b[39m\u001b[38;5;124m\"\u001b[39m)\n",
      "File \u001b[0;32m~/miniconda3/envs/qiskit-ibm/lib/python3.10/site-packages/qiskit_machine_learning/neural_networks/neural_network.py:257\u001b[0m, in \u001b[0;36mNeuralNetwork.backward\u001b[0;34m(self, input_data, weights)\u001b[0m\n\u001b[1;32m    255\u001b[0m input_, shape \u001b[38;5;241m=\u001b[39m \u001b[38;5;28mself\u001b[39m\u001b[38;5;241m.\u001b[39m_validate_input(input_data)\n\u001b[1;32m    256\u001b[0m weights_ \u001b[38;5;241m=\u001b[39m \u001b[38;5;28mself\u001b[39m\u001b[38;5;241m.\u001b[39m_validate_weights(weights)\n\u001b[0;32m--> 257\u001b[0m input_grad, weight_grad \u001b[38;5;241m=\u001b[39m \u001b[38;5;28;43mself\u001b[39;49m\u001b[38;5;241;43m.\u001b[39;49m\u001b[43m_backward\u001b[49m\u001b[43m(\u001b[49m\u001b[43minput_\u001b[49m\u001b[43m,\u001b[49m\u001b[43m \u001b[49m\u001b[43mweights_\u001b[49m\u001b[43m)\u001b[49m\n\u001b[1;32m    259\u001b[0m input_grad_reshaped, weight_grad_reshaped \u001b[38;5;241m=\u001b[39m \u001b[38;5;28mself\u001b[39m\u001b[38;5;241m.\u001b[39m_validate_backward_output(\n\u001b[1;32m    260\u001b[0m     input_grad, weight_grad, shape\n\u001b[1;32m    261\u001b[0m )\n\u001b[1;32m    263\u001b[0m \u001b[38;5;28;01mreturn\u001b[39;00m input_grad_reshaped, weight_grad_reshaped\n",
      "File \u001b[0;32m~/miniconda3/envs/qiskit-ibm/lib/python3.10/site-packages/qiskit_machine_learning/neural_networks/sampler_qnn.py:529\u001b[0m, in \u001b[0;36mSamplerQNN._backward\u001b[0;34m(self, input_data, weights)\u001b[0m\n\u001b[1;32m    527\u001b[0m             results \u001b[38;5;241m=\u001b[39m job\u001b[38;5;241m.\u001b[39mresult()\n\u001b[1;32m    528\u001b[0m         \u001b[38;5;28;01mexcept\u001b[39;00m \u001b[38;5;167;01mException\u001b[39;00m \u001b[38;5;28;01mas\u001b[39;00m exc:\n\u001b[0;32m--> 529\u001b[0m             \u001b[38;5;28;01mraise\u001b[39;00m QiskitMachineLearningError(\u001b[38;5;124mf\u001b[39m\u001b[38;5;124m\"\u001b[39m\u001b[38;5;124mSampler job failed: \u001b[39m\u001b[38;5;132;01m{\u001b[39;00mexc\u001b[38;5;132;01m}\u001b[39;00m\u001b[38;5;124m\"\u001b[39m) \u001b[38;5;28;01mfrom\u001b[39;00m \u001b[38;5;21;01mexc\u001b[39;00m\n\u001b[1;32m    531\u001b[0m         input_grad, weights_grad \u001b[38;5;241m=\u001b[39m \u001b[38;5;28mself\u001b[39m\u001b[38;5;241m.\u001b[39m_postprocess_gradient(num_samples, results)\n\u001b[1;32m    533\u001b[0m \u001b[38;5;28;01mreturn\u001b[39;00m input_grad, weights_grad\n",
      "\u001b[0;31mQiskitMachineLearningError\u001b[0m: \"Sampler job failed: 'Sampler job failed.'\""
     ]
    }
   ],
   "source": [
    "from qiskit_ibm_runtime import Session, Batch\n",
    "from qiskit_machine_learning.neural_networks import SamplerQNN\n",
    "from qiskit_ibm_runtime import SamplerV2 as Sampler\n",
    "#downgrade to qiskit 1.x so is compatible with qiskit-machien-learning 0.8.2\n",
    "\n",
    "with Session(backend=backend) as session:\n",
    "    sampler = Sampler(mode=session)\n",
    "\n",
    "    # specify QNN to update generator weights\n",
    "    gen_qnn = SamplerQNN(circuit=gen_disc_circuit,  # parameterized circuit\n",
    "                        # frozen input arguements (discriminator weights)\n",
    "                        input_params=gen_disc_circuit.parameters[:N_DPARAMS],\n",
    "                        # differentiable weights (generator weights)\n",
    "                        weight_params=gen_disc_circuit.parameters[N_DPARAMS:],\n",
    "                        sparse=True, # returns sparse probability vector\n",
    "                        sampler=sampler,\n",
    "                        pass_manager=pm)\n",
    "\n",
    "    # specify QNNs to update discriminator weights\n",
    "    disc_fake_qnn = SamplerQNN(circuit=gen_disc_circuit, # parameterized circuit\n",
    "                            # frozen input arguments (generator weights)\n",
    "                            input_params=gen_disc_circuit.parameters[N_DPARAMS:],\n",
    "                            # differentiable weights (discrim. weights)\n",
    "                            weight_params=gen_disc_circuit.parameters[:N_DPARAMS],\n",
    "                            sparse=True, # get sparse probability vector\n",
    "                            sampler=sampler,\n",
    "                            pass_manager=pm)\n",
    "\n",
    "    disc_real_qnn = SamplerQNN(circuit=real_disc_circuit, # parameterized circuit\n",
    "                            input_params=[], # no input parameters\n",
    "                            # differentiable weights (discrim. weights)\n",
    "                            weight_params=gen_disc_circuit.parameters[:N_DPARAMS],\n",
    "                            sparse=True, # get sparse probability vector\n",
    "                            sampler=sampler,\n",
    "                            pass_manager=pm)\n",
    "\n",
    "    TABLE_HEADERS = \"Epoch | Generator cost | Discriminator cost | KL Div. |\"\n",
    "    print(TABLE_HEADERS)\n",
    "    for epoch in range(5):\n",
    "        #--- Quantum discriminator parameter updates ---#\n",
    "        D_STEPS = 2 # N discriminator updates per generator update\n",
    "        for disc_train_step in range(D_STEPS):\n",
    "            # Partial derivatives wrt θ_D\n",
    "            print(\"Ejecuta fake\")\n",
    "            d_fake = disc_fake_qnn.backward(gen_params, disc_params\n",
    "                                        )[1].todense()[0, 0b100:]\n",
    "            d_fake = np.sum(d_fake, axis=0)\n",
    "\n",
    "            print(\"Ejecuta real\")\n",
    "            d_real = disc_real_qnn.backward([], disc_params\n",
    "                                        )[1].todense()[0, 0b100:]\n",
    "            d_real = np.sum(d_real, axis=0)\n",
    "            # Recall Cost_D structure\n",
    "            grad_dcost = [d_fake[i] - d_real[i] for i in range(N_DPARAMS)]\n",
    "            grad_dcost = tf.convert_to_tensor(grad_dcost)\n",
    "            # Update disc params with gradient\n",
    "            print(\"Ejecuta optimizador discriminador\")\n",
    "            discriminator_optimizer.apply_gradients(zip([grad_dcost],\n",
    "                                                        [disc_params]))\n",
    "            # Track discriminator loss\n",
    "            if disc_train_step % D_STEPS == 0:\n",
    "                print(\"Ejecuta pa calcular coste discriminador\")\n",
    "                dloss.append(discriminator_cost(disc_params))\n",
    "\n",
    "        #--- Quantum generator parameter updates ---#\n",
    "        for gen_train_step in range(1):\n",
    "            # Compute partial derivatives of prob(fake|true) wrt each\n",
    "            # generator weight\n",
    "            print(\"Ejecuta generador\")\n",
    "            grads = gen_qnn.backward(disc_params, gen_params)\n",
    "            grads = grads[1].todense()[0][0b100:]\n",
    "            # Recall Cost_G structure and the linearity of\n",
    "            # the derivative operation\n",
    "            grads = -np.sum(grads, axis=0)\n",
    "            grads = tf.convert_to_tensor(grads)\n",
    "            # Update gen params with gradient\n",
    "            print(\"Ejecuta optimizador generador\")\n",
    "            generator_optimizer.apply_gradients(zip([grads], [gen_params]))\n",
    "            print(\"Ejecuta pa calcular coste generador\")\n",
    "            gloss.append(generator_cost(gen_params))\n",
    "\n",
    "        #--- Track KL and save best performing generator weights ---#\n",
    "        # Create test circuit with updated gen parameters\n",
    "        print(\"Ejecuta pa resultados\")\n",
    "        gen_checkpoint_circuit = isa_generator_meas.assign_parameters(gen_params.numpy())\n",
    "        job = sampler.run([gen_checkpoint_circuit, isa_real_circuit_meas])\n",
    "        result = job.result()\n",
    "        # Get counts for both circuits\n",
    "        gendisc_counts = result[0].data.meas.get_counts()\n",
    "        realdisc_counts = result[1].data.meas.get_counts()\n",
    "\n",
    "        current_kl = calculate_kl_div(gendisc_counts, realdisc_counts)\n",
    "        kl_div.append(current_kl)\n",
    "        if np.min(kl_div) == current_kl:\n",
    "            # New best\n",
    "            # serialize & deserialize to simply ensure zero links\n",
    "            best_gen_params = pickle.loads(pickle.dumps(gen_params))\n",
    "        if epoch % 5 == 0:\n",
    "            # print table every 5 epochs\n",
    "            print()\n",
    "            for header, val in zip(TABLE_HEADERS.split('|'),\n",
    "                                (epoch, gloss[-1], dloss[-1], kl_div[-1])):\n",
    "                print(f\"{val:.3g} \".rjust(len(header)), end=\"|\")\n",
    "            print()\n",
    "        print(\".\", end=\"\")\n",
    "print(\"Training complete.\")"
   ]
  },
  {
   "attachments": {},
   "cell_type": "markdown",
   "id": "c8740474",
   "metadata": {
    "tags": []
   },
   "source": [
    "### Results visualized\n",
    "\n",
    "We plot the collected metrics to examine how the QGAN learned."
   ]
  },
  {
   "cell_type": "code",
   "execution_count": null,
   "id": "0d7754d4",
   "metadata": {
    "tags": []
   },
   "outputs": [
    {
     "data": {
      "image/png": "[encoded data removed]",
      "text/plain": [
       "<Figure size 600x400 with 2 Axes>"
      ]
     },
     "metadata": {},
     "output_type": "display_data"
    }
   ],
   "source": [
    "fig, (loss, kl) = plt.subplots(2, sharex=True,\n",
    "                               gridspec_kw={'height_ratios': [0.75, 1]},\n",
    "                               figsize=(6,4))\n",
    "fig.suptitle('QGAN training stats')\n",
    "fig.supxlabel('Training step')\n",
    "loss.plot(range(len(gloss)), gloss, label=\"Generator loss\")\n",
    "loss.plot(range(len(dloss)), dloss, label=\"Discriminator loss\",\n",
    "          color=\"C3\")\n",
    "loss.legend()\n",
    "loss.set(ylabel='Loss')\n",
    "kl.plot(range(len(kl_div)), kl_div, label=\"KL Divergence (zero is best)\",\n",
    "        color=\"C1\")\n",
    "kl.set(ylabel='KL Divergence')\n",
    "kl.legend()\n",
    "fig.tight_layout();"
   ]
  },
  {
   "cell_type": "code",
   "execution_count": null,
   "id": "0bac2d96",
   "metadata": {},
   "outputs": [
    {
     "data": {
      "image/png": "[encoded data removed]",
      "text/plain": [
       "<Figure size 1200x400 with 3 Axes>"
      ]
     },
     "metadata": {},
     "output_type": "display_data"
    }
   ],
   "source": [
    "# Create test circuit with new parameters\n",
    "gen_checkpoint_circuit = generator.assign_parameters(\n",
    "    best_gen_params.numpy())\n",
    "gen_prob_dict = Statevector(gen_checkpoint_circuit).probabilities_dict()\n",
    "real_prob_dict = Statevector(real_circuit).probabilities_dict() # constant\n",
    "fig, (ax1, ax2, ax3) = plt.subplots(1, 3, figsize=(12,4))\n",
    "plot_histogram(init_prob_dict, ax=ax1)\n",
    "ax1.set_title(\"Initial generator distribution\")\n",
    "plot_histogram(gen_prob_dict, ax=ax2)\n",
    "ax2.set_title(\"Trained generator distribution\")\n",
    "plot_histogram(real_prob_dict, ax=ax3)\n",
    "ax3.set_title(\"Real distribution\")\n",
    "fig.tight_layout()"
   ]
  },
  {
   "attachments": {},
   "cell_type": "markdown",
   "id": "1bfb97a9",
   "metadata": {},
   "source": [
    "With just 100 [epoch](gloss:epoch)s, we see that the generator has approximated the Bell state $|\\psi\\rangle$ quite well!\n",
    "\n",
    "Note that reproducing results from above may take a few runs. Due to the fragile nature of training two competing models at once, generative adversarial networks as a whole are notorious for failing to converge—and it is only amplified for QGANs given the lack of best practices. GANs (QGANs inclusive) often suffer from vanishing gradients, often caused by a discriminator that is too good.\n",
    "\n",
    "Another drawback of the adversarial training structure—albeit less prevalent with fully quantum QGANs—is mode collapse, the failure mode of GANs when the generator and discriminator get caught in a cat and mouse chase. The generator spams a certain sample that has a tendency to fool the discriminator, to which the discriminator adapts to over time, but the generator swiftly follows up yet again with another sample. [Learn more on remedies to GAN failure modes](https://developers.google.com/machine-learning/gan/problems)."
   ]
  },
  {
   "attachments": {},
   "cell_type": "markdown",
   "id": "530fc1f1",
   "metadata": {
    "tags": []
   },
   "source": [
    "## Full implementation II\n",
    "\n",
    "### Learning a normal distribution with OpFlowQNN\n",
    "\n",
    "In the following section, we build a QGAN to learn a 3 qubit normal distribution, while changing a few previous methods along the way.\n",
    "1. Learning a more complex distribution\n",
    "2. Using [OpFlowQNN](gloss:opflowqnn) to retrieve expectation values directly\n",
    "3. Amalgamating the discriminator output qubit to the generator's register\n",
    "\n",
    "### Defining the real distribution\n",
    "\n",
    "Here we define the real distribution using the `qiskit_finance` module and the generator ansatz that'll be used to model the [Gaussian](gloss:gaussian-distribution)."
   ]
  },
  {
   "cell_type": "code",
   "execution_count": null,
   "id": "ce78167a",
   "metadata": {},
   "outputs": [
    {
     "data": {
      "text/html": [
       "<pre style=\"word-wrap: normal;white-space: pre;background: #fff0;line-height: 1.1;font-family: &quot;Courier New&quot;,Courier,monospace\">global phase: 3.0861\n",
       "     ┌────────────────────┐                            ┌───┐»\n",
       "q_0: ┤ U(1.0672,-2π,-π/2) ├────────────────────────────┤ X ├»\n",
       "     ├────────────────────┤┌───┐┌─────────────────────┐└─┬─┘»\n",
       "q_1: ┤ U(2.4075,-2π,-π/2) ├┤ X ├┤ U(0,-2.2961,2.2961) ├──■──»\n",
       "     └───┬────────────┬───┘└─┬─┘└─────────────────────┘     »\n",
       "q_2: ────┤ U(π/2,0,0) ├──────■──────────────────────────────»\n",
       "         └────────────┘                                     »\n",
       "«     ┌───────────────────┐┌───┐┌────────────────────┐┌───┐»\n",
       "«q_0: ┤ U(π/2,-3π/2,-π/2) ├┤ X ├┤ U(π/2,-π/2,1.8056) ├┤ X ├»\n",
       "«     └───────────────────┘└─┬─┘└────────────────────┘└─┬─┘»\n",
       "«q_1: ───────────────────────┼──────────────────────────■──»\n",
       "«                            │                             »\n",
       "«q_2: ───────────────────────■─────────────────────────────»\n",
       "«                                                          »\n",
       "«     ┌───────────────────────┐\n",
       "«q_0: ┤ U(π,-3.2034,-0.06185) ├\n",
       "«     └───────────────────────┘\n",
       "«q_1: ─────────────────────────\n",
       "«                              \n",
       "«q_2: ─────────────────────────\n",
       "«                              </pre>"
      ],
      "text/plain": [
       "global phase: 3.0861\n",
       "     ┌────────────────────┐                            ┌───┐»\n",
       "q_0: ┤ U(1.0672,-2π,-π/2) ├────────────────────────────┤ X ├»\n",
       "     ├────────────────────┤┌───┐┌─────────────────────┐└─┬─┘»\n",
       "q_1: ┤ U(2.4075,-2π,-π/2) ├┤ X ├┤ U(0,-2.2961,2.2961) ├──■──»\n",
       "     └───┬────────────┬───┘└─┬─┘└─────────────────────┘     »\n",
       "q_2: ────┤ U(π/2,0,0) ├──────■──────────────────────────────»\n",
       "         └────────────┘                                     »\n",
       "«     ┌───────────────────┐┌───┐┌────────────────────┐┌───┐»\n",
       "«q_0: ┤ U(π/2,-3π/2,-π/2) ├┤ X ├┤ U(π/2,-π/2,1.8056) ├┤ X ├»\n",
       "«     └───────────────────┘└─┬─┘└────────────────────┘└─┬─┘»\n",
       "«q_1: ───────────────────────┼──────────────────────────■──»\n",
       "«                            │                             »\n",
       "«q_2: ───────────────────────■─────────────────────────────»\n",
       "«                                                          »\n",
       "«     ┌───────────────────────┐\n",
       "«q_0: ┤ U(π,-3.2034,-0.06185) ├\n",
       "«     └───────────────────────┘\n",
       "«q_1: ─────────────────────────\n",
       "«                              \n",
       "«q_2: ─────────────────────────\n",
       "«                              "
      ]
     },
     "execution_count": 48,
     "metadata": {},
     "output_type": "execute_result"
    }
   ],
   "source": [
    "from qiskit_finance.circuit.library import NormalDistribution\n",
    "REAL_DIST_NQUBITS = 3\n",
    "real_circuit = NormalDistribution(REAL_DIST_NQUBITS, mu=0, sigma=0.15)\n",
    "real_circuit = real_circuit.decompose().decompose().decompose()\n",
    "real_circuit.draw()"
   ]
  },
  {
   "attachments": {},
   "cell_type": "markdown",
   "id": "eb8fe912-2b4a-46a8-a1f7-b38e8350db5d",
   "metadata": {},
   "source": [
    "### Defining the variational quantum discriminator and generator"
   ]
  },
  {
   "cell_type": "code",
   "execution_count": null,
   "id": "4446c0bf",
   "metadata": {},
   "outputs": [
    {
     "data": {
      "text/html": [
       "<pre style=\"word-wrap: normal;white-space: pre;background: #fff0;line-height: 1.1;font-family: &quot;Courier New&quot;,Courier,monospace\">     ┌────────────┐┌────────────┐      ┌────────────┐┌────────────┐»\n",
       "q_0: ┤ Ry(θ_g[0]) ├┤ Rz(θ_g[3]) ├─■──■─┤ Ry(θ_g[6]) ├┤ Rz(θ_g[9]) ├»\n",
       "     ├────────────┤├────────────┤ │  │ └────────────┘├────────────┤»\n",
       "q_1: ┤ Ry(θ_g[1]) ├┤ Rz(θ_g[4]) ├─■──┼───────■───────┤ Ry(θ_g[7]) ├»\n",
       "     ├────────────┤├────────────┤    │       │       ├────────────┤»\n",
       "q_2: ┤ Ry(θ_g[2]) ├┤ Rz(θ_g[5]) ├────■───────■───────┤ Ry(θ_g[8]) ├»\n",
       "     └────────────┘└────────────┘                    └────────────┘»\n",
       "«                          ┌─────────────┐┌─────────────┐               \n",
       "«q_0: ────────────────■──■─┤ Ry(θ_g[12]) ├┤ Rz(θ_g[15]) ├───────────────\n",
       "«     ┌─────────────┐ │  │ └─────────────┘├─────────────┤┌─────────────┐\n",
       "«q_1: ┤ Rz(θ_g[10]) ├─■──┼────────■───────┤ Ry(θ_g[13]) ├┤ Rz(θ_g[16]) ├\n",
       "«     ├─────────────┤    │        │       ├─────────────┤├─────────────┤\n",
       "«q_2: ┤ Rz(θ_g[11]) ├────■────────■───────┤ Ry(θ_g[14]) ├┤ Rz(θ_g[17]) ├\n",
       "«     └─────────────┘                     └─────────────┘└─────────────┘</pre>"
      ],
      "text/plain": [
       "     ┌────────────┐┌────────────┐      ┌────────────┐┌────────────┐»\n",
       "q_0: ┤ Ry(θ_g[0]) ├┤ Rz(θ_g[3]) ├─■──■─┤ Ry(θ_g[6]) ├┤ Rz(θ_g[9]) ├»\n",
       "     ├────────────┤├────────────┤ │  │ └────────────┘├────────────┤»\n",
       "q_1: ┤ Ry(θ_g[1]) ├┤ Rz(θ_g[4]) ├─■──┼───────■───────┤ Ry(θ_g[7]) ├»\n",
       "     ├────────────┤├────────────┤    │       │       ├────────────┤»\n",
       "q_2: ┤ Ry(θ_g[2]) ├┤ Rz(θ_g[5]) ├────■───────■───────┤ Ry(θ_g[8]) ├»\n",
       "     └────────────┘└────────────┘                    └────────────┘»\n",
       "«                          ┌─────────────┐┌─────────────┐               \n",
       "«q_0: ────────────────■──■─┤ Ry(θ_g[12]) ├┤ Rz(θ_g[15]) ├───────────────\n",
       "«     ┌─────────────┐ │  │ └─────────────┘├─────────────┤┌─────────────┐\n",
       "«q_1: ┤ Rz(θ_g[10]) ├─■──┼────────■───────┤ Ry(θ_g[13]) ├┤ Rz(θ_g[16]) ├\n",
       "«     ├─────────────┤    │        │       ├─────────────┤├─────────────┤\n",
       "«q_2: ┤ Rz(θ_g[11]) ├────■────────■───────┤ Ry(θ_g[14]) ├┤ Rz(θ_g[17]) ├\n",
       "«     └─────────────┘                     └─────────────┘└─────────────┘"
      ]
     },
     "execution_count": 49,
     "metadata": {},
     "output_type": "execute_result"
    }
   ],
   "source": [
    "generator = TwoLocal(REAL_DIST_NQUBITS,\n",
    "                     # Parameterized single qubit rotations\n",
    "                     ['ry', 'rz'],\n",
    "                     'cz',  # Entangling gate\n",
    "                     'full', # Entanglement structure - all to all\n",
    "                     reps=2, # Number of layers\n",
    "                     parameter_prefix='θ_g',\n",
    "                     name='Generator')\n",
    "generator = generator.decompose()\n",
    "generator.draw()"
   ]
  },
  {
   "attachments": {},
   "cell_type": "markdown",
   "id": "5fad5646",
   "metadata": {},
   "source": [
    "Now, we define a similar ansatz as before for the discriminator, just with the output qubit defined on `q2` instead of `q3` as one might have expected from the previous example. It's important to note that the qubit used to measure $\\class{}{\\langle Z\\rangle_{\\text{out}}}$ is largely irrelevant since the discriminator ansatz can universally transform any given quantum state to a desired one. Previously, we defined the output qubit to be one a separate register to make it more intuitive but there exists no true justification with respect to QGAN performance."
   ]
  },
  {
   "cell_type": "code",
   "execution_count": null,
   "id": "b76b6a28",
   "metadata": {},
   "outputs": [
    {
     "data": {
      "text/html": [
       "<pre style=\"word-wrap: normal;white-space: pre;background: #fff0;line-height: 1.1;font-family: &quot;Courier New&quot;,Courier,monospace\">      ░ ┌───┐┌────────────┐┌────────────┐┌────────────┐                        »\n",
       "q_0: ─░─┤ H ├┤ Rx(θ_d[0]) ├┤ Ry(θ_d[1]) ├┤ Rz(θ_d[2]) ├───────■────────────────»\n",
       "      ░ ├───┤├────────────┤├────────────┤├────────────┤       │                »\n",
       "q_1: ─░─┤ H ├┤ Rx(θ_d[3]) ├┤ Ry(θ_d[4]) ├┤ Rz(θ_d[5]) ├──■────┼────────────────»\n",
       "      ░ ├───┤├────────────┤├────────────┤├────────────┤┌─┴─┐┌─┴─┐┌────────────┐»\n",
       "q_2: ─░─┤ H ├┤ Rx(θ_d[6]) ├┤ Ry(θ_d[7]) ├┤ Rz(θ_d[8]) ├┤ X ├┤ X ├┤ Rx(θ_d[9]) ├»\n",
       "      ░ └───┘└────────────┘└────────────┘└────────────┘└───┘└───┘└────────────┘»\n",
       "«                                   \n",
       "«q_0: ──────────────────────────────\n",
       "«                                   \n",
       "«q_1: ──────────────────────────────\n",
       "«     ┌─────────────┐┌─────────────┐\n",
       "«q_2: ┤ Ry(θ_d[10]) ├┤ Rz(θ_d[11]) ├\n",
       "«     └─────────────┘└─────────────┘</pre>"
      ],
      "text/plain": [
       "      ░ ┌───┐┌────────────┐┌────────────┐┌────────────┐                        »\n",
       "q_0: ─░─┤ H ├┤ Rx(θ_d[0]) ├┤ Ry(θ_d[1]) ├┤ Rz(θ_d[2]) ├───────■────────────────»\n",
       "      ░ ├───┤├────────────┤├────────────┤├────────────┤       │                »\n",
       "q_1: ─░─┤ H ├┤ Rx(θ_d[3]) ├┤ Ry(θ_d[4]) ├┤ Rz(θ_d[5]) ├──■────┼────────────────»\n",
       "      ░ ├───┤├────────────┤├────────────┤├────────────┤┌─┴─┐┌─┴─┐┌────────────┐»\n",
       "q_2: ─░─┤ H ├┤ Rx(θ_d[6]) ├┤ Ry(θ_d[7]) ├┤ Rz(θ_d[8]) ├┤ X ├┤ X ├┤ Rx(θ_d[9]) ├»\n",
       "      ░ └───┘└────────────┘└────────────┘└────────────┘└───┘└───┘└────────────┘»\n",
       "«                                   \n",
       "«q_0: ──────────────────────────────\n",
       "«                                   \n",
       "«q_1: ──────────────────────────────\n",
       "«     ┌─────────────┐┌─────────────┐\n",
       "«q_2: ┤ Ry(θ_d[10]) ├┤ Rz(θ_d[11]) ├\n",
       "«     └─────────────┘└─────────────┘"
      ]
     },
     "execution_count": 50,
     "metadata": {},
     "output_type": "execute_result"
    }
   ],
   "source": [
    "disc_weights = ParameterVector('θ_d', 12)\n",
    "discriminator = QuantumCircuit(REAL_DIST_NQUBITS, name=\"Discriminator\")\n",
    "discriminator.barrier()\n",
    "discriminator.h(0)\n",
    "discriminator.rx(disc_weights[0], 0)\n",
    "discriminator.ry(disc_weights[1], 0)\n",
    "discriminator.rz(disc_weights[2], 0)\n",
    "discriminator.h(1)\n",
    "discriminator.rx(disc_weights[3], 1)\n",
    "discriminator.ry(disc_weights[4], 1)\n",
    "discriminator.rz(disc_weights[5], 1)\n",
    "discriminator.h(2)\n",
    "discriminator.rx(disc_weights[6], 2)\n",
    "discriminator.ry(disc_weights[7], 2)\n",
    "discriminator.rz(disc_weights[8], 2)\n",
    "discriminator.cx(1,2)\n",
    "discriminator.cx(0,2)\n",
    "discriminator.rx(disc_weights[9], 2)\n",
    "discriminator.ry(disc_weights[10], 2)\n",
    "discriminator.rz(disc_weights[11], 2)\n",
    "discriminator.draw()"
   ]
  },
  {
   "attachments": {},
   "cell_type": "markdown",
   "id": "505b825d",
   "metadata": {},
   "source": [
    "Then we construct the complete circuits."
   ]
  },
  {
   "cell_type": "code",
   "execution_count": null,
   "id": "0a0665d4-4c18-4248-b8f5-906b49f7bfe2",
   "metadata": {},
   "outputs": [],
   "source": [
    "N_GPARAMS = generator.num_parameters\n",
    "N_DPARAMS = discriminator.num_parameters"
   ]
  },
  {
   "attachments": {},
   "cell_type": "markdown",
   "id": "f18b385b-d700-46a0-b3f4-f6c3a39dd1eb",
   "metadata": {},
   "source": [
    "### Compiling the QGAN"
   ]
  },
  {
   "cell_type": "code",
   "execution_count": null,
   "id": "f03327c9-229d-4b23-961b-0fcc654edf79",
   "metadata": {},
   "outputs": [
    {
     "data": {
      "text/html": [
       "<pre style=\"word-wrap: normal;white-space: pre;background: #fff0;line-height: 1.1;font-family: &quot;Courier New&quot;,Courier,monospace\">     ┌────────────┐┌────────────┐      ┌────────────┐┌────────────┐»\n",
       "q_0: ┤ Ry(θ_g[0]) ├┤ Rz(θ_g[3]) ├─■──■─┤ Ry(θ_g[6]) ├┤ Rz(θ_g[9]) ├»\n",
       "     ├────────────┤├────────────┤ │  │ └────────────┘├────────────┤»\n",
       "q_1: ┤ Ry(θ_g[1]) ├┤ Rz(θ_g[4]) ├─■──┼───────■───────┤ Ry(θ_g[7]) ├»\n",
       "     ├────────────┤├────────────┤    │       │       ├────────────┤»\n",
       "q_2: ┤ Ry(θ_g[2]) ├┤ Rz(θ_g[5]) ├────■───────■───────┤ Ry(θ_g[8]) ├»\n",
       "     └────────────┘└────────────┘                    └────────────┘»\n",
       "«                          ┌─────────────┐┌─────────────┐                ░ »\n",
       "«q_0: ────────────────■──■─┤ Ry(θ_g[12]) ├┤ Rz(θ_g[15]) ├────────────────░─»\n",
       "«     ┌─────────────┐ │  │ └─────────────┘├─────────────┤┌─────────────┐ ░ »\n",
       "«q_1: ┤ Rz(θ_g[10]) ├─■──┼────────■───────┤ Ry(θ_g[13]) ├┤ Rz(θ_g[16]) ├─░─»\n",
       "«     ├─────────────┤    │        │       ├─────────────┤├─────────────┤ ░ »\n",
       "«q_2: ┤ Rz(θ_g[11]) ├────■────────■───────┤ Ry(θ_g[14]) ├┤ Rz(θ_g[17]) ├─░─»\n",
       "«     └─────────────┘                     └─────────────┘└─────────────┘ ░ »\n",
       "«     ┌───┐┌────────────┐┌────────────┐┌────────────┐                        »\n",
       "«q_0: ┤ H ├┤ Rx(θ_d[0]) ├┤ Ry(θ_d[1]) ├┤ Rz(θ_d[2]) ├───────■────────────────»\n",
       "«     ├───┤├────────────┤├────────────┤├────────────┤       │                »\n",
       "«q_1: ┤ H ├┤ Rx(θ_d[3]) ├┤ Ry(θ_d[4]) ├┤ Rz(θ_d[5]) ├──■────┼────────────────»\n",
       "«     ├───┤├────────────┤├────────────┤├────────────┤┌─┴─┐┌─┴─┐┌────────────┐»\n",
       "«q_2: ┤ H ├┤ Rx(θ_d[6]) ├┤ Ry(θ_d[7]) ├┤ Rz(θ_d[8]) ├┤ X ├┤ X ├┤ Rx(θ_d[9]) ├»\n",
       "«     └───┘└────────────┘└────────────┘└────────────┘└───┘└───┘└────────────┘»\n",
       "«                                   \n",
       "«q_0: ──────────────────────────────\n",
       "«                                   \n",
       "«q_1: ──────────────────────────────\n",
       "«     ┌─────────────┐┌─────────────┐\n",
       "«q_2: ┤ Ry(θ_d[10]) ├┤ Rz(θ_d[11]) ├\n",
       "«     └─────────────┘└─────────────┘</pre>"
      ],
      "text/plain": [
       "     ┌────────────┐┌────────────┐      ┌────────────┐┌────────────┐»\n",
       "q_0: ┤ Ry(θ_g[0]) ├┤ Rz(θ_g[3]) ├─■──■─┤ Ry(θ_g[6]) ├┤ Rz(θ_g[9]) ├»\n",
       "     ├────────────┤├────────────┤ │  │ └────────────┘├────────────┤»\n",
       "q_1: ┤ Ry(θ_g[1]) ├┤ Rz(θ_g[4]) ├─■──┼───────■───────┤ Ry(θ_g[7]) ├»\n",
       "     ├────────────┤├────────────┤    │       │       ├────────────┤»\n",
       "q_2: ┤ Ry(θ_g[2]) ├┤ Rz(θ_g[5]) ├────■───────■───────┤ Ry(θ_g[8]) ├»\n",
       "     └────────────┘└────────────┘                    └────────────┘»\n",
       "«                          ┌─────────────┐┌─────────────┐                ░ »\n",
       "«q_0: ────────────────■──■─┤ Ry(θ_g[12]) ├┤ Rz(θ_g[15]) ├────────────────░─»\n",
       "«     ┌─────────────┐ │  │ └─────────────┘├─────────────┤┌─────────────┐ ░ »\n",
       "«q_1: ┤ Rz(θ_g[10]) ├─■──┼────────■───────┤ Ry(θ_g[13]) ├┤ Rz(θ_g[16]) ├─░─»\n",
       "«     ├─────────────┤    │        │       ├─────────────┤├─────────────┤ ░ »\n",
       "«q_2: ┤ Rz(θ_g[11]) ├────■────────■───────┤ Ry(θ_g[14]) ├┤ Rz(θ_g[17]) ├─░─»\n",
       "«     └─────────────┘                     └─────────────┘└─────────────┘ ░ »\n",
       "«     ┌───┐┌────────────┐┌────────────┐┌────────────┐                        »\n",
       "«q_0: ┤ H ├┤ Rx(θ_d[0]) ├┤ Ry(θ_d[1]) ├┤ Rz(θ_d[2]) ├───────■────────────────»\n",
       "«     ├───┤├────────────┤├────────────┤├────────────┤       │                »\n",
       "«q_1: ┤ H ├┤ Rx(θ_d[3]) ├┤ Ry(θ_d[4]) ├┤ Rz(θ_d[5]) ├──■────┼────────────────»\n",
       "«     ├───┤├────────────┤├────────────┤├────────────┤┌─┴─┐┌─┴─┐┌────────────┐»\n",
       "«q_2: ┤ H ├┤ Rx(θ_d[6]) ├┤ Ry(θ_d[7]) ├┤ Rz(θ_d[8]) ├┤ X ├┤ X ├┤ Rx(θ_d[9]) ├»\n",
       "«     └───┘└────────────┘└────────────┘└────────────┘└───┘└───┘└────────────┘»\n",
       "«                                   \n",
       "«q_0: ──────────────────────────────\n",
       "«                                   \n",
       "«q_1: ──────────────────────────────\n",
       "«     ┌─────────────┐┌─────────────┐\n",
       "«q_2: ┤ Ry(θ_d[10]) ├┤ Rz(θ_d[11]) ├\n",
       "«     └─────────────┘└─────────────┘"
      ]
     },
     "execution_count": 52,
     "metadata": {},
     "output_type": "execute_result"
    }
   ],
   "source": [
    "gen_disc_circuit = QuantumCircuit(REAL_DIST_NQUBITS)\n",
    "gen_disc_circuit.compose(generator, inplace=True)\n",
    "gen_disc_circuit.compose(discriminator, inplace=True)\n",
    "gen_disc_circuit.draw()"
   ]
  },
  {
   "cell_type": "code",
   "execution_count": null,
   "id": "28a9e7c5",
   "metadata": {},
   "outputs": [
    {
     "data": {
      "text/html": [
       "<pre style=\"word-wrap: normal;white-space: pre;background: #fff0;line-height: 1.1;font-family: &quot;Courier New&quot;,Courier,monospace\">global phase: 3.0861\n",
       "     ┌────────────────────┐                            ┌───┐»\n",
       "q_0: ┤ U(1.0672,-2π,-π/2) ├────────────────────────────┤ X ├»\n",
       "     ├────────────────────┤┌───┐┌─────────────────────┐└─┬─┘»\n",
       "q_1: ┤ U(2.4075,-2π,-π/2) ├┤ X ├┤ U(0,-2.2961,2.2961) ├──■──»\n",
       "     └───┬────────────┬───┘└─┬─┘└─────────────────────┘     »\n",
       "q_2: ────┤ U(π/2,0,0) ├──────■──────────────────────────────»\n",
       "         └────────────┘                                     »\n",
       "«     ┌───────────────────┐┌───┐┌────────────────────┐┌───┐»\n",
       "«q_0: ┤ U(π/2,-3π/2,-π/2) ├┤ X ├┤ U(π/2,-π/2,1.8056) ├┤ X ├»\n",
       "«     └───────────────────┘└─┬─┘└────────────────────┘└─┬─┘»\n",
       "«q_1: ───────────────────────┼──────────────────────────■──»\n",
       "«                            │                             »\n",
       "«q_2: ───────────────────────■─────────────────────────────»\n",
       "«                                                          »\n",
       "«     ┌───────────────────────┐ ░ ┌───┐┌────────────┐┌────────────┐»\n",
       "«q_0: ┤ U(π,-3.2034,-0.06185) ├─░─┤ H ├┤ Rx(θ_d[0]) ├┤ Ry(θ_d[1]) ├»\n",
       "«     └───────────────────────┘ ░ ├───┤├────────────┤├────────────┤»\n",
       "«q_1: ──────────────────────────░─┤ H ├┤ Rx(θ_d[3]) ├┤ Ry(θ_d[4]) ├»\n",
       "«                               ░ ├───┤├────────────┤├────────────┤»\n",
       "«q_2: ──────────────────────────░─┤ H ├┤ Rx(θ_d[6]) ├┤ Ry(θ_d[7]) ├»\n",
       "«                               ░ └───┘└────────────┘└────────────┘»\n",
       "«     ┌────────────┐                                                      \n",
       "«q_0: ┤ Rz(θ_d[2]) ├───────■──────────────────────────────────────────────\n",
       "«     ├────────────┤       │                                              \n",
       "«q_1: ┤ Rz(θ_d[5]) ├──■────┼──────────────────────────────────────────────\n",
       "«     ├────────────┤┌─┴─┐┌─┴─┐┌────────────┐┌─────────────┐┌─────────────┐\n",
       "«q_2: ┤ Rz(θ_d[8]) ├┤ X ├┤ X ├┤ Rx(θ_d[9]) ├┤ Ry(θ_d[10]) ├┤ Rz(θ_d[11]) ├\n",
       "«     └────────────┘└───┘└───┘└────────────┘└─────────────┘└─────────────┘</pre>"
      ],
      "text/plain": [
       "global phase: 3.0861\n",
       "     ┌────────────────────┐                            ┌───┐»\n",
       "q_0: ┤ U(1.0672,-2π,-π/2) ├────────────────────────────┤ X ├»\n",
       "     ├────────────────────┤┌───┐┌─────────────────────┐└─┬─┘»\n",
       "q_1: ┤ U(2.4075,-2π,-π/2) ├┤ X ├┤ U(0,-2.2961,2.2961) ├──■──»\n",
       "     └───┬────────────┬───┘└─┬─┘└─────────────────────┘     »\n",
       "q_2: ────┤ U(π/2,0,0) ├──────■──────────────────────────────»\n",
       "         └────────────┘                                     »\n",
       "«     ┌───────────────────┐┌───┐┌────────────────────┐┌───┐»\n",
       "«q_0: ┤ U(π/2,-3π/2,-π/2) ├┤ X ├┤ U(π/2,-π/2,1.8056) ├┤ X ├»\n",
       "«     └───────────────────┘└─┬─┘└────────────────────┘└─┬─┘»\n",
       "«q_1: ───────────────────────┼──────────────────────────■──»\n",
       "«                            │                             »\n",
       "«q_2: ───────────────────────■─────────────────────────────»\n",
       "«                                                          »\n",
       "«     ┌───────────────────────┐ ░ ┌───┐┌────────────┐┌────────────┐»\n",
       "«q_0: ┤ U(π,-3.2034,-0.06185) ├─░─┤ H ├┤ Rx(θ_d[0]) ├┤ Ry(θ_d[1]) ├»\n",
       "«     └───────────────────────┘ ░ ├───┤├────────────┤├────────────┤»\n",
       "«q_1: ──────────────────────────░─┤ H ├┤ Rx(θ_d[3]) ├┤ Ry(θ_d[4]) ├»\n",
       "«                               ░ ├───┤├────────────┤├────────────┤»\n",
       "«q_2: ──────────────────────────░─┤ H ├┤ Rx(θ_d[6]) ├┤ Ry(θ_d[7]) ├»\n",
       "«                               ░ └───┘└────────────┘└────────────┘»\n",
       "«     ┌────────────┐                                                      \n",
       "«q_0: ┤ Rz(θ_d[2]) ├───────■──────────────────────────────────────────────\n",
       "«     ├────────────┤       │                                              \n",
       "«q_1: ┤ Rz(θ_d[5]) ├──■────┼──────────────────────────────────────────────\n",
       "«     ├────────────┤┌─┴─┐┌─┴─┐┌────────────┐┌─────────────┐┌─────────────┐\n",
       "«q_2: ┤ Rz(θ_d[8]) ├┤ X ├┤ X ├┤ Rx(θ_d[9]) ├┤ Ry(θ_d[10]) ├┤ Rz(θ_d[11]) ├\n",
       "«     └────────────┘└───┘└───┘└────────────┘└─────────────┘└─────────────┘"
      ]
     },
     "execution_count": 53,
     "metadata": {},
     "output_type": "execute_result"
    }
   ],
   "source": [
    "real_disc_circuit = QuantumCircuit(REAL_DIST_NQUBITS)\n",
    "real_disc_circuit.compose(real_circuit, inplace=True)\n",
    "real_disc_circuit.compose(discriminator, inplace=True)\n",
    "real_disc_circuit.draw()"
   ]
  },
  {
   "attachments": {},
   "cell_type": "markdown",
   "id": "c60f6b9e",
   "metadata": {},
   "source": [
    "### OpflowQNN\n",
    "\n",
    "We employ the [`OpflowQNN`](https://qiskit.org/documentation/machine-learning/stubs/qiskit_machine_learning.neural_networks.OpflowQNN.html) from Qiskit which takes a (parameterized) operator and leverages Qiskit's gradient framework to complete the backward passes. The operator defined here is equivalent to the expectation value of $Z$ with respect to the last qubit."
   ]
  },
  {
   "cell_type": "code",
   "execution_count": null,
   "id": "ba9e294a",
   "metadata": {
    "tags": []
   },
   "outputs": [],
   "source": [
    "#from qiskit.opflow import (StateFn, PauliSumOp, Gradient, AerPauliExpectation)\n",
    "#from qiskit_machine_learning.neural_networks import OpflowQNN\n",
    "\n",
    "from qiskit.quantum_info import SparsePauliOp\n",
    "from qiskit_aer.primitives import Estimator\n",
    "from qiskit_algorithms.gradients import ParamShiftEstimatorGradient\n",
    "\n",
    "# Estimator backend (Aer statevector)\n",
    "estimator = Estimator()\n",
    "gradient = ParamShiftEstimatorGradient(estimator)\n",
    "\n",
    "backend = Aer.get_backend('aer_simulator_statevector')\n",
    "sampler = Sampler(mode=backend)\n",
    "\n",
    "# Circuit wave function\n",
    "#gen_disc_sfn = StateFn(gen_disc_circuit)\n",
    "#real_disc_sfn = StateFn(real_disc_circuit)\n",
    "# construct operator to retrieve Pauli Z expval of the last qubit\n",
    "#H1 = StateFn(PauliSumOp.from_list([('ZII', 1.0)]))\n",
    "# combine operator and circuit to objective function\n",
    "#gendisc_op = ~H1 @ gen_disc_sfn\n",
    "#realdisc_op = ~H1  @ real_disc_sfn\n",
    "\n",
    "# Define observable (Pauli Z on first qubit — adjust if needed)\n",
    "H1 = SparsePauliOp.from_list([(\"ZII\", 1.0)])\n",
    "# combine operator and circuit to objective function\n",
    "# gendisc_op = estimator.run(\n",
    "#     circuits=[gen_disc_circuit],  # list of circuits\n",
    "#     observables=[H1],             # list of observables\n",
    "    \n",
    "# ).result()\n",
    "# realdisc_op = estimator.run(\n",
    "#     circuits=[real_disc_circuit],\n",
    "#     observables=[H1]\n",
    "# ).result()"
   ]
  },
  {
   "cell_type": "code",
   "execution_count": null,
   "id": "bbe9c708",
   "metadata": {
    "tags": []
   },
   "outputs": [
    {
     "name": "stderr",
     "output_type": "stream",
     "text": [
      "/tmp/ipykernel_9533/1759393302.py:8: DeprecationWarning: The class ``qiskit.primitives.estimator.Estimator`` is deprecated as of qiskit 1.2. It will be removed no earlier than 3 months after the release date. All implementations of the `BaseEstimatorV1` interface have been deprecated in favor of their V2 counterparts. The V2 alternative for the `Estimator` class is `StatevectorEstimator`.\n",
      "  estimator = Estimator()\n",
      "/tmp/ipykernel_9533/1759393302.py:17: DeprecationWarning: V1 Primitives are deprecated as of qiskit-machine-learning 0.8.0 and will be removed no sooner than 4 months after the release date. Use V2 primitives for continued compatibility and support.\n",
      "  gen_opqnn = EstimatorQNN(circuit=gen_disc_circuit,\n",
      "/tmp/ipykernel_9533/1759393302.py:26: DeprecationWarning: V1 Primitives are deprecated as of qiskit-machine-learning 0.8.0 and will be removed no sooner than 4 months after the release date. Use V2 primitives for continued compatibility and support.\n",
      "  disc_fake_opqnn = EstimatorQNN(circuit=gen_disc_circuit,\n",
      "/tmp/ipykernel_9533/1759393302.py:35: DeprecationWarning: V1 Primitives are deprecated as of qiskit-machine-learning 0.8.0 and will be removed no sooner than 4 months after the release date. Use V2 primitives for continued compatibility and support.\n",
      "  disc_real_opqnn = EstimatorQNN(circuit=real_disc_circuit,\n"
     ]
    }
   ],
   "source": [
    "#from qiskit.primitives import StatevectorEstimator\n",
    "from qiskit.primitives import Estimator\n",
    "from qiskit_machine_learning.neural_networks import EstimatorQNN\n",
    "from qiskit.quantum_info import SparsePauliOp\n",
    "from qiskit_algorithms.gradients import ParamShiftEstimatorGradient\n",
    "\n",
    "\n",
    "estimator = Estimator()\n",
    "gradient = ParamShiftEstimatorGradient(estimator)\n",
    "H1 = SparsePauliOp.from_list([(\"ZII\", 1.0)])\n",
    "disc_params = list(gen_disc_circuit.parameters)[:N_DPARAMS]\n",
    "gen_params = list(gen_disc_circuit.parameters)[N_DPARAMS:]\n",
    "\n",
    "# construct OpflowQNN with the two operators, the input parameters,\n",
    "# the weight parameters, the expected value, and quantum instance.\n",
    "# |fake> => |0> => 1 ; |real> => |1> => -1\n",
    "gen_opqnn = EstimatorQNN(circuit=gen_disc_circuit,\n",
    "                      observables=[H1],\n",
    "                      # input parameters (discriminator weights)\n",
    "                      input_params=disc_params,\n",
    "                      # differentiable weights (generator weights)\n",
    "                      weight_params=gen_params,\n",
    "                      estimator=estimator,\n",
    "                      gradient=gradient\n",
    "                      )\n",
    "disc_fake_opqnn = EstimatorQNN(circuit=gen_disc_circuit,\n",
    "                            observables=[H1],\n",
    "                            # input parameters (generator weights)\n",
    "                            input_params=gen_params,\n",
    "                            # differentiable weights (discrim. weights)\n",
    "                            weight_params=disc_params,\n",
    "                            estimator=estimator,\n",
    "                            gradient=gradient\n",
    "                            )\n",
    "disc_real_opqnn = EstimatorQNN(circuit=real_disc_circuit,\n",
    "                            observables=[H1],\n",
    "                            input_params=[],\n",
    "                            # differentiable weights (discrim. weights)\n",
    "                            weight_params=disc_params,\n",
    "                            estimator=estimator,\n",
    "                            gradient=gradient\n",
    "                            )"
   ]
  },
  {
   "attachments": {},
   "cell_type": "markdown",
   "id": "8dcb4bb7",
   "metadata": {},
   "source": [
    "First we initialize the training parameters and define the optimizer"
   ]
  },
  {
   "cell_type": "code",
   "execution_count": null,
   "id": "3a82d3f9",
   "metadata": {},
   "outputs": [],
   "source": [
    "### START\n",
    "init_gen_params = tf.Variable(np.random.uniform(low=-np.pi,\n",
    "                                                high=np.pi,\n",
    "                                                size=(N_GPARAMS)))\n",
    "init_disc_params = tf.Variable(np.random.uniform(low=-np.pi,\n",
    "                                                 high=np.pi,\n",
    "                                                 size=(N_DPARAMS)))\n",
    "gen_params = init_gen_params\n",
    "disc_params = init_disc_params\n",
    "generator_optimizer = tf.keras.optimizers.Adam(learning_rate=0.02)\n",
    "discriminator_optimizer = tf.keras.optimizers.Adam(learning_rate=0.02)"
   ]
  },
  {
   "attachments": {},
   "cell_type": "markdown",
   "id": "9951c8da",
   "metadata": {},
   "source": [
    "### Reconstructing the cost function\n",
    "\n",
    "Now we construct the training logic. There are a few key differences to the cost function here that impacts the gradient rule. Since a forward pass now returns the direct expectation value and not a probability state vector, it's important to remind ourselves that $\\langle \\text{real} |Z| \\text{real} \\rangle = -1$ and $\\langle \\text{fake} |Z| \\text{fake} \\rangle = 1$.\n",
    "\n",
    "Applying similar logic to before, we arrive at the intuition that the discriminator would want to maximize $\\langle \\text{fake} |Z| \\text{fake} \\rangle $ when fed fake data and minimize $\\langle \\text{real} |Z| \\text{real}\\rangle$ when receiving the real quantum state. In contrast to that, the generator wishes to minimize $\\langle \\text{fake} |Z| \\text{fake}\\rangle $, which is akin to the maximizing the probability of the discriminator classifying fake samples as $|\\text{real}\\rangle = |1\\rangle$\n",
    "\n",
    "We now cement these ideas into the following minimax decision rule defined by the proper expectation values. Let $\\rho^{DR}$ and $\\rho^{GR}$ be the density matrix representations of  $\\bigg(U_{D(\\class{theta-d}{\\vec{\\theta_D}})}U_R|0\\rangle^{\\otimes n+1}\\bigg)$ and $\\bigg(U_{D(\\class{theta-d}{\\vec{\\theta_D}})} U_{G(\\class{theta-g}{\\vec{\\theta_G}})}|0\\rangle^{\\otimes n+1}\\bigg)$, respectively. Also recall that the expectation value of $\\class{sigma-p}{\\sigma^P}$ with respect to an arbitrary density matrix $\\rho$ is defined as $\\text{tr}(\\rho \\sigma^P)$ (relevant [chapter](/course/quantum-hardware/density-matrix)). While remembering the linearity of the trace operation, we arrive at\n",
    "\n",
    "$\\underset{\\class{theta-g}{\\vec{\\theta_G}}}{\\min} \\hspace{2pt} \\underset{\\class{theta-d}{\\vec{\\theta_D}}}{\\max} \\hspace{3pt} \\text{tr}\\bigg(\\big(\\rho^{DG}(\\class{theta-d}{\\vec{\\theta_D}}, \\class{theta-g}{\\vec{\\theta_G}}) - \\rho^{DR}(\\class{theta-d}{\\vec{\\theta_D}})\\Big) Z\\bigg)$\n",
    "\n",
    "Which leads us to the following cost functions (optimum is minimum),\n",
    "\n",
    "$\\text{Cost}_D(\\class{theta-d}{\\vec{\\theta_D}},  \\class{theta-g}{\\vec{\\theta_G}}) =  \\text{tr}\\bigg(Z\\rho^{DR}(\\class{theta-d}{\\vec{\\theta_D}}) \\bigg) - \\text{tr}\\bigg(Z\\rho^{DG}(\\class{theta-d}{\\vec{\\theta_D}}, \\class{theta-g}{\\vec{\\theta_G}})\\bigg)$\n",
    "\n",
    "$\\text{Cost}_G(\\class{theta-d}{\\vec{\\theta_D}},  \\class{theta-g}{\\vec{\\theta_G}}) = \\text{tr}\\bigg(Z \\rho^{DG}(\\class{theta-d}{\\vec{\\theta_D}}, \\class{theta-g}{\\vec{\\theta_G}}) \\bigg)$\n",
    "\n",
    "Meaning that the gradients are,\n",
    "\n",
    "$\\nabla _ {\\class{theta-d}{\\vec{\\theta_D}}}\\ \\text{Cost}_D(\\class{theta-d}{\\vec{\\theta_D}},  \\class{theta-g}{\\vec{\\theta_G}}) =  \\nabla _ {\\class{theta-d}{\\vec{\\theta_D}}}\\ \\text{tr}\\bigg(Z\\rho^{DR}(\\class{theta-d}{\\vec{\\theta_D}}) \\bigg) - \\nabla _ {\\class{theta-d}{\\vec{\\theta_D}}}\\ \\text{tr}\\bigg(Z\\rho^{DG}(\\class{theta-d}{\\vec{\\theta_D}}, \\class{theta-g}{\\vec{\\theta_G}})\\bigg)$\n",
    "\n",
    "$\\nabla _ {\\class{theta-g}{\\vec{\\theta_G}}} \\ \\text{Cost}_G(\\class{theta-d}{\\vec{\\theta_D}},  \\class{theta-g}{\\vec{\\theta_G}}) = \\nabla _ {\\class{theta-g}{\\vec{\\theta_G}}}\\ \\text{tr}\\bigg(Z \\rho^{DG}(\\class{theta-d}{\\vec{\\theta_D}}, \\class{theta-g}{\\vec{\\theta_G}}) \\bigg)$\n",
    "\n",
    "and we're complete! We now have all the information needed to implement it since the `OpFlowQNN.backward()` method computes the constituent gradients for us. Let's implement this.\n",
    "\n",
    "*Keep in mind that the above formulations rely upon our initial definition that $|\\text{real}\\rangle = |1\\rangle$ and $|\\text{fake}\\rangle = |0\\rangle$.*\n",
    "\n",
    "### Training"
   ]
  },
  {
   "cell_type": "code",
   "execution_count": null,
   "id": "5655b42b",
   "metadata": {},
   "outputs": [
    {
     "name": "stdout",
     "output_type": "stream",
     "text": [
      "Epoch | Gen. cost | Discrim. cost | KL Div | New best? |\n"
     ]
    },
    {
     "ename": "ValueError",
     "evalue": "Mismatching number of values and parameters. For partial binding please pass a dictionary of {parameter: value} pairs.",
     "output_type": "error",
     "traceback": [
      "\u001b[0;31m---------------------------------------------------------------------------\u001b[0m",
      "\u001b[0;31mValueError\u001b[0m                                Traceback (most recent call last)",
      "Cell \u001b[0;32mIn[57], line 19\u001b[0m\n\u001b[1;32m     16\u001b[0m     discriminator_optimizer\u001b[38;5;241m.\u001b[39mapply_gradients(\u001b[38;5;28mzip\u001b[39m([grad_dcost],\n\u001b[1;32m     17\u001b[0m                                                 [disc_params]))\n\u001b[1;32m     18\u001b[0m     \u001b[38;5;28;01mif\u001b[39;00m disc_train_step \u001b[38;5;241m%\u001b[39m D_STEPS \u001b[38;5;241m==\u001b[39m \u001b[38;5;241m0\u001b[39m:\n\u001b[0;32m---> 19\u001b[0m         dloss\u001b[38;5;241m.\u001b[39mappend(\u001b[43mdiscriminator_cost\u001b[49m\u001b[43m(\u001b[49m\u001b[43mdisc_params\u001b[49m\u001b[43m)\u001b[49m)\n\u001b[1;32m     21\u001b[0m \u001b[38;5;66;03m#--- Quantum generator parameter update ---#\u001b[39;00m\n\u001b[1;32m     22\u001b[0m \u001b[38;5;28;01mfor\u001b[39;00m gen_train_step \u001b[38;5;129;01min\u001b[39;00m \u001b[38;5;28mrange\u001b[39m(\u001b[38;5;241m1\u001b[39m):\n\u001b[1;32m     23\u001b[0m     \u001b[38;5;66;03m# as formulated above\u001b[39;00m\n",
      "Cell \u001b[0;32mIn[38], line 29\u001b[0m, in \u001b[0;36mdiscriminator_cost\u001b[0;34m(disc_params)\u001b[0m\n\u001b[1;32m     26\u001b[0m curr_params \u001b[38;5;241m=\u001b[39m np\u001b[38;5;241m.\u001b[39mappend(disc_params\u001b[38;5;241m.\u001b[39mnumpy(),\n\u001b[1;32m     27\u001b[0m                         gen_params\u001b[38;5;241m.\u001b[39mnumpy())\n\u001b[1;32m     28\u001b[0m \u001b[38;5;66;03m# Assign parameters to both circuits\u001b[39;00m\n\u001b[0;32m---> 29\u001b[0m gendisc_bound \u001b[38;5;241m=\u001b[39m \u001b[43misa_gen_disc_circuit\u001b[49m\u001b[38;5;241;43m.\u001b[39;49m\u001b[43massign_parameters\u001b[49m\u001b[43m(\u001b[49m\u001b[43mcurr_params\u001b[49m\u001b[43m)\u001b[49m\n\u001b[1;32m     30\u001b[0m realdisc_bound \u001b[38;5;241m=\u001b[39m isa_real_disc_circuit\u001b[38;5;241m.\u001b[39massign_parameters(disc_params\u001b[38;5;241m.\u001b[39mnumpy())\n\u001b[1;32m     31\u001b[0m \u001b[38;5;66;03m# Run both circuits using the sampler\u001b[39;00m\n",
      "File \u001b[0;32m~/miniconda3/envs/qiskit-ibm/lib/python3.10/site-packages/qiskit/circuit/quantumcircuit.py:4377\u001b[0m, in \u001b[0;36mQuantumCircuit.assign_parameters\u001b[0;34m(self, parameters, inplace, flat_input, strict)\u001b[0m\n\u001b[1;32m   4374\u001b[0m     \u001b[38;5;28;01mdef\u001b[39;00m \u001b[38;5;21mcreate_mapping_view\u001b[39m():\n\u001b[1;32m   4375\u001b[0m         \u001b[38;5;28;01mreturn\u001b[39;00m \u001b[38;5;28mdict\u001b[39m(\u001b[38;5;28mzip\u001b[39m(initial_parameters, parameters))\n\u001b[0;32m-> 4377\u001b[0m     \u001b[43mtarget\u001b[49m\u001b[38;5;241;43m.\u001b[39;49m\u001b[43m_data\u001b[49m\u001b[38;5;241;43m.\u001b[39;49m\u001b[43massign_parameters_iterable\u001b[49m\u001b[43m(\u001b[49m\u001b[43mparameters\u001b[49m\u001b[43m)\u001b[49m\n\u001b[1;32m   4379\u001b[0m \u001b[38;5;66;03m# Finally, assign the parameters inside any of the calibrations.  We don't track these in\u001b[39;00m\n\u001b[1;32m   4380\u001b[0m \u001b[38;5;66;03m# the `ParameterTable`, so we manually reconstruct things.  We lazily construct the mapping\u001b[39;00m\n\u001b[1;32m   4381\u001b[0m \u001b[38;5;66;03m# `{parameter: bound_value}` the first time we encounter a binding (we have to scan for\u001b[39;00m\n\u001b[1;32m   4382\u001b[0m \u001b[38;5;66;03m# this, because calibrations don't use a parameter-table lookup), rather than always paying\u001b[39;00m\n\u001b[1;32m   4383\u001b[0m \u001b[38;5;66;03m# the cost - most circuits don't have parametric calibrations, and it's expensive.\u001b[39;00m\n\u001b[1;32m   4384\u001b[0m mapping_view \u001b[38;5;241m=\u001b[39m \u001b[38;5;28;01mNone\u001b[39;00m\n",
      "\u001b[0;31mValueError\u001b[0m: Mismatching number of values and parameters. For partial binding please pass a dictionary of {parameter: value} pairs."
     ]
    }
   ],
   "source": [
    "best_gen_params = init_gen_params\n",
    "gloss, dloss, kl_div = [], [], []\n",
    "TABLE_HEADERS = \"Epoch | Gen. cost | Discrim. cost | KL Div | New best? |\"\n",
    "print(TABLE_HEADERS)\n",
    "for epoch in range(300):\n",
    "    D_STEPS = 5\n",
    "    #--- Quantum discriminator parameter update ---#\n",
    "    for disc_train_step in range(D_STEPS):\n",
    "        grad_dcost_fake = disc_fake_opqnn.backward(gen_params,\n",
    "                                                   disc_params)[1][0,0]\n",
    "        grad_dcost_real = disc_real_opqnn.backward([],\n",
    "                                                   disc_params)[1][0,0]\n",
    "        grad_dcost = grad_dcost_real - grad_dcost_fake # as above\n",
    "        grad_dcost = tf.convert_to_tensor(grad_dcost)\n",
    "        # update disc_params\n",
    "        discriminator_optimizer.apply_gradients(zip([grad_dcost],\n",
    "                                                    [disc_params]))\n",
    "        if disc_train_step % D_STEPS == 0:\n",
    "            dloss.append(discriminator_cost(disc_params))\n",
    "\n",
    "    #--- Quantum generator parameter update ---#\n",
    "    for gen_train_step in range(1):\n",
    "        # as formulated above\n",
    "        grad_gcost = gen_opqnn.backward(disc_params,\n",
    "                                        gen_params)[1][0,0]\n",
    "        grad_gcost = tf.convert_to_tensor(grad_gcost)\n",
    "        # update gen_params\n",
    "        generator_optimizer.apply_gradients(zip([grad_gcost],\n",
    "                                                [gen_params]))\n",
    "        gloss.append(generator_cost(gen_params))\n",
    "\n",
    "    #--- Track KL and save best performing generator weights ---#\n",
    "    # Create test circuit with updated gen parameters\n",
    "    gen_checkpoint_circuit = generator.assign_parameters(gen_params.numpy())\n",
    "    # Retrieve probability distribution of current generator\n",
    "    gen_prob_dict = Statevector(gen_checkpoint_circuit\n",
    "                               ).probabilities_dict()\n",
    "    # Constant real probability distribution\n",
    "    real_prob_dict = Statevector(real_circuit).probabilities_dict()\n",
    "    current_kl = calculate_kl_div(gen_prob_dict, real_prob_dict)\n",
    "    kl_div.append(current_kl)\n",
    "    new_best = (np.min(kl_div) == current_kl)\n",
    "    if new_best:\n",
    "        # Store new best generator weights\n",
    "        # serialize & deserialize to just zero links\n",
    "        best_gen_params = pickle.loads(pickle.dumps(gen_params))\n",
    "    if epoch % 30 == 0:\n",
    "        # print table\n",
    "        for header, val in zip(TABLE_HEADERS.split('|'),\n",
    "                              (epoch, gloss[-1], dloss[-1],\n",
    "                               kl_div[-1], new_best)):\n",
    "            print(f\"{val:.3g} \".rjust(len(header)), end=\"|\")\n",
    "        print()"
   ]
  },
  {
   "attachments": {},
   "cell_type": "markdown",
   "id": "8b6e28ff-799e-4423-a492-f5640f554fd4",
   "metadata": {},
   "source": [
    "### Results visualized"
   ]
  },
  {
   "cell_type": "code",
   "execution_count": null,
   "id": "b3c27849",
   "metadata": {
    "tags": []
   },
   "outputs": [
    {
     "data": {
      "image/png": "[encoded data removed]",
      "text/plain": [
       "<Figure size 600x400 with 2 Axes>"
      ]
     },
     "metadata": {},
     "output_type": "display_data"
    }
   ],
   "source": [
    "import matplotlib.pyplot as plt\n",
    "fig, (loss, kl) = plt.subplots(2, sharex=True,\n",
    "                               gridspec_kw={'height_ratios': [0.75, 1]},\n",
    "                               figsize=(6,4))\n",
    "fig.suptitle('QGAN training stats')\n",
    "fig.supxlabel('Training step')\n",
    "loss.plot(range(len(gloss)), gloss, label=\"Generator loss\")\n",
    "loss.plot(range(len(dloss)), dloss, label=\"Discriminator loss\",\n",
    "          color=\"C3\")\n",
    "loss.legend()\n",
    "loss.set(ylabel='Loss')\n",
    "kl.plot(range(len(kl_div)), kl_div, label=\"KL Divergence (zero is best)\",\n",
    "        color=\"C1\")\n",
    "kl.set(ylabel='KL Divergence')\n",
    "kl.legend()\n",
    "fig.tight_layout();"
   ]
  },
  {
   "cell_type": "code",
   "execution_count": null,
   "id": "6bc246fd",
   "metadata": {},
   "outputs": [
    {
     "data": {
      "image/png": "[encoded data removed]",
      "text/plain": [
       "<Figure size 900x300 with 2 Axes>"
      ]
     },
     "metadata": {},
     "output_type": "display_data"
    }
   ],
   "source": [
    "# Create test circuit with new parameters\n",
    "gen_checkpoint_circuit = generator.assign_parameters(best_gen_params.numpy())\n",
    "gen_prob_dict = Statevector(gen_checkpoint_circuit).probabilities_dict()\n",
    "real_prob_dict = Statevector(real_circuit).probabilities_dict() # constant\n",
    "fig, (ax1, ax2) = plt.subplots(1, 2, sharey=True, figsize=(9,3))\n",
    "plot_histogram(gen_prob_dict, ax=ax1)\n",
    "ax1.set_title(\"Trained generator distribution\")\n",
    "plot_histogram(real_prob_dict, ax=ax2)\n",
    "ax2.set_title(\"Real distribution\")\n",
    "ax2.set_ylim([0,.5])\n",
    "fig.tight_layout()"
   ]
  },
  {
   "attachments": {},
   "cell_type": "markdown",
   "id": "5a46142e",
   "metadata": {},
   "source": [
    "Impressive!"
   ]
  },
  {
   "attachments": {},
   "cell_type": "markdown",
   "id": "680ea277",
   "metadata": {},
   "source": [
    "<!-- ::: q-block.exercise -->\n",
    "\n",
    "### Quick quiz\n",
    "\n",
    "Drag the lines of pseudocode into their correct order to complete the program.\n",
    "\n",
    "    q-drag-and-drop-code\n",
    "        .line For n:=0 to N_EPOCHS do:\n",
    "            .line For d:=0 to num_disc_steps do:\n",
    "                .line Compute Z expectation value of d_out qubit when fed fake and real data\n",
    "                .line.md Update $\\vec{\\theta}_{D}$ according to $\\nabla_{\\vec{\\theta}_{D}}\\text{Cost}_D(\\class{theta-d}{\\vec{\\theta_D}},\\class{theta-g}{\\vec{\\theta_G}})$ using ADAM optimizer\n",
    "            .line For g:=0 to num_gen_steps do\n",
    "                .line Compute Z-expectation value of d_out qubit when fed fake data\n",
    "                .line.md Update $\\vec{\\theta}_{G}$ according to $\\nabla_{\\vec{\\theta}_G}\\text{Cost}_G(\\class{theta-d}{\\vec{\\theta_D}},\\class{theta-g}{\\vec{\\theta_G}})$ using ADAM optimizer\n",
    "            .line Compute KL divergence between G and R\n",
    "            .line If current KL divergence is the lowest yet do\n",
    "                .line Save current generator weights\n",
    "\n",
    "<!-- ::: -->"
   ]
  },
  {
   "attachments": {},
   "cell_type": "markdown",
   "id": "eb8c2c33",
   "metadata": {
    "jp-MarkdownHeadingCollapsed": true,
    "tags": []
   },
   "source": [
    "## Potential applications\n",
    "\n",
    "The development of QGANs is still emerging, so there remains much more research to be done on potential applications. However, there is hope that QGANs will enable sampling and manipulation of classically intractable probability distributions (difficult to sample from classically).\n",
    "\n",
    "One particularly interesting application of QGANs is efficient, approximate data loading. In order to see a quantum advantage in data processing - using, e.g., quantum amplitude estimation [6] — we need to load the input data onto a quantum state. However, loading classical data into a quantum circuit is often expensive, and generally even exponentially expensive [7, 8]. Therefore, the data loading complexity can easily impair any potential quantum advantage.\n",
    "\n",
    "As shown in reference [4], QGANs offer an interesting approach to efficiently learn and load approximations of generic probability distributions, as demonstrated in this [tutorial](https://qiskit.org/documentation/machine-learning/tutorials/04_qgans_for_loading_random_distributions.html). Once the probability distribution is loaded into a quantum state, a quantum algorithm such as quantum amplitude estimation can process the data. As shown in this [tutorial](https://qiskit.org/documentation/tutorials/finance/10_qgan_option_pricing.html), this workflow may then be used to, e.g., price options with a potential quadratic quantum speedup.\n",
    "\n",
    "Additionally, in quantum chemistry, quantum computers are believed to have an intrinsic advantage in being able to represent and manipulate correlated [fermionic](gloss:fermionic) states (molecules). A natural question one could ask is: given an adequate ansatz, could QGANs be used to generate new types of molecules that fit the mould of an inputted set of materials/molecules possibly obtained through VQE? That would involve extending QGANs into the conditional realm (inputting a conditional label to both the generator and discriminator, see [conditional GANs](https://arxiv.org/abs/1411.1784) but as of now, it remains an open question.\n",
    "\n",
    "<!-- ::: q-block.exercise -->\n",
    "\n",
    "### Try it\n",
    "\n",
    "To extend the ideas you've just learned, create a QGAN to learn a 3 qubit normal distribution but with a classical discriminator. [Reference 4](https://arxiv.org/abs/1904.00043) will be helpful. You may use the same generator ansatz we've used above, but ensure the discriminator's neural network is adequately sized to match the quantum generator's power.\n",
    "\n",
    "[Try in IBM Quantum Lab](https://quantum-computing.ibm.com/lab)\n",
    "\n",
    "<!-- ::: -->"
   ]
  },
  {
   "attachments": {},
   "cell_type": "markdown",
   "id": "97580477",
   "metadata": {
    "tags": []
   },
   "source": [
    "## References\n",
    "\n",
    "<!-- vale QiskitTextbook.Spelling = NO -->\n",
    "\n",
    "1. I. J. Goodfellow, J. Pouget-Abadie, M. Mirza, B. Xu, D.Warde-Farley, S. Ozair, A. Courville, and Y. Bengio, in *Proceedings of the 27th International Conference on Neural Information Processing Systems* (MIT Press, Cambridge, MA, 2014), Vol. 2, pp. 2672–2680, [arXiv:1406.2661](https://arxiv.org/abs/1406.2661).\n",
    "2. P.-L. Dallaire-Demers, & N. Killoran, *Quantum generative adversarial networks,* Phys. Rev. A 98, 012324 (2018), [doi.org:10.1103/PhysRevA.98.012324](https://doi.org/10.1103/PhysRevA.98.012324), [arXiv:1804.08641](https://arxiv.org/abs/1804.08641)\n",
    "3. S. Lloyd, & C. Weedbrook, *Quantum generative adversarial learning*. Phys. Rev. Lett. 121, 040502 (2018), [doi.org:10.1103/PhysRevLett.121.040502](https://doi.org/10.1103/PhysRevLett.121.040502), [arXiv:1804.09139](https://arxiv.org/abs/1804.09139)\n",
    "4. C. Zoufal, A. Lucchi, and S. Woerner, *Quantum generative adversarial networks for learning and loading random distributions,* npj Quantum Information, 5, Article number: 103 (2019), [doi.org/10.1038/s41534-019-0223-2](https://doi.org/10.1038/s41534-019-0223-2), [arXiv:1904.00043](https://arxiv.org/abs/1904.00043)\n",
    "5. J. Romero, A. Aspuru-Guzik, *Variational quantum generators: Generative adversarial quantum machine learning for continuous distributions* (2019), [arxiv.org:1901.00848](https://arxiv.org/abs/1901.00848)\n",
    "6. Brassard, G., Hoyer, P., Mosca, M. & Tapp, A. *Quantum amplitude amplification and estimation*. Contemp. Math. 305, 53–74 (2002), [doi.org/10.1090/conm/305/05215](http://www.ams.org/books/conm/305/), [arXiv:quant-ph/0005055](https://arxiv.org/abs/quant-ph/0005055)\n",
    "7. L. K. Grover. *Synthesis of quantum superpositions by quantum computation*. Phys. Rev. Lett., 85, (2000), [doi.org/10.1103/PhysRevLett.85.1334](https://link.aps.org/doi/10.1103/PhysRevLett.85.1334)\n",
    "8. M. Plesch and ˇC. Brukner. *Quantum-state preparation with universal gate decompositions*. Phys. Rev. A, 83, (2010), [doi.org/10.1103/PhysRevA.83.032302](https://doi.org/10.1103/PhysRevA.83.032302)"
   ]
  },
  {
   "cell_type": "code",
   "execution_count": null,
   "id": "e08f64c8",
   "metadata": {},
   "outputs": [
    {
     "ename": "ModuleNotFoundError",
     "evalue": "No module named 'qiskit.tools'",
     "output_type": "error",
     "traceback": [
      "\u001b[0;31m---------------------------------------------------------------------------\u001b[0m",
      "\u001b[0;31mModuleNotFoundError\u001b[0m                       Traceback (most recent call last)",
      "Cell \u001b[0;32mIn[30], line 2\u001b[0m\n\u001b[1;32m      1\u001b[0m \u001b[38;5;66;03m# pylint: disable=unused-import\u001b[39;00m\n\u001b[0;32m----> 2\u001b[0m \u001b[38;5;28;01mimport\u001b[39;00m \u001b[38;5;21;01mqiskit\u001b[39;00m\u001b[38;5;21;01m.\u001b[39;00m\u001b[38;5;21;01mtools\u001b[39;00m\u001b[38;5;21;01m.\u001b[39;00m\u001b[38;5;21;01mjupyter\u001b[39;00m\n\u001b[1;32m      3\u001b[0m get_ipython()\u001b[38;5;241m.\u001b[39mrun_line_magic(\u001b[38;5;124m'\u001b[39m\u001b[38;5;124mqiskit_version_table\u001b[39m\u001b[38;5;124m'\u001b[39m, \u001b[38;5;124m'\u001b[39m\u001b[38;5;124m'\u001b[39m)\n",
      "\u001b[0;31mModuleNotFoundError\u001b[0m: No module named 'qiskit.tools'"
     ]
    }
   ],
   "source": [
    "# pylint: disable=unused-import\n",
    "import qiskit.tools.jupyter\n",
    "%qiskit_version_table"
   ]
  }
 ],
 "metadata": {
  "kernelspec": {
   "display_name": "qiskit-ibm",
   "language": "python",
   "name": "python3"
  },
  "language_info": {
   "codemirror_mode": {
    "name": "ipython",
    "version": 3
   },
   "file_extension": ".py",
   "mimetype": "text/x-python",
   "name": "python",
   "nbconvert_exporter": "python",
   "pygments_lexer": "ipython3",
   "version": "3.10.16"
  }
 },
 "nbformat": 4,
 "nbformat_minor": 5
}
