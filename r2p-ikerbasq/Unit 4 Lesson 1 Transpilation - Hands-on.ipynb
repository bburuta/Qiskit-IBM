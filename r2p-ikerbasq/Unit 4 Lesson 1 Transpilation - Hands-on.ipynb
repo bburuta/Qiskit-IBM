{
 "cells": [
  {
   "cell_type": "markdown",
   "id": "38a87610-1e8e-4716-b297-26f3fcdc9894",
   "metadata": {},
   "source": [
    "# Introduction to Transpilation \n"
   ]
  },
  {
   "cell_type": "code",
   "execution_count": 14,
   "id": "156c0bd6-990e-4349-a3a9-f98ef8df9952",
   "metadata": {},
   "outputs": [],
   "source": [
    "# Required packages\n",
    "# %pip install qiskit\n",
    "# %pip install qiskit-ibm-runtime\n",
    "# %pip install qiskit-ibm-transpiler\n",
    "# %pip install qiskit-aer\n",
    "# %pip install colorama\n",
    "# %pip install git+https://github.com/qiskit-community/Quantum-Challenge-Grader.git"
   ]
  },
  {
   "cell_type": "markdown",
   "id": "2b0b80b2",
   "metadata": {},
   "source": [
    "useful functions"
   ]
  },
  {
   "cell_type": "code",
   "execution_count": 16,
   "id": "a9ff66b0",
   "metadata": {},
   "outputs": [],
   "source": [
    "from colorama import Fore, Style\n",
    "from utils import score_func\n",
    "import numpy as np\n",
    "def circuit_characteristics(circuit):\n",
    "    # Extract information from the transpiled circuit\n",
    "    circuit = circuit.decompose(reps=3)\n",
    "\n",
    "    # Output various metrics about the transpiled circuit\n",
    "    cops = circuit.count_ops()\n",
    "    print(f'Count Ops: {cops}')\n",
    "    cd = circuit.depth()\n",
    "    print(f'Total circuit depth: {cd}')\n",
    "    c2qd = circuit.size(lambda x: x.operation.num_qubits == 2)\n",
    "    print(f'Number of 2-qubit gates: {c2qd}')\n",
    "\n",
    "    # Output the score and depth specifically for 2-qubit gates, in color\n",
    "    print(Fore.MAGENTA + Style.BRIGHT + f'2-qubit gate depth: {circuit.depth(lambda x: x.operation.num_qubits == 2)}')\n",
    "    print(Fore.GREEN + f'Score: {score_func(circuit)}')\n",
    "    \n",
    "    return cops, cd, c2qd\n",
    "\n",
    "\n",
    "def save_pm_settings(qc):\n",
    "    l0 = 'name, last_name,init_method,initial_layout,layout_method,routing_method,translation_method,scheduling_method,optimization_method,seed,circuit_depth,2q_depth'\n",
    "\n",
    "    _, cd, c2qd = circuit_characteristics(qc)\n",
    "    variables_list  = [your_name, your_last_name,  init_method, initial_layout, layout_method, routing_method, translation_method, scheduling_method,  optimization_method, seed, cd, c2qd]\n",
    "    variables_list2 =[]\n",
    "    for i in variables_list:\n",
    "        # print(i)\n",
    "        if type(i)== list:\n",
    "            print(i)\n",
    "\n",
    "            variables_list2.append('[' + \"-\".join(map(str, [1,2,3])) + '],')\n",
    "        else:\n",
    "            variables_list2.append('{},'.format(i))\n",
    "\n",
    "    print(variables_list2)\n",
    "    l1 = ''.join(variables_list2)\n",
    "    with open('./my_pm_data.csv','w+') as outfile:\n",
    "        outfile.write(l0)\n",
    "        outfile.write('\\n')\n",
    "        outfile.write(l1)\n",
    "\n",
    "\n",
    "        "
   ]
  },
  {
   "cell_type": "markdown",
   "id": "64a5e978",
   "metadata": {},
   "source": [
    "## Call Service"
   ]
  },
  {
   "cell_type": "code",
   "execution_count": 9,
   "id": "c1b179d1",
   "metadata": {},
   "outputs": [],
   "source": [
    "from qiskit_ibm_runtime import QiskitRuntimeService\n",
    "service = QiskitRuntimeService()\n",
    "backend = service.backend(\"ibm_brisbane\")"
   ]
  },
  {
   "cell_type": "markdown",
   "id": "d4a2937c",
   "metadata": {},
   "source": [
    "## 1. Definition of the Problem\n",
    "### Graph definition"
   ]
  },
  {
   "cell_type": "code",
   "execution_count": null,
   "id": "9c571e68-9c92-4bfb-897b-ae2db357e360",
   "metadata": {},
   "outputs": [],
   "source": [
    "from networkx import barabasi_albert_graph, draw\n",
    "#######################################################\n",
    "#######################################################\n",
    "#######################################################\n",
    "n_nodes = 50\n",
    "graph   = barabasi_albert_graph(n    = n_nodes, \n",
    "                                m    = 7, \n",
    "                                seed = 42)\n",
    "\n",
    "draw(graph, with_labels=True)"
   ]
  },
  {
   "cell_type": "markdown",
   "id": "9a75e232-dbfe-420c-814f-5fe977f154ce",
   "metadata": {},
   "source": [
    "<!-- # Brief Overview: Introduction to the Quantum Approximate Optimization Algorithm (QAOA) -->\n",
    "\n",
    "<!-- ## Quick Intro: What is QAOA?\n",
    "\n",
    "The Quantum Approximate Optimization Algorithm (QAOA) is a quantum algorithm designed to tackle combinatorial optimization problems. These are problems where the goal is to find the optimal solution from a set of finite possible outcomes that are often encountered in tasks like routing, scheduling, or resource allocation. QAOA operates by applying quantum operations that approximate the optimal solution, making it a promising approach for potentially solving these problems efficiently on near-term quantum computers.\n",
    "\n",
    "<div class=\"alert alert-block alert-info\">\n",
    "    \n",
    "⚠️ **Note:** The concept of optimization enters in two distinct ways in this notebook:\n",
    "\n",
    "1. **Solving the Classical Optimization Problem:** Our primary goal is to solve a classical optimization problem by encoding it into quantum circuits and running an algorithm to find a solution. \n",
    "\n",
    "2. **Optimizing Circuit Performance:** There are multiple ways to implement a quantum circuit, each yielding the same result but varying in efficiency on real hardware. Here, we focus on optimizing the circuit implementation to improve its performance characteristics on quantum devices\n",
    "\n",
    "To illustrate these concepts, we use the Quantum Approximate Optimization Algorithm (QAOA) as a practical example for exploring the general problem of circuit optimization, which is essential for extracting useful results from a quantum algorithm.\n",
    "\n",
    "</div> -->\n",
    "\n",
    "<!-- ### Key Components of QAOA\n",
    "\n",
    "QAOA works by encoding the problem into a quantum circuit that evolves through a series of unitary operations. The algorithm iteratively adjusts these operations to find the optimal solution. The two main components of QAOA are:\n",
    "\n",
    "1. **Cost Function Hamiltonian (HC):** This is the problem-specific part of the circuit that encodes the objective function of the optimization problem. The goal of the QAOA is to find the parameters that minimize the expectation value of the cost function, driving the quantum system towards the optimal solution.\n",
    "\n",
    "2. **Mixer Hamiltonian (HM):** This component of the circuit drives the exploration of the solution space. It typically uses single-qubit rotations that evolve the quantum state away from an initial, easily-prepared state.\n",
    "\n",
    "In this notebook, we will focus on optimizing the **cost function circuit** of QAOA. The cost function circuit is crucial because it directly relates to the problem you want to solve. Specifically, the circuit is constructed to reflect the objective function of your optimization problem. -->\n"
   ]
  },
  {
   "cell_type": "markdown",
   "id": "e6237015-01f0-4240-8ef0-911db6da0b6d",
   "metadata": {},
   "source": [
    "<!-- \n",
    "### Why Optimize the Cost Function Circuit?\n",
    "\n",
    "Optimizing the cost function circuit is crucial because it directly impacts the performance and accuracy of QAOA. The circuit’s depth and the number of gates can significantly affect the algorithm's ability to find the optimal solution, especially on noisy quantum hardware. By applying optimization techniques during the transpilation process, we can reduce the circuit's complexity, making it more suitable for execution on real quantum devices.\n",
    "\n",
    "In this notebook, we will use the [Qiskit SDK](https://docs.quantum.ibm.com/api/qiskit)'s transpiler to optimize the cost function circuit of QAOA, starting with a basic implementation, and gradually incorporating more advanced transpilation techniques and customizing our workflow.\n",
    "\n",
    "Now, let's move on to implementing and optimizing the cost function circuit of QAOA using Qiskit SDK's transpiler! -->"
   ]
  },
  {
   "cell_type": "markdown",
   "id": "8225b706-6313-4e42-a5e0-e00a2211370f",
   "metadata": {},
   "source": [
    "<!-- ## 1. Problem Setting - Example: Max-Cut Problem\n",
    "\n",
    "As a concrete example, we'll start our workflow with a graph that represents a hypothetical max-cut problem, where the goal is to divide the nodes in this graph into two sets such that the number of edges between the sets is maximized. The cost function Hamiltonian for our hypothetical Max-Cut problem is formulated as:\n",
    "\n",
    "$$ H_C = \\sum_{(i,j) \\in E} \\frac{1}{2} (1 - Z_i Z_j) $$\n",
    "\n",
    "Here, $Z_i$ and $Z_j$ are Pauli-Z operators acting on qubits $i$ and $j$, and $E$ represents the set of edges in the graph. The cost function circuit for the Max-Cut problem thus involves a series of entangling gates (e.g., $RZZ$ gates defined as: $\\text{RZZ}(\\gamma) = e^{-i \\gamma Z_i Z_j / 2}$  where $\\gamma$ is a parameter to be optimized) that correspond to the edges in the graph. For references and more detail on the problem setting, you can find the tutorial on QAOA on the [learning plaform **here**](ttps://learning.quantum.ibm.com/tutorial/quantum-approximate-optimization-algorithm)  -->\n",
    "### Operator (Hamiltonian)\n",
    "$$ H_C = \\sum_{(i,j) \\in E} \\frac{1}{2} (1 - Z_i Z_j) $$"
   ]
  },
  {
   "cell_type": "markdown",
   "id": "18375b65-f2a5-45ed-a9cb-e54c313eb10a",
   "metadata": {},
   "source": [
    "The graph above corresponds to the following operators:"
   ]
  },
  {
   "cell_type": "code",
   "execution_count": null,
   "id": "417a3020-08ed-4960-9943-930f8a836908",
   "metadata": {
    "scrolled": true
   },
   "outputs": [],
   "source": [
    "from utils import build_max_cut_paulis\n",
    "from qiskit.quantum_info import SparsePauliOp\n",
    "\n",
    "local_correlators = build_max_cut_paulis(graph)\n",
    "cost_operator     = SparsePauliOp.from_list(local_correlators)\n",
    "num_qubits        = cost_operator.num_qubits\n",
    "print('Number of qubits in operator (Hamiltonian): ', num_qubits)\n",
    "print('\\nDeglosed Operator (Each term of the Sum)\\n')\n",
    "print(f'Number of terms in operator {len(cost_operator)}\\n')\n",
    "print('Full operator:')\n",
    "for n, oo in enumerate(cost_operator):\n",
    "    print(f'        Operator {n}',oo)"
   ]
  },
  {
   "cell_type": "markdown",
   "id": "56e48564-f65a-4a17-81b3-33c977bb1f5b",
   "metadata": {},
   "source": [
    "### Ansatz (circuit)\n",
    "\n",
    "Let’s construct the cost function circuit for this example. This operator maps to a 50-qubit QAOA circuit:"
   ]
  },
  {
   "cell_type": "markdown",
   "id": "7e2a4322-9261-4669-b874-676ab48a7bb2",
   "metadata": {},
   "source": [
    "Now let's build the QAOA circuit/ansatz. We will use the [`QAOAAnsatz`](https://docs.quantum.ibm.com/api/qiskit/qiskit.circuit.library.QAOAAnsatz) function in Qiskit to define it for us."
   ]
  },
  {
   "cell_type": "code",
   "execution_count": null,
   "id": "8f783115-4f31-4904-abbe-902f7b1399a1",
   "metadata": {},
   "outputs": [],
   "source": [
    "from qiskit import QuantumCircuit\n",
    "from qiskit.circuit.library import QAOAAnsatz\n",
    "from qiskit.circuit import ParameterVector\n",
    "\n",
    "# We are taking advantage of the QAOAAnsatz class to build the cost layer, \n",
    "# note that we are giving it dummy initial state and mixer circuits.\n",
    "\n",
    "dummy_initial_state  = QuantumCircuit(num_qubits)  # the real initial state is defined later\n",
    "dummy_mixer_operator = QuantumCircuit(num_qubits)  # the real mixer is defined later\n",
    "\n",
    "# Use off-the-shelf qiskit QAOAAnsatz\n",
    "ansatz = QAOAAnsatz(\n",
    "    cost_operator,\n",
    "    reps          = 1,\n",
    "    initial_state = dummy_initial_state,\n",
    "    mixer_operator= dummy_mixer_operator,\n",
    "    name          = \"QAOA cost block\",\n",
    "    )\n",
    "\n",
    "ansatz.decompose().decompose().draw( fold=-1, scale=0.75,idle_wires=False)"
   ]
  },
  {
   "cell_type": "markdown",
   "id": "e94c9e27-847b-4e83-9a15-5c0d0e91a64e",
   "metadata": {},
   "source": [
    "## 2. Basic Transpilation with Preset Pass Manager\n",
    "\n",
    "### Why Transpilation?\n",
    "\n",
    "In quantum computing, a quantum circuit is a sequence of quantum gates applied to qubits to perform a computation. However, the circuit you initially design isn't always optimal for execution on a real quantum computer. This is where **transpilation** comes in.\n",
    "\n",
    "### Transpilation Stages\n",
    "\n",
    "1. **`init`:** This stage involves preparing the circuit by converting any custom instructions into single- and two-qubit gates, which are standard types of gates that the QPU can execute. This step also validates the circuit's instructions.\n",
    "\n",
    "2. **`layout`:** During this stage, the virtual qubits in your circuit are mapped to the physical qubits on the QPU. This mapping is crucial because it determines how the qubits interact with each other based on the device's connectivity.\n",
    "\n",
    "3. **`routing`:** After applying the layout, the circuit may need additional gates (such as SWAP gates) to ensure that qubits can interact according to the device's coupling map. This stage injects these gates to maintain the circuit's logical structure while adhering to the hardware's connectivity.\n",
    "\n",
    "4. **`translation`:** In this stage, the circuit's gates are translated into the specific set of instructions (basis gates) that the QPU can execute. This ensures that the circuit is compatible with the device's Instruction Set Architecture (ISA).\n",
    "\n",
    "5. **`optimization`:** This stage involves applying various optimization passes to reduce the circuit's depth and gate count. The goal is to find more efficient ways to represent the circuit that minimize the potential for errors and noise during execution.\n",
    "\n",
    "6. **`scheduling`:** The final stage is scheduling, which organizes the execution of the circuit's instructions to account for idle times and other hardware constraints. This stage is particularly important for optimizing circuits on near-term devices.\n",
    "\n",
    "For more details on the specifics of each of these stages, **check out this documentation link on [IBM Quantum Documentation](https://docs.quantum.ibm.com/guides/transpiler-stages).**\n",
    "\n",
    "Let’s now select a target IBM Quantum backend from the Qiskit Runtime service to optimize our circuits. The backend target we are selecting is `ibm_brisbane`.\n"
   ]
  },
  {
   "cell_type": "markdown",
   "id": "166028b4-2873-4065-959c-7d6108598a79",
   "metadata": {},
   "source": [
    "### Using Preset Pass Managers\n",
    "\n",
    "Qiskit provides a convenient way to perform transpilation through **preset pass managers** using [`generate_preset_pass_manager`](https://docs.quantum.ibm.com/guides/defaults-and-configuration-options). These are predefined sets of transpilation passes that optimize the circuit to varying degrees depending on the selected **optimization level**:\n",
    "\n",
    "- **Level 0:** *[No Optimization]* - Basic translation with trivial qubit mapping and no optimizations, primarily for hardware characterization.\n",
    "- **Level 1:** *[Light Optimization]* - Reduces gate count and simplifies the circuit with minimal compile time, using basic layout and gate optimization.\n",
    "- **Level 2:** *[Medium Optimization]* - Applies more sophisticated heuristic-based optimizations to further reduce circuit complexity. You can find more specifics in the documentation link [here](https://docs.quantum.ibm.com/guides/set-optimization)\n",
    "- **Level 3:** *[High Optimization]* - Performs the most extensive optimizations, including advanced gate resynthesis and in-depth layout adjustments.\n",
    "\n",
    "Each optimization level offers a different balance between the quality of the optimized circuit and the time it takes to transpile. Higher levels generally produce better optimized circuits but require more time to complete.\n",
    "\n",
    "<div class=\"alert alert-block alert-info\">\n",
    "\n",
    "💡 **Why Use `generate_preset_passmanager` Instead of `transpile`?**\n",
    "\n",
    "You may wonder why we recommend `generate_preset_passmanager` over the traditional `transpile` function. <b>Here’s why:</b> While `transpile` offers general optimization, `generate_preset_passmanager` provides greater flexibility and customization specifically tailored to different quantum hardware. With it, you can more precisely control aspects like gate reduction, error suppression, and qubit routing, helping you build circuits optimized for specific backend or execution requirements.\n",
    " \n",
    "We encourage you to explore `generate_preset_passmanager` for a more powerful, flexible and customizable approach to circuit optimization, adding targeted enhancements to your quantum development workflow.\n",
    "</div>\n",
    "\n",
    "\n",
    "In this section, you will apply a preset pass manager to the QAOA cost function circuit designed to solve the Max-Cut problem. Initially, the circuit will be in its raw form, containing standard quantum gates like Hadamard and CNOT. By applying different levels of optimization, you will observe how the circuit is transformed into a more hardware-efficient version that uses gates supported by the chosen backend, such as RZ, X, SX, and ECR gates."
   ]
  },
  {
   "cell_type": "code",
   "execution_count": null,
   "id": "e45bcc55-47ac-4feb-a76b-08dafc6d658a",
   "metadata": {
    "scrolled": true
   },
   "outputs": [],
   "source": [
    "# Pre-transpilation circuit\n",
    "print(ansatz.decompose(reps=2).count_ops())"
   ]
  },
  {
   "cell_type": "markdown",
   "id": "5d69208d",
   "metadata": {},
   "source": [
    "### How generate_preset_passmanager works? \n"
   ]
  },
  {
   "cell_type": "code",
   "execution_count": null,
   "id": "b32cd9c4",
   "metadata": {},
   "outputs": [],
   "source": [
    "from qiskit import QuantumCircuit\n",
    "from qiskit.transpiler.preset_passmanagers import generate_preset_pass_manager\n",
    "\n",
    "qc=QuantumCircuit(13)\n",
    "\n",
    "for i in range(qc.num_qubits-1):\n",
    "    qc.h(i)\n",
    "    qc.cx(i,i+1)\n",
    "\n",
    "######################################################### How transpilation works\n",
    "# STEP1: invoke the pass_manager\n",
    "mypm = generate_preset_pass_manager(optimization_level=3, \n",
    "                                    backend=backend,\n",
    "                                    )\n",
    "# STEP2: run the transpilation and name it as your \"new\" circuit\n",
    "transpiled_qc = mypm.run(qc)\n",
    "\n",
    "######################################################### DONE\n",
    "print('Before transpilation:')\n",
    "print('         ',qc.decompose(reps=2).count_ops())\n",
    "print('After transpilation:')\n",
    "print('         ',transpiled_qc.count_ops())"
   ]
  },
  {
   "cell_type": "markdown",
   "id": "331335de-6452-4b23-b7b9-ba9d49adb3cf",
   "metadata": {},
   "source": [
    "\n",
    "### Exercise 1: Explore Transpilation Levels\n",
    "<div class=\"alert alert-block alert-success\">\n",
    "    \n",
    "<!-- <b> Exercise 1: Explore Transpilation Levels</b>  -->\n",
    "\n",
    "Now that you understand the basics of transpilation and the role of preset pass managers, it’s time to put this knowledge into practice. <b>Try transpiling the QAOA circuit you created earlier using `generate_preset_pass_manager`, and explore different `optimization_levels`.</b> Observe how the circuit changes and consider which level of optimization provides the best balance between transpilation time and circuit efficiency for your specific problem.\n",
    "</div> "
   ]
  },
  {
   "cell_type": "code",
   "execution_count": null,
   "id": "e6a17b33-c002-4586-b409-b1a4dce4f75c",
   "metadata": {},
   "outputs": [],
   "source": [
    "# Import necessary libraries\n",
    "import time\n",
    "from qiskit.transpiler.preset_passmanagers import generate_preset_pass_manager\n",
    "\n",
    "\n",
    "##################################\n",
    "### Write your code below here ###\n",
    "\n",
    "# Generate a preset pass manager for transpilation\n",
    "\n",
    "\n",
    "### Don't change any code past this line ###\n",
    "##################################\n",
    "###############  Measure the start time of the transpilation process\n",
    "t0 = time.time()\n",
    "\n",
    "# Run the pass manager to transpile the QAOA cost layer circuit\n",
    "naively_transpiled_qaoa = pm_ex1.run(ansatz)\n",
    "print('Before transpilation:')\n",
    "print('         ',ansatz.decompose(reps=2).count_ops())\n",
    "# Measure the end time of the transpilation process\n",
    "t1 = time.time()\n",
    "print('After transpilation:')\n",
    "print('         ',naively_transpiled_qaoa.count_ops())\n",
    "# Print the total transpilation time\n",
    "print(f\"          Transpilation time: {t1 - t0:.2f} (s)\")"
   ]
  },
  {
   "cell_type": "code",
   "execution_count": null,
   "id": "acf179b7-25f0-45e6-8830-9c5a8b8b6382",
   "metadata": {},
   "outputs": [],
   "source": [
    "# Extract information from the transpiled circuit\n",
    "circuit = naively_transpiled_qaoa\n",
    "print(circuit.num_qubits)\n",
    "circuit_characteristics(circuit)"
   ]
  },
  {
   "cell_type": "markdown",
   "id": "3b7f1531",
   "metadata": {},
   "source": [
    "#### Transpiling the Operator (Hamiltonian)"
   ]
  },
  {
   "cell_type": "code",
   "execution_count": null,
   "id": "1f5af548",
   "metadata": {},
   "outputs": [],
   "source": [
    "isa_op = cost_operator.apply_layout(layout=naively_transpiled_qaoa.layout)\n",
    "isa_op.num_qubits"
   ]
  },
  {
   "cell_type": "markdown",
   "id": "f2bad44d",
   "metadata": {},
   "source": [
    "## 3. Customize Transpilation Settings in `generate_preset_pass_manager`"
   ]
  },
  {
   "cell_type": "markdown",
   "id": "c78c0ef3",
   "metadata": {},
   "source": [
    "### Stage1 : init (Initialization stage)\n",
    "---\n",
    "\n",
    "* Optimization,\n",
    "* Multi-qubit operations (gates) $\\rightarrow$ 1- and 2-qubit operations. These kindof operations are the ones that the backend can perform.\n",
    "\n",
    "This stage has only one option \"default\", so there is not much to do.\n",
    "#### Virtual Circuit"
   ]
  },
  {
   "cell_type": "code",
   "execution_count": null,
   "id": "7e13fe72",
   "metadata": {},
   "outputs": [],
   "source": [
    "from qiskit import  QuantumCircuit\n",
    "import numpy as np\n",
    "########################### GATE\n",
    "mygate = QuantumCircuit(3, name =r'my-gate' )\n",
    "mygate.mcrx(theta      = np.pi,\n",
    "            q_controls = [0,1],\n",
    "            q_target   = 2)\n",
    "mygate.to_gate()\n",
    "\n",
    "########################### CIRCUIT\n",
    "qc = QuantumCircuit(3)\n",
    "# 2 consecutive Hadamard gates\n",
    "qc.h(0)\n",
    "qc.h(0)\n",
    "\n",
    "qc.barrier()\n",
    "# apply the CRX gate\n",
    "qc.append(mygate, [0,1,2])\n",
    "print('VIRTUAL CIRCUIT')\n",
    "qc.draw('mpl',initial_state=True)"
   ]
  },
  {
   "cell_type": "markdown",
   "id": "bf7d9447",
   "metadata": {},
   "source": [
    "#### Generate the pass manager & Transpilation"
   ]
  },
  {
   "cell_type": "code",
   "execution_count": null,
   "id": "3cce3308",
   "metadata": {},
   "outputs": [],
   "source": [
    "from qiskit.transpiler.preset_passmanagers import generate_preset_pass_manager\n",
    "\n",
    "print('backend name:',backend.name,'\\nnum of qubits:',backend.num_qubits)\n",
    "\n",
    "pm = generate_preset_pass_manager(backend     = backend,\n",
    "                                  init_method = 'default',\n",
    "                                  seed_transpiler = 12345)\n",
    "\n",
    "\n",
    "isa_qc = pm.init.run(qc)\n",
    "\n",
    "print('PHYSICAL CIRCUIT')\n",
    "isa_qc.draw(fold = -1,output= 'mpl')"
   ]
  },
  {
   "cell_type": "markdown",
   "id": "fe17ded8",
   "metadata": {},
   "source": [
    "### Stage 2: Layout (placement)\n",
    "---\n",
    "\n",
    "Maps the virtual qubits to the physical qubits (backend qubits).\n",
    "\n",
    "1. Mimics the virtual circuit as in the physical, i.e., from n-virtual qubits to backend-qubits.\n",
    "2. Expands the virtual circuits operations to the backend-native operations.\n",
    "\n",
    "**Layout methods**\n",
    "* **default**: When `optimization_level=0`, 1st performs a `VF2Layout` to find a \"perfect\", if not it performs a `SabreLayout`.\n",
    "\n",
    "* **dense** (DenseLayout): Searchs for the greatest number of available connection (dense) in the backend qubits.\n",
    "\n",
    "* **trivial** (TrivialLayout): The $q_{i}^{virtual} \\rightarrow q_{i}^{physical}$. Is one-to-one mapping. Hint: you can add a layout in the `QuantumCircuit`.\n",
    "\n",
    "* **sabre** (SabreLayout): To choose an initial layout, then improves the circuit by doing a `Routing` (explained in the next step), reverse the circuit and apply `Routing` again. It depends of the `optimization_level` to try random initial layouts. For `optimization_level=0` only runs sabre, but for `optimization_level != 0` its tries to find the \"perfect\" layout, similar to **default**.\n",
    "\n",
    "**Brisbane layout**\n",
    "\n",
    "ADD the FIGURE"
   ]
  },
  {
   "cell_type": "markdown",
   "id": "05c7f028",
   "metadata": {},
   "source": [
    "#### Generate the pass manager & Transpilation"
   ]
  },
  {
   "cell_type": "code",
   "execution_count": null,
   "id": "79a08aa6",
   "metadata": {},
   "outputs": [],
   "source": [
    "from qiskit.transpiler.preset_passmanagers import generate_preset_pass_manager\n",
    "print('backend name',backend.name,'\\nnum of qubits',backend.num_qubits)\n",
    "pm = generate_preset_pass_manager(backend            = backend,\n",
    "                                  layout_method      = 'default',\n",
    "                                  # initial_layout     = [117,118,110],\n",
    "                                  seed_transpiler    = 12345)\n",
    "\n",
    "isa_qc = pm.layout.run(qc)\n",
    "\n",
    "print('Circuit depth:',isa_qc.depth())\n",
    "\n",
    "isa_qc.draw('mpl',fold=-1,idle_wires=False)\n"
   ]
  },
  {
   "cell_type": "markdown",
   "id": "2776c88c",
   "metadata": {},
   "source": [
    "#### Task\n",
    "\n",
    "<div class=\"alert alert-block alert-success\">\n",
    "\n",
    "Transpile with different layout methods (5 minutes):\n",
    "\n",
    "* Use seed = 12345\n",
    "* Don't forget the backend\n",
    "<div>"
   ]
  },
  {
   "cell_type": "code",
   "execution_count": null,
   "id": "48701c11",
   "metadata": {},
   "outputs": [],
   "source": [
    "layout_options = ['default','dense','trivial','sabre']\n",
    "for ll in layout_options:\n",
    "  print('\\033[1m'+'Layout Method:',ll)\n",
    "  ##################################\n",
    "  ### Write your code below here ###\n",
    "\n",
    "  \n",
    "  ### Don't change any code past this line ###\n",
    "  ##################################\n",
    "  isa_qc = pm.layout.run(qc)\n",
    "  display(isa_qc.draw('mpl',fold=-1,idle_wires=False))\n",
    "  print('\\n    Circuit depth:', isa_qc.depth())\n",
    "  print('---'*50)"
   ]
  },
  {
   "cell_type": "markdown",
   "id": "5d2f767d",
   "metadata": {},
   "source": [
    "### Stage3: Routing (Mapping or Swap-mapping) \n",
    "--- \n",
    "* ($Graph_{virtual}\\rightarrow Graph_{physical}$)\n",
    "\n",
    "Routing in your circuit ensures hardware compatibility and optimizes execution by inserting necessary swap gates. It also reduces errors by minimizing noise and maximizing fidelity.\n",
    "\n",
    "Why apply swap gates?\n",
    "* because multi-qubit gates, like CNOT, need to be connected. \n",
    "\n",
    "**Routing options**\n",
    "\n",
    "* **basic**: Searches for qubit swaps following the most short rute, such that the connection to be executable in the device.\n",
    "\n",
    "* **sabre**: Uses sabre algorithm to swap the 2-qubit gate operations.\n",
    "* **stochastic**: Consider operations layer-by-layer, using a stochastic algorithm to find swap networks that implement a suitable permutation to make the layer executable.\n",
    "* **lookahead**: Explore the nodes in the graph and heuristic techniques to swap gates and make them executable in the physical-graph.\n",
    "\n",
    "#### Virtual Circuit"
   ]
  },
  {
   "cell_type": "code",
   "execution_count": null,
   "id": "81fab541",
   "metadata": {},
   "outputs": [],
   "source": [
    "from qiskit import  QuantumCircuit\n",
    "import numpy as np\n",
    "########################### CIRCUIT\n",
    "qc = QuantumCircuit(30)\n",
    "qc.h(0)\n",
    "qc.h(0)\n",
    "qc.barrier()\n",
    "qc.y(qubit=1)\n",
    "qc.rx(0.5,2)\n",
    "qc.barrier()\n",
    "\n",
    "for i in range(qc.num_qubits-1):\n",
    "    qc.cx(i, i+1)\n",
    "print('VIRTUAL CIRCUIT')\n",
    "qc.draw('mpl',initial_state=True, fold=-1)"
   ]
  },
  {
   "cell_type": "markdown",
   "id": "9050b56c",
   "metadata": {},
   "source": [
    "#### Generate the pass manager & Transpilation"
   ]
  },
  {
   "cell_type": "code",
   "execution_count": null,
   "id": "c47adb3c",
   "metadata": {},
   "outputs": [],
   "source": [
    "from qiskit.transpiler.preset_passmanagers import generate_preset_pass_manager\n",
    "import numpy as np\n",
    "pm = generate_preset_pass_manager(backend            = backend,     \n",
    "                                  layout_method      ='default', \n",
    "                                  routing_method     ='basic' ,\n",
    "                                  seed_transpiler    = 12345)\n",
    "\n",
    "pre_isa_qc = pm.layout.run(qc)\n",
    "isa_qc     = pm.routing.run(pre_isa_qc)\n",
    "# display(isa_qc.decompose(reps=1).draw('mpl',fold=-1, idle_wires=False))\n",
    "print('\\n    circuit depth:', isa_qc.depth())\n",
    "print('---'*50)"
   ]
  },
  {
   "cell_type": "markdown",
   "id": "3ca8af53",
   "metadata": {},
   "source": [
    "#### Task & Questions\n",
    "\n",
    "<div class=\"alert alert-block alert-success\">\n",
    "Explore with the different routing methods. Which one is more effective? Which one takes less time?\n",
    "<div>"
   ]
  },
  {
   "cell_type": "code",
   "execution_count": null,
   "id": "21060599",
   "metadata": {},
   "outputs": [],
   "source": [
    "import time\n",
    "\n",
    "routing_options = ['basic','sabre','stochastic','lookahead']\n",
    "times = []\n",
    "for oo in routing_options:\n",
    "    print('\\033[1m'+'layout method:',oo)\n",
    "    ##################################\n",
    "    ### Write your code below here ###\n",
    "\n",
    "    \n",
    "    ### Don't change any code past this line ###\n",
    "    ##################################\n",
    "    start      = time.time()\n",
    "    pre_isa_qc = pm.layout.run(qc)\n",
    "    isa_qc     = pm.routing.run(pre_isa_qc)\n",
    "    dt         = time.time()-start\n",
    "    times.append(dt)\n",
    "\n",
    "    # display(isa_qc.decompose(reps=3).draw('mpl',fold=-1,idle_wires=False))\n",
    "    circuit_characteristics(isa_qc)\n",
    "    print('transpilation time (sec.):', dt)\n",
    "    print('---'*50)\n",
    "import matplotlib.pyplot as plt\n",
    "plt.bar(routing_options,times)\n",
    "plt.ylabel('time (sec.)')"
   ]
  },
  {
   "cell_type": "markdown",
   "id": "893bdf14",
   "metadata": {},
   "source": [
    "### Stage4: Translation\n",
    "\n",
    "Translates the gates in the virtual circuit to the ones natives in the backend.\n",
    "\n",
    "**Translation methods**\n",
    "\n",
    "* **translator**: Symbolic translation of gates to the target basis using known equivalences.\n",
    "* **synthesis**:  Collect each run of one- and two-qubit gates into a matrix representation, and resynthesize from there.\n",
    "#### Virtual Circuit"
   ]
  },
  {
   "cell_type": "code",
   "execution_count": null,
   "id": "3130c373",
   "metadata": {},
   "outputs": [],
   "source": [
    "from qiskit import  QuantumCircuit\n",
    "import numpy as np\n",
    "########################### CIRCUIT\n",
    "qc = QuantumCircuit(30)\n",
    "qc.h(0)\n",
    "qc.h(0)\n",
    "qc.barrier()\n",
    "qc.y(qubit=1)\n",
    "qc.rx(0.5,2)\n",
    "qc.barrier()\n",
    "\n",
    "for i in range(qc.num_qubits-1):\n",
    "    qc.cx(i, i+1)\n",
    "print('VIRTUAL CIRCUIT')\n",
    "qc.draw('mpl',initial_state=True, fold=-1)"
   ]
  },
  {
   "cell_type": "markdown",
   "id": "b96c4ab9",
   "metadata": {},
   "source": [
    "#### Generate the pass manager & Transpilation"
   ]
  },
  {
   "cell_type": "code",
   "execution_count": null,
   "id": "4254120c",
   "metadata": {},
   "outputs": [],
   "source": [
    "pm = generate_preset_pass_manager(\n",
    "    backend=backend, \n",
    "    layout_method='sabre',\n",
    "    routing_method='sabre',\n",
    "    translation_method='synthesis', \n",
    "    seed_transpiler=12345)\n",
    "\n",
    "pre_isa_qc=pm.init.run(qc)   # Stage 1\n",
    "pre_isa_qc=pm.layout.run(pre_isa_qc)   #Stage 2\n",
    "# pre_isa_qc = pm.routing.run(pre_isa_qc)  #Stage 3 \n",
    "# pre_isa_qc = pm.translation.run(pre_isa_qc) #Stage 4\n",
    "# pre_isa_qc = pm.optimization.run(pre_isa_qc) #Stage 5\n",
    "isa_qc     = pm.translation.run(pre_isa_qc)\n",
    "\n",
    "display(isa_qc.draw('mpl',fold=-1, ))\n",
    "circuit_characteristics(isa_qc)\n",
    "print('---'*50)"
   ]
  },
  {
   "cell_type": "markdown",
   "id": "a370dfa6",
   "metadata": {},
   "source": [
    "#### Task & Question\n",
    "<div class=\"alert alert-block alert-success\">\n",
    "\n",
    "**7 minutes**\n",
    "\n",
    "* Create a new circuit but instead of a Y-gate use a RZ-gate (or X-gate).\n",
    "\n",
    "* What happends to the virtual gate?\n",
    "\n",
    "* Explore the translation methods: \n",
    "    * translation methods ```['synthesis', 'translator'] ```\n",
    "<div>"
   ]
  },
  {
   "cell_type": "markdown",
   "id": "e95a2c72",
   "metadata": {},
   "source": [
    "### Stage5: Optimization\n",
    "\n",
    "The optimization stage in quantum circuit transpilation focuses on making low-level improvements, considering the specific characteristics of the hardware. This stage optimizes the circuits to work more efficiently on the quantum device.\n",
    "\n",
    "Key points:\n",
    "\n",
    "* Low-level optimization: Detailed adjustments are made to the circuit to enhance its performance on the specific hardware.\n",
    "* ISA-compatible circuits: The input and output of this stage are circuits that are already compatible with the hardware's instruction set architecture (ISA).\n",
    "* Iteration and adjustments: This stage often includes an optimization loop that can make multiple adjustments until the best possible result is achieved.\n",
    "\n",
    "#### Virtual Circuit"
   ]
  },
  {
   "cell_type": "code",
   "execution_count": null,
   "id": "17d7ef5e",
   "metadata": {},
   "outputs": [],
   "source": [
    "from qiskit import  QuantumCircuit\n",
    "\n",
    "########################### CIRCUIT\n",
    "qc = QuantumCircuit(3)\n",
    "qc.h(0)\n",
    "qc.h(0)\n",
    "qc.barrier()\n",
    "qc.y(qubit=1)\n",
    "qc.barrier()\n",
    "\n",
    "for i in range(2):\n",
    "    qc.cx(i, i+1)\n",
    "print('VIRTUAL CIRCUIT')\n",
    "qc.draw('mpl',initial_state=True)"
   ]
  },
  {
   "cell_type": "code",
   "execution_count": null,
   "id": "87bdfa88",
   "metadata": {},
   "outputs": [],
   "source": [
    "pm = generate_preset_pass_manager(backend             = backend,      \n",
    "                                #   optimization_method = 'default', \n",
    "                                  optimization_level  = 1,\n",
    "                                  seed_transpiler     = 12345)\n",
    "pre_isa_qc = pm.init.run(qc)   # Stage 1\n",
    "pre_isa_qc = pm.layout.run(pre_isa_qc)   #Stage 2\n",
    "pre_isa_qc = pm.translation.run(pre_isa_qc)\n",
    "display(isa_qc.draw('mpl',fold=-1,idle_wires=False))\n",
    "isa_qc     = pm.optimization.run(pre_isa_qc)\n",
    "\n",
    "display(pre_isa_qc.draw('mpl',fold=-1,idle_wires=False))\n",
    "circuit_characteristics(isa_qc)\n",
    "print('---'*50)"
   ]
  },
  {
   "cell_type": "markdown",
   "id": "50d65578",
   "metadata": {},
   "source": [
    "#### Task\n",
    "<div class=\"alert alert-block alert-success\">\n",
    "\n",
    "Repeat the transpilation for different values of `optimization_level`.\n",
    "\n",
    "<div>"
   ]
  },
  {
   "cell_type": "markdown",
   "id": "8c75c903",
   "metadata": {},
   "source": [
    "### Stage6: Scheduling\n",
    "\n",
    "The Scheduling stage in quantum circuit transpilation is responsible for inserting explicit Delay instructions to account for idle periods of qubits. This stage ensures that the timing of operations is aligned with the hardware's constraints.\n",
    "\n",
    "Key points:\n",
    "\n",
    "* Explicit Delays: Adds Delay instructions to make idle times explicit.\n",
    "* Timing Constraints: Ensures operations meet the hardware's timing requirements.\n",
    "* Dynamical Decoupling: May include techniques like dynamical decoupling to reduce errors.\n"
   ]
  },
  {
   "cell_type": "code",
   "execution_count": null,
   "id": "ee16cfdc",
   "metadata": {},
   "outputs": [],
   "source": [
    "from qiskit import  QuantumCircuit\n",
    "import numpy as np\n",
    "########################### CIRCUIT\n",
    "qc = QuantumCircuit(3)\n",
    "# 2 consecutive Hadamard gates\n",
    "qc.h(0)\n",
    "qc.h(0)\n",
    "qc.barrier()\n",
    "qc.y(qubit=1)\n",
    "qc.barrier()\n",
    "\n",
    "for i in range(qc.num_qubits-1):\n",
    "\n",
    "    qc.cx(i, i+1)\n",
    "    if i+2 < qc.num_qubits:\n",
    "        qc.cx(i+1, i+2)\n",
    "print('VIRTUAL CIRCUIT')\n",
    "qc.draw('mpl',initial_state=True)"
   ]
  },
  {
   "cell_type": "code",
   "execution_count": null,
   "id": "62c0515a",
   "metadata": {},
   "outputs": [],
   "source": [
    "pm = generate_preset_pass_manager(backend             = backend,      \n",
    "                                  optimization_level  = 0,\n",
    "                                  scheduling_method   = 'asap',\n",
    "                                  seed_transpiler     = 12345)\n",
    "pre_isa_qc = pm.run(qc)\n",
    "\n",
    "isa_qc = pm.scheduling.run(pre_isa_qc)\n",
    "\n",
    "display(isa_qc.decompose(reps=3).draw('mpl',fold=-1, idle_wires=False))\n",
    "circuit_characteristics(isa_qc)\n",
    "print('---'*50)"
   ]
  },
  {
   "cell_type": "markdown",
   "id": "33fc2fe6",
   "metadata": {},
   "source": [
    "---"
   ]
  },
  {
   "cell_type": "markdown",
   "id": "f63571c1-5f18-412c-8c76-1664c164b7d8",
   "metadata": {},
   "source": [
    "###  Optional Homework 1 - (Using the QAOA-ansatz)\n",
    "\n",
    "<div class=\"alert alert-block alert-success\">\n",
    "\n",
    "Next, consider customizing some of the parameters available in the `generate_preset_pass_manager` function to see how they affect the transpilation process. You can adjust settings related to the circuit's `init`, `layout`, `routing`, `translation`, `optimization`, and `scheduling` stages.\n",
    "\n",
    "<!-- Explore changing parameters pertaining to the transpilation stages and observe how these changes impact circuit metrics:\n",
    "\n",
    "- **Init Stage:** Customize the synthesis algorithms with hls_config, select a different initialization plugin using `init_method`, or adjust the unitary synthesis method with `unitary_synthesis_method` and `unitary_synthesis_plugin_config`.\n",
    "- **Layout Stage:** Modify the `layout_method` to change how the initial layout of qubits is selected. Options include `trivial`, `dense`, `noise_adaptive`, or `sabre`.\n",
    "- **Routing Stage:** Adjust the `routing_method` to influence how qubits are swapped during the circuit execution. Options include `basic`, `lookahead`, `stochastic`, `sabre`, or `none`.\n",
    "- **Translation Stage:** Experiment with the translation_method to determine how the circuit is converted to the backend’s native gate set, choosing between `translator` or `synthesis`.\n",
    "- **Optimization Stage:** Experiment with the `approximation_degree` to trade off accuracy for gate reduction. You can set it to a value between `0.0` (maximal approximation) and `1.0` (no approximation), or `None` to automatically match the error rate.\n",
    "- **Scheduling Stage:** Control the timing of gate execution with the scheduling_method, selecting either `as_soon_as_possible` (ASAP) or `as_late_as_possible` (ALAP). -->\n",
    "\n",
    "You can learn more about these options here in the [documentation](https://docs.quantum.ibm.com/guides/defaults-and-configuration-options).\n",
    "\n",
    "This homework will save a file which you have to send it.\n",
    "\n",
    "<div>"
   ]
  },
  {
   "cell_type": "markdown",
   "id": "9dede04e-0d7c-47b7-b724-945ebe4bfe2b",
   "metadata": {},
   "source": [
    "<!-- <div class=\"alert alert-block alert-success\">\n",
    "<b>Make the most of the in-person QDC experience</b>\n",
    "    \n",
    "Feel free to experiment with the preset PassManager to discover the different ways they can add value to your quantum projects. Please do not hesitate to reach out to the mentors and IBMers in the room to ask questions and learn how to unlock even more potential from each of these capablities!\n",
    "\n",
    "</div> -->"
   ]
  },
  {
   "cell_type": "markdown",
   "id": "8be73f78-920e-43ce-be98-930a59fe2caa",
   "metadata": {},
   "source": [
    "**Debugging tip:** When customizing transpilation settings, it can be extremely helpful to print out the list of passes that will be applied. This allows you to verify that your custom passes are being included in the correct order and that no unwanted default passes are being added. You can do this by adding a callback function as follows:"
   ]
  },
  {
   "cell_type": "code",
   "execution_count": 40,
   "id": "b66cd1d0-1dd7-4081-b1c9-124b24299be3",
   "metadata": {
    "scrolled": true
   },
   "outputs": [],
   "source": [
    "def callback_func(pass_, dag, time, property_set, count):\n",
    "    print(f\"PASS {count}: {pass_.name()} in {time}\")\n",
    "    print(f\"ops: {dag.count_ops()}\")\n",
    "    print(f\"dep: {dag.depth()}\")\n",
    "    print(f\"========\")"
   ]
  },
  {
   "cell_type": "markdown",
   "id": "1e6901db-a091-46a3-9631-d1264d2e825c",
   "metadata": {},
   "source": [
    "Examining the pass list helps you understand exactly how your circuit is being transpiled and can be invaluable for troubleshooting unexpected results or optimizing the transpilation process. If you notice passes that shouldn't be there, or are missing passes that you expected to be there, you can adjust your `generate_preset_passmanager` configuration accordingly.\n",
    "\n",
    "Experiment with modifying parameters associated with the transpilation stages to observe their impact on your circuit metrics:"
   ]
  },
  {
   "cell_type": "code",
   "execution_count": null,
   "id": "c1c0baab-9c2f-4051-b2da-f3ebde70c90a",
   "metadata": {},
   "outputs": [],
   "source": [
    "import time\n",
    "\n",
    "from qiskit.transpiler.preset_passmanagers import generate_preset_pass_manager\n",
    "\n",
    "# Feel free to play around with these options\n",
    "##################################\n",
    "##################################\n",
    "##################################\n",
    "### Write your code below here ###\n",
    "your_name='YOURNAME'\n",
    "your_last_name='YOURLASTNAME'\n",
    "instruction_durations=None\n",
    "init_method=None\n",
    "initial_layout=None\n",
    "layout_method=None\n",
    "routing_method=None\n",
    "translation_method=None\n",
    "scheduling_method=None\n",
    "unitary_synthesis_method=None\n",
    "unitary_synthesis_plugin_config=None\n",
    "hls_config=None\n",
    "optimization_method=None\n",
    "seed=12345 #dont change the seed\n",
    "pm_hw = generate_preset_pass_manager(\n",
    "    optimization_level = 3,\n",
    "    backend=backend,\n",
    "    instruction_durations=instruction_durations,\n",
    "    init_method=init_method,\n",
    "    initial_layout=initial_layout,\n",
    "    layout_method=layout_method,\n",
    "    routing_method=routing_method,\n",
    "    translation_method=translation_method,\n",
    "    scheduling_method=scheduling_method,\n",
    "    unitary_synthesis_method=unitary_synthesis_method,\n",
    "    unitary_synthesis_plugin_config=unitary_synthesis_plugin_config,\n",
    "    hls_config=hls_config,\n",
    "    optimization_method=optimization_method\n",
    "    approximation_degree=0,\n",
    "    seed_transpiler=seed,\n",
    "    )\n",
    "\n",
    "### Don't change any code past this line ###\n",
    "##################################\n",
    "##################################\n",
    "##################################\n",
    "###############  Measure the start time of the transpilation process\n",
    "t0 = time.time()\n",
    "\n",
    "# Apply of the pass manager and name it as a circuit\n",
    "isa_circuit = pm_hw.run(ansatz, callback=callback_func)\n",
    "\n",
    "# Measure the end time of the transpilation process\n",
    "t1 = time.time()\n",
    "\n",
    "# Print transpilation time\n",
    "print(f\"Transpilation time: {t1 - t0} (s)\")\n",
    "\n",
    "circuit_characteristics(isa_circuit)\n",
    "save_pm_settings(isa_circuit)"
   ]
  },
  {
   "cell_type": "markdown",
   "id": "77efb949-cae6-46e2-90cd-081a726c1c89",
   "metadata": {},
   "source": [
    "**Tip**\n",
    "\n",
    "When working with quantum circuits, the process of transpilation involves many **stochastic passes, which means the results can vary each time you transpile the same circuit**. In practice, running the transpiler multiple times may lead to better results in terms of circuit depth, gate count, and overall optimization. This is because some of the randomization involved in the transpilation process might occasionally yield a more efficient circuit layout or routing. One effective method to achieve more predictable outcomes is to use the `seed_transpiler` option. By varying a seed, you can control the randomization of the transpilation process, making it easier to reproduce and compare results.\n",
    "\n",
    "Perform the process multiple times and keep the best outcome based on your chosen metric (e.g., minimal gate count, execution time). This can be achieved by running a loop over several transpilation attempts, each with a fixed seed, and selecting the most optimized circuit.\n",
    "\n",
    "### Task: Transpilation with Different Seeds\n",
    "\n",
    "**Try transpiling the circuit multiple times to observe variations in the results, then choose the most optimal one.**\n",
    "\n",
    "Here’s an example where we transpile a circuit multiple times, each time storing the result and comparing the transpiled circuits based on gate count:\n",
    "\n"
   ]
  },
  {
   "cell_type": "markdown",
   "id": "7e67ba5e-dbbe-458c-9bf1-92582a7362a5",
   "metadata": {},
   "source": [
    "<div class=\"alert alert-block alert-danger\">\n",
    "    \n",
    "⚠️ **Disclaimer on using this strategy:** \n",
    "\n",
    "While transpiling a circuit multiple times can lead to better optimization outcomes, it's important to be mindful of scalability issues. Transpiling multiple times can significantly increase the total runtime, especially for large circuits. This method is more appropriate for smaller circuits or when higher levels of optimization are essential. Additionally, each transpilation pass involves computational overhead, and for larger circuits or when scaling to many circuits, performing multiple trials could potentially result in the workflow becoming inefficient and unscalable.\n",
    "</div>"
   ]
  },
  {
   "cell_type": "markdown",
   "id": "c48f4198-e362-4a81-a62f-66923b849088",
   "metadata": {},
   "source": [
    "<a id=\"exercise2\"></a>\n",
    "<div class=\"alert alert-block alert-success\">\n",
    "    \n",
    "<!-- <b> Exercise 3: Transpile Multiple times</b>  -->\n",
    "\n",
    "It's time to explore the impact of running the transpiler multiple times. For this exercise, at least transpilation stages and transpile the same circuit multiple times, and aim to achieve an optimized version by selecting the best result from these  attempts. \n",
    "</div>"
   ]
  },
  {
   "cell_type": "code",
   "execution_count": null,
   "id": "11426d7b-f144-4172-8ca7-fa2458ee3d2c",
   "metadata": {
    "scrolled": true
   },
   "outputs": [],
   "source": [
    "import time\n",
    "from colorama import Fore, Style  # Ensure colorama is imported for colored output\n",
    "from IPython.display import clear_output\n",
    "# Initialize the depth to a large number for comparison\n",
    "depth = 2000\n",
    "\n",
    "# Record the starting time of the transpilation process\n",
    "t0 = time.time()\n",
    "\n",
    "# Loop over a range of seeds to find the best transpilation result\n",
    "depth_2q = 0\n",
    "seeds    = range(0,50)\n",
    "\n",
    "for seed in seeds:\n",
    "\n",
    "\n",
    "    ##################################\n",
    "    ### Write your code below here \n",
    "\n",
    "\n",
    "\n",
    "    \n",
    "    \n",
    "    ### Don't change any code past this line ###\n",
    "    ##################################\n",
    "\n",
    "    # Calculate the depth of the circuit, considering only two-qubit gates \n",
    "    tmp_depth_2q = isa_qc.depth(lambda x: x.operation.num_qubits==2)   ########### don't change this line\n",
    "    # If the new circuit depth is less than the current best depth, update the depth and save the circuit\n",
    "    if tmp_depth_2q < depth_2q or depth_2q==0:\n",
    "        print('Best seed:',seed)\n",
    "        print('2-quibit depth',tmp_depth_2q)\n",
    "\n",
    "        circuit_routed = isa_qc\n",
    "        depth_2q       = tmp_depth_2q\n",
    "        seed_selected  = seed\n",
    "\n",
    "\n",
    "\n",
    "    clear_output(wait=True)\n",
    "###############  Measure the start time of the transpilation process\n",
    "t1 = time.time()\n",
    "print('-------------------Optimal circuit--------------------')\n",
    "# Output the selected seed that resulted in the best transpilation result\n",
    "print(f'Seed selected: {seed_selected}')\n",
    "\n",
    "# Use the circuit with the best depth\n",
    "circuit = circuit_routed.decompose(reps = 2)\n",
    "# display(circuit)\n",
    "# Print transpilation time\n",
    "print(f\"Transpilation time: {t1 - t0} (s)\")\n",
    "\n",
    "# Output various metrics about the transpiled circuit\n",
    "print(f'Count Ops: {circuit.count_ops()}')\n",
    "print(f'Total circuit depth: {circuit.depth()}')\n",
    "print(f'Number of 2-qubit gates: {circuit.size(lambda x: x.operation.num_qubits == 2)}')\n",
    "\n",
    "# Output the score and depth specifically for 2-qubit gates, in color\n",
    "print(Fore.MAGENTA + Style.BRIGHT + f'2-qubit gate depth: {circuit.depth(lambda x: x.operation.num_qubits == 2)}')\n",
    "print(Fore.GREEN + f'Score: {score_func(circuit)}')"
   ]
  },
  {
   "cell_type": "markdown",
   "id": "235534cf",
   "metadata": {},
   "source": [
    "---\n",
    "---\n",
    "---\n",
    "---"
   ]
  },
  {
   "cell_type": "markdown",
   "id": "399ac601-ce82-4dd8-9fd8-d3bce072b45d",
   "metadata": {},
   "source": [
    "## 4. Leveraging AI in Transpilation\n",
    "\n",
    "For this section, we are providing you with beta access to the Qiskit Transpiler Service to experiment with the latest AI-powered transpiler capabilities in Qiskit. With this release, you can now leverage AI and IBM Cloud&reg; resources to optimize your quantum circuits more efficiently.\n",
    "\n",
    "The Qiskit Transpiler Service allows you to choose the level of AI-powered capablities in your transpilation process through the `ai` parameter, which can be set to `\"true\"`, `\"false\"`, or `\"auto\"`:\n",
    "- **\"true\"** enables AI-powered transpilation passes, such as AIRouting or AI-powered synthesis, based on the optimization level selected.\n",
    "- **\"false\"** limits the transpiler to the latest standard Qiskit features without AI intervention.\n",
    "- **\"auto\"** allows the service to decide between AI-powered or heuristic transpilation passes, depending on the complexity and structure of your circuit.\n",
    "\n",
    "In this step, you'll transpile and optimize your circuit using the Qiskit Transpiler Service. We will be using the Qiskit Transpiler Service, which provides both heuristic and AI-powered transpilation capabilities on the cloud. We can leverage running transpilation tasks to benefit from IBM Quantum™ cloud resources and advanced AI-powered transpiler passes. **For more information, refer to the Qiskit Transpiler Service [documentation.](https://docs.quantum.ibm.com/transpile/qiskit-transpiler-service)**\n",
    "\n",
    "\n",
    "We encourage you to explore these options to maximize the efficiency and performance of your quantum circuits on the IBM Quantum™ cloud.\n",
    "\n",
    "\n"
   ]
  },
  {
   "cell_type": "markdown",
   "id": "8250b166-164c-402f-ba12-b1cd17210818",
   "metadata": {},
   "source": [
    "<div class=\"alert alert-block alert-danger\">\n",
    "\n",
    "Please note, **these features are in beta**. Have fun experimenting and pushing the boundaries of quantum development, and let us know if you have any feedback on how to make this tool better!\n",
    "\n",
    "</div>"
   ]
  },
  {
   "cell_type": "markdown",
   "id": "4416d4bd-01d8-462b-8c29-920692d3e202",
   "metadata": {},
   "source": [
    "<a id=\"exercise4\"></a>\n",
    "<div class=\"alert alert-block alert-success\">\n",
    "    \n",
    "<b> Exercise 4: Exploring AI-powered transpilation</b> \n",
    "\n",
    "In this exercise, you'll use the Qiskit Transpiler Service with AI-powered transpilation. First, ensure you have the latest version of the Qiskit Transpiler Service installed. Continue using the `ibm_brisbane` backend and create a new transpiler configuration with `optimization_level = 3` and the AI flag enabled (use `ai=True`). Transpile your quantum circuit using this new configuration and compare the results (gate count, depth) with your previous transpilation. \n",
    "\n",
    "**Homework**, experiment embedding AI-powered passes like `AIRouting`, `AICliffordSynthesis`, `AILinearFunctionSynthesis`, and `AIPermutationSynthesis` using `PassManager`s. Documentation for the same can be found [here.](https://docs.quantum.ibm.com/guides/ai-transpiler-passes)\n",
    "</div> \n"
   ]
  },
  {
   "cell_type": "code",
   "execution_count": null,
   "id": "983bec77-6f4c-4404-988a-3df883876e4e",
   "metadata": {},
   "outputs": [],
   "source": [
    "# !pip install qiskit_ibm_transpiler\n",
    "# Setting up the Transpiler service\n",
    "from qiskit_ibm_transpiler import TranspilerService\n",
    "import time\n",
    "##################################\n",
    "### Write your code below here ###\n",
    "\n",
    "\n",
    "\n",
    "### Don't change any code past this line ###\n",
    "##################################\n",
    "\n",
    "###############  Measure the start time of the transpilation process\n",
    "t0_ai_transpile = time.time()\n",
    "\n",
    "# Run the pass manager to transpile the QAOA cost layer circuit\n",
    "circuit_ai_true = ts_ai.run(ansatz)\n",
    "\n",
    "# Measure the end time of the transpilation process\n",
    "t1_ai_transpile  = time.time()\n",
    "time_with_ai     = t1_ai_transpile - t0_ai_transpile"
   ]
  },
  {
   "cell_type": "markdown",
   "id": "377c5952-10c3-495b-bb01-a1e1249e303f",
   "metadata": {},
   "source": [
    "You can also use AI-powered transpiler passes as a drop-in custom pass in a staged pass manager. Read the [documentation](https://docs.quantum.ibm.com/guides/ai-transpiler-passes) for more details."
   ]
  },
  {
   "cell_type": "code",
   "execution_count": null,
   "id": "46d2c9cd-a066-40e6-9fab-3046a7508ab3",
   "metadata": {},
   "outputs": [],
   "source": [
    "# Extract information from the transpiled circuit\n",
    "circuit = circuit_ai_true\n",
    "\n",
    "circuit_characteristics(circuit);"
   ]
  },
  {
   "cell_type": "markdown",
   "id": "5a63cde5",
   "metadata": {},
   "source": [
    "Let's do it with a \"\"descent\"\"  pass manager\n",
    "\n"
   ]
  },
  {
   "cell_type": "code",
   "execution_count": null,
   "id": "fc80226d",
   "metadata": {},
   "outputs": [],
   "source": [
    "pm = generate_preset_pass_manager(backend            = backend,\n",
    "                                  layout_method      = 'sabre',\n",
    "                                  routing_method     = 'sabre',\n",
    "                                  translation_method = 'translator',\n",
    "                                  optimization_level =  1,\n",
    "                                  scheduling_method  = 'asap',\n",
    "                                  seed_transpiler    = 1000\n",
    "                                  )\n",
    "isa_qc = pm.run(ansatz)\n",
    "\n",
    "\n",
    "# Print transpilation time\n",
    "circuit_characteristics(isa_qc);"
   ]
  },
  {
   "cell_type": "markdown",
   "id": "8db68eaf-2d42-4049-bb69-bf3052b7210c",
   "metadata": {},
   "source": [
    "## 5. Diving Deeper into Transpilation Using Custom Pass Managers\n",
    "\n",
    "### Introduction to Transpilation Strategies: Cheat Sheet\n",
    "\n",
    "In quantum computing, optimizing circuits is crucial for improving the performance and accuracy of quantum algorithms on real hardware. While preset pass managers in Qiskit provide a solid foundation for general optimization, there are cases where more targeted, deeper strategies are needed to achieve better results. By customizing transpilation through specific strategies, you can refine circuit performance by reducing gate count, minimizing circuit depth, and optimizing qubit mapping for your specific hardware.\n",
    "\n",
    "Let us dive deeper into these strategies and leverage Qiskit SDK's `PassManager`, to experiment with various techniques to improve the efficiency of your circuits, enabling them to run more effectively on QPUs.\n",
    "\n",
    "### General Strategies Cheat Sheet\n",
    "\n",
    "| **Strategy**                             | **When to Use This Strategy?**                                                        | **Why?**                                                                                                                                        | **How Much Improvement?**                                                                                       | **Implementation**                                                                                                                        |\n",
    "|------------------------------------------|--------------------------------------------------------------------------------------|------------------------------------------------------------------------------------------------------------------------------------------------|-----------------------------------------------------------------------------------------------------------------|-----------------------------------------------------------------------------------------------------------------------------------------|\n",
    "| **Try transpiling multiple times**       | Always (May not be needed in most cases now. Use `SabreLayout` and increase `trial_count` argument instead.) | Many transpilation passes are stochastic. Running the transpiler multiple times may result in better outcomes.                                                     | Transpile multiple times in a loop and keep the best result.                                                   | Utilize a loop or a genetic algorithm to mutate and evolve a better transpiler workflow.                                                                       |\n",
    "| **Experiment with different synthesis methods** | When working with high-level objects that have multiple synthesis options (e.g., Cliffords, LinearFunctions, MCX gates, sequences of Pauli rotations) | Different synthesis methods can produce circuits with varying depths and gate counts without changing the operator. | Can optimize circuit depth and size without modifying functionality. | Specify different synthesis methods using `hls_config` in Qiskit. |\n",
    "| **Dropping the final Clifford (operator backpropagation)** | When measuring an observable                                                  | Can potentially reduce the circuit depth with minimal overhead cost. | May help optimize depth without much extra complexity. | Implement operator backpropagation by rearranging gate sequences.                                                                                                                                         |\n",
    "| **Use approximation degree**               | For deep circuits                                                                    | Deep circuits often accumulate noise, so trading off accuracy with fewer gates/errors may improve results.         | Can reduce the depth by optimizing gates based on the error rates of qubit gates. | Use `approximation_degree='none'` or set it based on hardware error rates.                                                                                                                                         |\n",
    "| **Apply dynamical decoupling**              | For devices with high crosstalk errors (e.g., Eagle); may not be effective in all devices            | Dynamical decoupling can suppress crosstalk errors between qubits.                                                                                               | Potential improvements for specific hardware architectures. | Use Qiskit Runtime’s dynamical decoupling capabilities or create a custom decoupling pass.                                                                                                                              |\n",
    "| **Numerical approximate methods**        | Large networks of CNOTs or Clifford gates                                             | Useful when dealing with many gates on relatively few qubits.                                                                                           | Can simplify circuits with large gate counts. | Explore numerical approximation methods for gate simplification.                                                                                                                                         |\n",
    "| **Use SabrePreLayout**                   |  When the quality of the circuit (both size and depth) is more important than the transpilation runtime        | Helps reduce overall circuit depth by optimizing layout before routing.                                                                                               | Useful when depth is a more critical factor than size. | Useful for niche set of applications                                       |\n",
    "| **Leverage Pauli synthesis tools**       | For circuits with large sequences of multi-qubit Pauli rotations or Trotter decomposition problems. | Optimizing Pauli rotations can significantly reduce circuit depth, especially in hardware with limited connectivity. | May result in substantial depth reduction in circuits with many Pauli rotations. | Use Pauli synthesis tools in Qiskit or Rustiq for Trotter circuits.                                                                                             |\n",
    "| **Use approximation degree** |\tFor deep circuits where a trade-off between accuracy and circuit depth is acceptable (Approximates the operator)\t| Trading off accuracy with fewer gates/lower depth may improve results. |\tCan significantly reduce depth by allowing approximate gate synthesis.\t| Use the approximation_degree parameter in Qiskit's transpiler. |\n",
    "\n",
    "\n",
    "\n",
    "---\n",
    "\n",
    "\n"
   ]
  },
  {
   "cell_type": "markdown",
   "id": "87f79ca9-eb7b-4d57-add6-05d9dcb45f09",
   "metadata": {},
   "source": [
    "### Applying Transpilation Strategies Using Custom and Staged Pass Managers\n",
    "\n",
    "In this section, you’ll learn how to integrate these optimization strategies into your custom pass manager to improve your quantum circuit. In Qiskit SDK, Custom `PassManagers` allow fine-grained control over the transpilation process by enabling users to define a specific sequence of optimization and transformation passes. These passes can target specific goals such as reducing circuit depth, improving fidelity, or adapting to the hardware topology.  By applying a combination of these methods, you can see how each strategy contributes to the overall circuit efficiency, making it more suitable for execution on IBM Quantum backends.\n",
    "\n",
    "The `StagedPassManager` organizes the transpilation workflow into distinct stages, each stage being a `PassManager` focusing on different optimization goals, such as initial layout selection, gate reduction, or final qubit mapping. This staged approach allows for incremental improvements and conditional passes that apply only when necessary, offering a structured way to fine-tune the balance between execution speed and circuit fidelity. Together, the custom `PassManager` and `StagedPassManager` enable deeper exploration of transpilation strategies, giving developers full control over the optimization process to create circuits best suited for specific hardware constraints.\n",
    "\n",
    "### Custom Pass Managers\n",
    "\n",
    "As mentioned above, a **`PassManager`** allows you to apply a sequence of optimization passes to a quantum circuit, transforming it for more efficient execution on quantum hardware. By creating a custom pass manager, you can tailor the optimization to your circuit's specific needs, achieving deeper optimization compared to the preset configurations. Let's look at how we can create a custom `PassManager` and apply it to a workflow.\n",
    "\n",
    "#### Example: Creating a Custom Pass Manager\n",
    "\n",
    "To create a custom pass manager, you can combine various strategies together to form a transformation. Here is an example using `Collect2qBlocks`, `ConsolidateBlocks`, and `UnitarySynthesis` to optimize the circuit. You can refer to the [documentation](https://docs.quantum.ibm.com/api/qiskit/transpiler_passes) to know more about their transformation.\n"
   ]
  },
  {
   "cell_type": "code",
   "execution_count": null,
   "id": "b09aa562",
   "metadata": {},
   "outputs": [],
   "source": [
    "backend.operation_names"
   ]
  },
  {
   "cell_type": "code",
   "execution_count": 55,
   "id": "98ac7c12-24ee-4e6f-9cb4-430f94e5cfa6",
   "metadata": {},
   "outputs": [],
   "source": [
    "from qiskit.transpiler import PassManager\n",
    "# Optimization pass managers\n",
    "from qiskit.transpiler.passes import Collect2qBlocks, ConsolidateBlocks\n",
    "# Routing pass managers\n",
    "from qiskit.transpiler.passes import BasicSwap, LookaheadSwap, StochasticSwap,SabreLayout, Commuting2qGateRouter,StarPreRouting\n",
    "# Translation pass managers\n",
    "from qiskit.transpiler.passes import  UnitarySynthesis, BasisTranslator\n",
    "\n",
    "# Show example \n",
    "basis_gates = [\"x\", \"sx\", \"ecr\",\"rz\"]\n",
    "\n",
    "custom_pass_manager = PassManager([Collect2qBlocks(), #optimization\n",
    "                                   ConsolidateBlocks(basis_gates=basis_gates), # optimization\n",
    "                                   UnitarySynthesis(basis_gates) #init stage\n",
    "                                   ])\n"
   ]
  },
  {
   "cell_type": "markdown",
   "id": "eb12635d-df3a-416a-98e9-2a2e2028db48",
   "metadata": {},
   "source": [
    "You can then apply this custom pass manager to a circuit using its run method."
   ]
  },
  {
   "cell_type": "code",
   "execution_count": null,
   "id": "d83ab3f4-6b92-453c-aab2-c39331ad05a5",
   "metadata": {},
   "outputs": [],
   "source": [
    "\n",
    "###############  Measure the start time of the transpilation process\n",
    "t0 = time.time()\n",
    "\n",
    "# Run the pass manager to transpile the QAOA cost layer circuit\n",
    "transpiled_circuit = custom_pass_manager.run(ansatz)\n",
    "transpiled_circuit = transpiled_circuit.decompose(reps=4)\n",
    "\n",
    "# Measure the end time of the transpilation process\n",
    "t1 = time.time()\n",
    "\n",
    "# Print transpilation time\n",
    "print(f\"Transpilation time: {t1-t0} (s)\")\n",
    "\n",
    "display(transpiled_circuit.draw(output=\"mpl\",idle_wires=False, fold=-1,scale=0.5))\n",
    "circuit_characteristics(transpiled_circuit);"
   ]
  },
  {
   "cell_type": "code",
   "execution_count": null,
   "id": "d5060a55",
   "metadata": {},
   "outputs": [],
   "source": [
    "custom_pass_manager2 = PassManager([StochasticSwap(coupling_map=backend.coupling_map, seed=12345)])\n",
    "isa_pm2  = custom_pass_manager2.run(transpiled_circuit)\n",
    "display(isa_pm2.draw(idle_wires=False, fold=-1,scale=0.5))\n",
    "circuit_characteristics(isa_pm2);"
   ]
  },
  {
   "cell_type": "code",
   "execution_count": null,
   "id": "583145e9",
   "metadata": {},
   "outputs": [],
   "source": [
    "from qiskit.circuit.equivalence_library import SessionEquivalenceLibrary\n",
    "\n",
    "custom_pass_manager3 = PassManager(BasisTranslator(target_basis = basis_gates, \n",
    "                                                   equivalence_library = SessionEquivalenceLibrary))\n",
    "isa_pm3  = custom_pass_manager3.run(isa_pm2)\n",
    "\n",
    "display(isa_pm3.draw(idle_wires=False, fold=-1,scale=0.15))\n",
    "\n",
    "circuit_characteristics(isa_pm3);"
   ]
  },
  {
   "cell_type": "markdown",
   "id": "4acfa91a-db79-4ded-a065-e63539aefa67",
   "metadata": {},
   "source": [
    "### Staged Pass Managers\n",
    "With a **staged pass manager**, you can organize multiple `PassManagers` into distinct stages of transpilation, such as **initialization, layout, routing, translation, optimization, and scheduling**. This provides more flexibility in how the transpilation process is structured.\n",
    "\n",
    "You can create a staged pass manager by defining stages and assigning pass managers to each stage:"
   ]
  },
  {
   "cell_type": "code",
   "execution_count": 72,
   "id": "22401538-2e2e-4d4c-bbaf-63f4df87877f",
   "metadata": {},
   "outputs": [],
   "source": [
    "from qiskit.transpiler import PassManager, StagedPassManager\n",
    "from qiskit.transpiler.passes import UnitarySynthesis, Unroll3qOrMore\n",
    "# Preset pass manager is the staged pass manager and flow from there. Use the preset passmanager and swap a stage\n",
    "init_pm      = PassManager([UnitarySynthesis(basis_gates=basis_gates, min_qubits=3), \n",
    "                            Unroll3qOrMore()])\n",
    "\n",
    "translate_pm = PassManager([Collect2qBlocks(), \n",
    "                            ConsolidateBlocks(basis_gates=basis_gates)])\n",
    "\n",
    "staged_pass_manager = StagedPassManager(stages=[\"init\", \"translation\"], init=init_pm, translation=translate_pm)"
   ]
  },
  {
   "cell_type": "code",
   "execution_count": null,
   "id": "7308d6b3-7935-471d-96c6-5e84fa143d6d",
   "metadata": {
    "scrolled": true
   },
   "outputs": [],
   "source": [
    "###############  Measure the start time of the transpilation process\n",
    "t0 = time.time()\n",
    "\n",
    "# Run the pass manager to transpile the QAOA cost layer circuit\n",
    "transpiled_circuit = staged_pass_manager.run(ansatz)\n",
    "\n",
    "# Measure the end time of the transpilation process\n",
    "t1 = time.time()\n",
    "\n",
    "# Print the total transpilation time\n",
    "print(f\"transpilation time: {t1 - t0:.2f} (s)\")\n",
    "transpiled_circuit.decompose().draw(output=\"mpl\",idle_wires=False, fold=-1,scale=0.5)\n",
    "circuit_characteristics(transpiled_circuit)"
   ]
  },
  {
   "cell_type": "markdown",
   "id": "651c6cf8-b677-4d3d-9b23-cd216112c2a7",
   "metadata": {},
   "source": [
    "**Now that you have learned how to create a custom `PassManager`, `StagedPassManager`, and AI-assisted passes, let us put it to test on our cost function circuit.**\n",
    "\n"
   ]
  },
  {
   "cell_type": "markdown",
   "id": "c7cdeb13-020e-403e-a1fe-e4acee14ae29",
   "metadata": {},
   "source": [
    "### Optional Homework 2 \n",
    "<div class=\"alert alert-block alert-success\">\n",
    "\n",
    "<a id=\"exercise5\"></a>\n",
    "\n",
    "<b> Exercise 5: Exploring custom pass managers</b> \n",
    "\n",
    "In the next exercise, use all of the above techniques to get to a better score for optimizing the QAOA cost function circuit. This exercise will help you appreciate how the advanced optimization techniques provided by the Qiskit SDK's transpiler enhance the performance of quantum circuits. It will also provide a foundation for experimenting with more complex customizations in the Track B version of this notebook.\n",
    "\n",
    "**Challenge:**\n",
    "1. Use a preset `PassManager` or a custom `PassManager` to optimize the QAOA cost function transpilation as much as possible. You can experiment to design your own `StagedPassManager` and integrate your custom `PassManager` workflow.\n",
    "2. Try to achieve the best possible performance by experimenting with different combinations of passes.\n",
    "3. Feel free to make use of AI-powered transpiler passes or external plugins from the [Qiskit ecosystem](https://www.ibm.com/quantum/ecosystem?tag=Transpiler+plugin) to acheive the same.\n",
    "\n",
    "**Hint:**  \n",
    "Remember that sometimes adding too many passes can lead to diminishing returns or even degrade performance. Aim for a balance! Once you've finalized your pass manager, submit your optimized circuit for grading.\n",
    "\n",
    "**Let’s apply these strategies to optimize your QAOA circuit!**\n",
    "</div> \n"
   ]
  },
  {
   "cell_type": "markdown",
   "id": "6a78bc8d-532f-4a1b-b833-18a084a7dd9d",
   "metadata": {},
   "source": [
    "\n",
    "\n",
    "\n",
    "\n",
    "#### Useful Resources for Transpiler Passes\n",
    "\n",
    "- General documentation for passes: [Qiskit Transpiler Passes Documentation](https://docs.quantum.ibm.com/api/qiskit/transpiler_passes)\n",
    "\n",
    "#### Specific Pass Categories:\n",
    "- **Layout Passes**: [Layout Passes](https://github.com/Qiskit/qiskit/tree/main/qiskit/transpiler/passes/layout)\n",
    "- **Routing Passes**: [Routing Passes](https://github.com/Qiskit/qiskit/tree/main/qiskit/transpiler/passes/routing)\n",
    "- **Translation Passes**: [Translation Passes](https://github.com/Qiskit/qiskit/tree/main/qiskit/transpiler/passes/synthesis)\n",
    "- **Optimization Passes**: [Optimization Passes](https://github.com/Qiskit/qiskit/tree/main/qiskit/transpiler/passes/optimization)\n"
   ]
  },
  {
   "cell_type": "code",
   "execution_count": null,
   "id": "b1d1b834-ca94-438b-a7ea-1801a84b1d3b",
   "metadata": {
    "scrolled": true
   },
   "outputs": [],
   "source": [
    "# Import necessary libraries and transpiler passes\n",
    "from qiskit.circuit import SessionEquivalenceLibrary\n",
    "from qiskit.transpiler import PassManager, StagedPassManager\n",
    "from qiskit.transpiler.preset_passmanagers import generate_preset_pass_manager\n",
    "from qiskit.transpiler.preset_passmanagers.common import generate_unroll_3q, generate_embed_passmanager\n",
    "from qiskit.transpiler.passes.layout import (\n",
    "    CSPLayout, DenseLayout, SabreLayout, VF2Layout, TrivialLayout\n",
    ")\n",
    "from qiskit.transpiler.passes.routing import (\n",
    "    BasicSwap, LookaheadSwap, SabreSwap, StochasticSwap, StarPreRouting\n",
    ")\n",
    "from qiskit.transpiler.passes.basis import BasisTranslator\n",
    "from qiskit.transpiler.passes.optimization import (\n",
    "    CommutativeCancellation, ConsolidateBlocks, Collect2qBlocks, Collect1qRuns, Optimize1qGates, Optimize1qGatesDecomposition, Optimize1qGatesSimpleCommutation\n",
    ")\n",
    "from qiskit.transpiler.passes.synthesis import UnitarySynthesis, HighLevelSynthesis\n",
    "\n",
    "\n",
    "# Set up coupling map for transpilation stages\n",
    "cm = backend.coupling_map\n",
    "\n",
    "### Write your code below here ###\n",
    "\n",
    "# Suggestive template, feel free to change!\n",
    "\n",
    "# # Initialize a staged pass manager\n",
    "pm_ex5 = generate_preset_pass_manager(backend=backend, optimization_level=1, seed_transpiler = 12345)\n",
    "\n",
    "# # Step 1: Initialization - Replace n-qubit QAOA operations with their 2-qubit gate decompositions\n",
    "# pm_ex5.init = None\n",
    "\n",
    "# # Step 2: Layout - Initialize PassManager for layout and apply layout passs\n",
    "# pm_ex5.layout = None\n",
    "\n",
    "# # Step 3: Routing - Configure routing passes for qubit routing \n",
    "# pm_ex5.routing = None\n",
    "\n",
    "# # Step 4: Translation - Translate gates into the target basis supported by the backend\n",
    "# pm_ex5.translation = None\n",
    "\n",
    "# # Step 5: Optimization - Add passes for optimizations\n",
    "# pm_ex5.optimization =None\n",
    "\n",
    "# # Step 6: Scheduling - Add passes for scheduling\n",
    "# pm_ex5.scheduling = None\n",
    "\n",
    "\n",
    "### Don't change any code past this line ###\n",
    "\n",
    "###############  Measure the start time of the transpilation process\n",
    "t0 = time.time()\n",
    "\n",
    "# Run the pass manager to transpile the QAOA cost layer circuit\n",
    "pm_aprox_transpiled_qaoa = pm_ex5.run(cost_layer, callback=callback_func)\n",
    "\n",
    "# Measure the end time of the transpilation process\n",
    "t1 = time.time()\n",
    "\n",
    "# Print transpilation time\n",
    "print(f\"Transpilation time: {t1 - t0:.2f} seconds\")"
   ]
  },
  {
   "cell_type": "code",
   "execution_count": null,
   "id": "bc15f692-6f73-4279-82d2-81e07d953a7f",
   "metadata": {},
   "outputs": [],
   "source": [
    "circuit = pm_aprox_transpiled_qaoa\n",
    "\n",
    "# Output various metrics about the transpiled circuit\n",
    "print(f'Count Ops: {circuit.count_ops()}')\n",
    "print(f'Total circuit depth: {circuit.depth()}')\n",
    "print(f'Number of 2-qubit gates: {circuit.size(lambda x: x.operation.num_qubits == 2)}')\n",
    "\n",
    "# Output the score and depth specifically for 2-qubit gates, in color\n",
    "print(Fore.MAGENTA + Style.BRIGHT + f'2-qubit gate depth: {circuit.depth(lambda x: x.operation.num_qubits == 2)}')\n",
    "print(Fore.GREEN + f'Score: {score_func(circuit)}')"
   ]
  },
  {
   "cell_type": "markdown",
   "id": "d4f17696-826d-4fa6-a56e-28496a3508a0",
   "metadata": {},
   "source": [
    "# Additional information\n",
    "\n",
    "**Created by:** Raúl Guerrero-Avilés, Junye Huang.\n",
    "\n",
    "\n",
    "**Version:** 1.0.0"
   ]
  }
 ],
 "metadata": {
  "kernelspec": {
   "display_name": "QC_raul",
   "language": "python",
   "name": "python3"
  },
  "language_info": {
   "codemirror_mode": {
    "name": "ipython",
    "version": 3
   },
   "file_extension": ".py",
   "mimetype": "text/x-python",
   "name": "python",
   "nbconvert_exporter": "python",
   "pygments_lexer": "ipython3",
   "version": "3.12.3"
  }
 },
 "nbformat": 4,
 "nbformat_minor": 5
}
